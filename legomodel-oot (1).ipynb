{
 "cells": [
  {
   "cell_type": "markdown",
   "metadata": {},
   "source": [
    "# Configuration"
   ]
  },
  {
   "cell_type": "code",
   "execution_count": 1,
   "metadata": {
    "scrolled": true
   },
   "outputs": [
    {
     "name": "stdout",
     "output_type": "stream",
     "text": [
      "Defaulting to user installation because normal site-packages is not writeable\n",
      "Looking in indexes: https://mirrors.ustc.edu.cn/pypi/web/simple\n",
      "Requirement already satisfied: numpy in /home/emr-notebook/.local/lib/python3.7/site-packages (1.21.4)\n",
      "Collecting numpy\n",
      "  Downloading https://mirrors.bfsu.edu.cn/pypi/web/packages/50/46/292cff79f5b30151b027400efdb3f740ea03271b600751b6696cf550c10d/numpy-1.21.5-cp37-cp37m-manylinux_2_12_x86_64.manylinux2010_x86_64.whl (15.7 MB)\n",
      "\u001b[K     |████████████████████████████████| 15.7 MB 12.2 MB/s eta 0:00:01    |██████▉                         | 3.4 MB 12.2 MB/s eta 0:00:02\n",
      "\u001b[?25hInstalling collected packages: numpy\n",
      "  Attempting uninstall: numpy\n",
      "    Found existing installation: numpy 1.21.4\n",
      "    Uninstalling numpy-1.21.4:\n",
      "      Successfully uninstalled numpy-1.21.4\n",
      "\u001b[33m  WARNING: The scripts f2py, f2py3 and f2py3.7 are installed in '/home/emr-notebook/.local/bin' which is not on PATH.\n",
      "  Consider adding this directory to PATH or, if you prefer to suppress this warning, use --no-warn-script-location.\u001b[0m\n",
      "\u001b[31mERROR: pip's dependency resolver does not currently take into account all the packages that are installed. This behaviour is the source of the following dependency conflicts.\n",
      "hdijupyterutils 0.18.0 requires jupyter>=1, which is not installed.\n",
      "hdijupyterutils 0.18.0 requires mock, which is not installed.\n",
      "hdijupyterutils 0.18.0 requires nose, which is not installed.\u001b[0m\n",
      "Successfully installed numpy-1.21.5\n",
      "Defaulting to user installation because normal site-packages is not writeable\n",
      "Looking in indexes: https://mirrors.ustc.edu.cn/pypi/web/simple\n",
      "Requirement already satisfied: matplotlib in /home/emr-notebook/.local/lib/python3.7/site-packages (3.4.3)\n",
      "Requirement already satisfied: python-dateutil>=2.7 in /mnt/notebook-env/lib/python3.7/site-packages (from matplotlib) (2.8.1)\n",
      "Requirement already satisfied: kiwisolver>=1.0.1 in /home/emr-notebook/.local/lib/python3.7/site-packages (from matplotlib) (1.3.2)\n",
      "Requirement already satisfied: numpy>=1.16 in /home/emr-notebook/.local/lib/python3.7/site-packages (from matplotlib) (1.21.5)\n",
      "Requirement already satisfied: cycler>=0.10 in /home/emr-notebook/.local/lib/python3.7/site-packages (from matplotlib) (0.11.0)\n",
      "Requirement already satisfied: pillow>=6.2.0 in /home/emr-notebook/.local/lib/python3.7/site-packages (from matplotlib) (8.4.0)\n",
      "Requirement already satisfied: pyparsing>=2.2.1 in /mnt/notebook-env/lib/python3.7/site-packages (from matplotlib) (2.4.7)\n",
      "Requirement already satisfied: six>=1.5 in /mnt/notebook-env/lib/python3.7/site-packages (from python-dateutil>=2.7->matplotlib) (1.15.0)\n",
      "Defaulting to user installation because normal site-packages is not writeable\n",
      "Looking in indexes: https://mirrors.ustc.edu.cn/pypi/web/simple\n",
      "Requirement already satisfied: joblib in /home/emr-notebook/.local/lib/python3.7/site-packages (1.1.0)\n",
      "Defaulting to user installation because normal site-packages is not writeable\n",
      "Looking in indexes: https://mirrors.ustc.edu.cn/pypi/web/simple\n",
      "Requirement already satisfied: pyspark==3.1.1 in /home/emr-notebook/.local/lib/python3.7/site-packages (3.1.1)\n",
      "Requirement already satisfied: py4j==0.10.9 in /home/emr-notebook/.local/lib/python3.7/site-packages (from pyspark==3.1.1) (0.10.9)\n",
      "Defaulting to user installation because normal site-packages is not writeable\n",
      "Looking in indexes: https://mirrors.ustc.edu.cn/pypi/web/simple\n",
      "Requirement already satisfied: sklearn in /home/emr-notebook/.local/lib/python3.7/site-packages (0.0)\n",
      "Requirement already satisfied: scikit-learn in /home/emr-notebook/.local/lib/python3.7/site-packages (from sklearn) (1.0.1)\n",
      "Requirement already satisfied: numpy>=1.14.6 in /home/emr-notebook/.local/lib/python3.7/site-packages (from scikit-learn->sklearn) (1.21.5)\n",
      "Requirement already satisfied: threadpoolctl>=2.0.0 in /home/emr-notebook/.local/lib/python3.7/site-packages (from scikit-learn->sklearn) (3.0.0)\n",
      "Requirement already satisfied: scipy>=1.1.0 in /home/emr-notebook/.local/lib/python3.7/site-packages (from scikit-learn->sklearn) (1.7.1)\n",
      "Requirement already satisfied: joblib>=0.11 in /home/emr-notebook/.local/lib/python3.7/site-packages (from scikit-learn->sklearn) (1.1.0)\n",
      "Defaulting to user installation because normal site-packages is not writeable\n",
      "Looking in indexes: https://mirrors.ustc.edu.cn/pypi/web/simple\n",
      "Requirement already satisfied: scikit-learn in /home/emr-notebook/.local/lib/python3.7/site-packages (1.0.1)\n",
      "Requirement already satisfied: threadpoolctl>=2.0.0 in /home/emr-notebook/.local/lib/python3.7/site-packages (from scikit-learn) (3.0.0)\n",
      "Requirement already satisfied: scipy>=1.1.0 in /home/emr-notebook/.local/lib/python3.7/site-packages (from scikit-learn) (1.7.1)\n",
      "Requirement already satisfied: numpy>=1.14.6 in /home/emr-notebook/.local/lib/python3.7/site-packages (from scikit-learn) (1.21.5)\n",
      "Requirement already satisfied: joblib>=0.11 in /home/emr-notebook/.local/lib/python3.7/site-packages (from scikit-learn) (1.1.0)\n",
      "Defaulting to user installation because normal site-packages is not writeable\n",
      "Looking in indexes: https://mirrors.ustc.edu.cn/pypi/web/simple\n",
      "Requirement already satisfied: lightgbm in /home/emr-notebook/.local/lib/python3.7/site-packages (3.3.1)\n",
      "Requirement already satisfied: scikit-learn!=0.22.0 in /home/emr-notebook/.local/lib/python3.7/site-packages (from lightgbm) (1.0.1)\n",
      "Requirement already satisfied: scipy in /home/emr-notebook/.local/lib/python3.7/site-packages (from lightgbm) (1.7.1)\n",
      "Requirement already satisfied: numpy in /home/emr-notebook/.local/lib/python3.7/site-packages (from lightgbm) (1.21.5)\n",
      "Requirement already satisfied: wheel in /mnt/notebook-env/lib/python3.7/site-packages (from lightgbm) (0.36.2)\n",
      "Requirement already satisfied: joblib>=0.11 in /home/emr-notebook/.local/lib/python3.7/site-packages (from scikit-learn!=0.22.0->lightgbm) (1.1.0)\n",
      "Requirement already satisfied: threadpoolctl>=2.0.0 in /home/emr-notebook/.local/lib/python3.7/site-packages (from scikit-learn!=0.22.0->lightgbm) (3.0.0)\n",
      "Defaulting to user installation because normal site-packages is not writeable\n",
      "Looking in indexes: https://mirrors.ustc.edu.cn/pypi/web/simple\n",
      "Requirement already satisfied: PyArrow in /home/emr-notebook/.local/lib/python3.7/site-packages (6.0.0)\n",
      "Requirement already satisfied: numpy>=1.16.6 in /home/emr-notebook/.local/lib/python3.7/site-packages (from PyArrow) (1.21.5)\n",
      "Defaulting to user installation because normal site-packages is not writeable\n",
      "Looking in indexes: https://mirrors.ustc.edu.cn/pypi/web/simple\n",
      "Requirement already satisfied: scikit-plot in /home/emr-notebook/.local/lib/python3.7/site-packages (0.3.7)\n",
      "Requirement already satisfied: scikit-learn>=0.18 in /home/emr-notebook/.local/lib/python3.7/site-packages (from scikit-plot) (1.0.1)\n",
      "Requirement already satisfied: joblib>=0.10 in /home/emr-notebook/.local/lib/python3.7/site-packages (from scikit-plot) (1.1.0)\n",
      "Requirement already satisfied: scipy>=0.9 in /home/emr-notebook/.local/lib/python3.7/site-packages (from scikit-plot) (1.7.1)\n",
      "Requirement already satisfied: matplotlib>=1.4.0 in /home/emr-notebook/.local/lib/python3.7/site-packages (from scikit-plot) (3.4.3)\n",
      "Requirement already satisfied: pillow>=6.2.0 in /home/emr-notebook/.local/lib/python3.7/site-packages (from matplotlib>=1.4.0->scikit-plot) (8.4.0)\n",
      "Requirement already satisfied: pyparsing>=2.2.1 in /mnt/notebook-env/lib/python3.7/site-packages (from matplotlib>=1.4.0->scikit-plot) (2.4.7)\n",
      "Requirement already satisfied: kiwisolver>=1.0.1 in /home/emr-notebook/.local/lib/python3.7/site-packages (from matplotlib>=1.4.0->scikit-plot) (1.3.2)\n",
      "Requirement already satisfied: cycler>=0.10 in /home/emr-notebook/.local/lib/python3.7/site-packages (from matplotlib>=1.4.0->scikit-plot) (0.11.0)\n",
      "Requirement already satisfied: numpy>=1.16 in /home/emr-notebook/.local/lib/python3.7/site-packages (from matplotlib>=1.4.0->scikit-plot) (1.21.5)\n",
      "Requirement already satisfied: python-dateutil>=2.7 in /mnt/notebook-env/lib/python3.7/site-packages (from matplotlib>=1.4.0->scikit-plot) (2.8.1)\n",
      "Requirement already satisfied: six>=1.5 in /mnt/notebook-env/lib/python3.7/site-packages (from python-dateutil>=2.7->matplotlib>=1.4.0->scikit-plot) (1.15.0)\n",
      "Requirement already satisfied: threadpoolctl>=2.0.0 in /home/emr-notebook/.local/lib/python3.7/site-packages (from scikit-learn>=0.18->scikit-plot) (3.0.0)\n"
     ]
    },
    {
     "name": "stdout",
     "output_type": "stream",
     "text": [
      "Defaulting to user installation because normal site-packages is not writeable\n",
      "Looking in indexes: https://mirrors.ustc.edu.cn/pypi/web/simple\n",
      "Requirement already satisfied: cython in /home/emr-notebook/.local/lib/python3.7/site-packages (0.29.24)\n",
      "Defaulting to user installation because normal site-packages is not writeable\n",
      "Looking in indexes: https://mirrors.ustc.edu.cn/pypi/web/simple\n",
      "Requirement already satisfied: pandas in /mnt/notebook-env/lib/python3.7/site-packages (1.2.3)\n",
      "Requirement already satisfied: python-dateutil>=2.7.3 in /mnt/notebook-env/lib/python3.7/site-packages (from pandas) (2.8.1)\n",
      "Requirement already satisfied: pytz>=2017.3 in /mnt/notebook-env/lib/python3.7/site-packages (from pandas) (2021.1)\n",
      "Requirement already satisfied: numpy>=1.16.5 in /home/emr-notebook/.local/lib/python3.7/site-packages (from pandas) (1.21.5)\n",
      "Requirement already satisfied: six>=1.5 in /mnt/notebook-env/lib/python3.7/site-packages (from python-dateutil>=2.7.3->pandas) (1.15.0)\n",
      "Defaulting to user installation because normal site-packages is not writeable\n",
      "Looking in indexes: https://mirrors.ustc.edu.cn/pypi/web/simple\n",
      "Requirement already satisfied: findspark in /home/emr-notebook/.local/lib/python3.7/site-packages (1.4.2)\n"
     ]
    }
   ],
   "source": [
    "!/emr/notebook-env/bin/pip3 install --upgrade -i https://mirrors.ustc.edu.cn/pypi/web/simple numpy\n",
    "!/emr/notebook-env/bin/pip3 install -i https://mirrors.ustc.edu.cn/pypi/web/simple matplotlib\n",
    "!/emr/notebook-env/bin/pip3 install -i https://mirrors.ustc.edu.cn/pypi/web/simple joblib\n",
    "!/emr/notebook-env/bin/pip3 install -i https://mirrors.ustc.edu.cn/pypi/web/simple pyspark==3.1.1\n",
    "!/emr/notebook-env/bin/pip3 install -i https://mirrors.ustc.edu.cn/pypi/web/simple sklearn\n",
    "!/emr/notebook-env/bin/pip3 install -i https://mirrors.ustc.edu.cn/pypi/web/simple scikit-learn\n",
    "!/emr/notebook-env/bin/pip3 install -i https://mirrors.ustc.edu.cn/pypi/web/simple lightgbm\n",
    "!/emr/notebook-env/bin/pip3 install -i https://mirrors.ustc.edu.cn/pypi/web/simple PyArrow\n",
    "!/emr/notebook-env/bin/pip3 install -i https://mirrors.ustc.edu.cn/pypi/web/simple scikit-plot\n",
    "!/emr/notebook-env/bin/pip3 install -i https://mirrors.ustc.edu.cn/pypi/web/simple cython\n",
    "!/emr/notebook-env/bin/pip3 install -i https://mirrors.ustc.edu.cn/pypi/web/simple pandas\n",
    "!/emr/notebook-env/bin/pip3 install -i https://mirrors.ustc.edu.cn/pypi/web/simple findspark"
   ]
  },
  {
   "cell_type": "code",
   "execution_count": 2,
   "metadata": {},
   "outputs": [
    {
     "data": {
      "text/html": [
       "<style>.container { width:100% !important; }</style>"
      ],
      "text/plain": [
       "<IPython.core.display.HTML object>"
      ]
     },
     "metadata": {},
     "output_type": "display_data"
    }
   ],
   "source": [
    "from IPython.core.interactiveshell import InteractiveShell\n",
    "InteractiveShell.ast_node_interactivity = \"all\"\n",
    "\n",
    "from IPython.core.display import display, HTML\n",
    "display(HTML(\"<style>.container { width:100% !important; }</style>\"))"
   ]
  },
  {
   "cell_type": "code",
   "execution_count": 3,
   "metadata": {},
   "outputs": [],
   "source": [
    "import sys, random, math, os, time, glob\n",
    "from datetime import datetime, date, timedelta\n",
    "import pytz\n",
    "from dateutil.relativedelta import *\n",
    "import numpy as np  \n",
    "import matplotlib.pyplot as plt\n",
    "import pandas as pd\n",
    "import logging\n",
    "from collections import namedtuple, deque\n",
    "import plotly.express as px\n",
    "import plotly.graph_objects as go\n",
    "from plotly.subplots import make_subplots\n",
    "\n",
    "pd.set_option('display.max_rows', 500)\n",
    "pd.set_option('display.max_columns', 500)\n",
    "pd.set_option('display.max_colwidth', 5000)\n",
    "pd.options.display.float_format = '{:,.2f}'.format\n",
    "# pd.set_option('display.width', 1000)\n",
    "\n",
    "if 0:\n",
    "    import torch\n",
    "    import torch.nn as nn\n",
    "    import torch.optim as optim\n",
    "    from torch.optim import Adam\n",
    "    import torch.nn.functional as TF\n",
    "    from torch.autograd import Variable\n",
    "    from torch.distributions.categorical import Categorical\n",
    "    torch.set_printoptions(precision=3)\n",
    "\n",
    "np.set_printoptions(suppress=True, precision=5)\n",
    "time_format = 'yyyy-MM-dd'\n",
    "pd.options.display.float_format = '{:,.2f}'.format"
   ]
  },
  {
   "cell_type": "code",
   "execution_count": 4,
   "metadata": {},
   "outputs": [],
   "source": [
    "import pyspark\n",
    "from pyspark.sql import SparkSession\n",
    "from pyspark.sql import functions as F\n",
    "from pyspark.sql.types import DateType, StructType, StructField, IntegerType\n",
    "from pyspark.sql.window import Window\n",
    "from pyspark.sql.functions import when, row_number, expr, concat, format_number, avg, isnan, weekofyear, rand\n",
    "from pyspark.ml.feature import Bucketizer, VectorAssembler\n",
    "from pyspark.ml.regression import LinearRegression as ml_LinearRegression \n",
    "from pyspark.sql import DataFrameStatFunctions as statFunc\n",
    "from pyspark.sql.functions import to_timestamp\n",
    "from pyspark.sql.functions import collect_set, col, count\n",
    "from pyspark.ml.fpm import FPGrowth"
   ]
  },
  {
   "cell_type": "code",
   "execution_count": 5,
   "metadata": {},
   "outputs": [],
   "source": [
    "from sklearn.preprocessing import StandardScaler as sk_StandardScaler\n",
    "from sklearn.decomposition import PCA as sk_pca\n",
    "from sklearn.pipeline import Pipeline as sk_pipeline\n",
    "from sklearn.model_selection import train_test_split\n",
    "from sklearn.linear_model import LogisticRegression as sk_LogisticRegression\n",
    "import matplotlib.pyplot as plt\n",
    "import scikitplot as skplt\n",
    "from sklearn.preprocessing import OneHotEncoder as sk_OneHotEncoder\n",
    "from sklearn.base import BaseEstimator, TransformerMixin\n",
    "\n",
    "from pyspark.ml import Pipeline as ml_pipeline\n",
    "from pyspark.ml.feature import VectorAssembler\n",
    "from pyspark.ml.feature import StandardScaler as ml_StandardScaler\n",
    "from pyspark.ml.feature import PCA as ml_pca\n",
    "from pyspark.ml.classification import LogisticRegression as ml_LogisticRegression"
   ]
  },
  {
   "cell_type": "code",
   "execution_count": 6,
   "metadata": {},
   "outputs": [],
   "source": [
    "from lightgbm import LGBMClassifier\n",
    "from sklearn.inspection import permutation_importance"
   ]
  },
  {
   "cell_type": "code",
   "execution_count": 7,
   "metadata": {},
   "outputs": [],
   "source": [
    "from pyspark.sql import SparkSession\n",
    "import os\n",
    "os.environ[\"SPARK_CONF_DIR\"] = \"/usr/lib/spark/conf\"\n",
    "os.environ[\"HADOOP_CONF_DIR\"] = \"/etc/hadoop/conf\"\n",
    "os.environ[\"PYSPARK_PYTHON\"] = \"/usr/bin/python3\"\n",
    "os.environ[\"SPARK_HOME\"] = \"/usr/lib/spark\"\n",
    "\n",
    "#spark = SparkSession.builder.appName(\"test3\").getOrCreate()\\\n",
    "#spark = SparkSession.builder.appName(\"local[*]\").master(\"local[*]\")\\\n",
    "spark = SparkSession.builder.master(\"yarn\").appName(\"test\")\\\n",
    "    .config(\"spark.executor.instances\", \"12\")\\\n",
    "    .config(\"spark.executor.cores\", \"2\")\\\n",
    "    .config(\"spark.executor.memory\", \"8g\")\\\n",
    "    .config(\"spark.driver.memory\", \"200g\")\\\n",
    "    .enableHiveSupport().getOrCreate()\n",
    "#     .config(\"spark.jars.packages\", \"com.microsoft.ml.spark:mmlspark_2.11:1.0.0-rc1\")\\\n",
    "#     .config(\"spark.jars.repositories\", \"https://mmlspark.azureedge.net/maven\")\\\n",
    "#     # .config('spark.local.dir', 'SOME/DIR/WHERE/YOU/HAVE/SPACE')\n",
    "    # .config(\"spark.sql.parquet.writeLegacyFormat\", true)\\\n",
    "    #spark = SparkSession.builder.appName(\"test1\")\\\n",
    "\n",
    "spark.conf.set(\"spark.sql.legacy.allowCreatingManagedTableUsingNhonemptyLocation\", \"true\")\n",
    "spark.conf.set(\"hive.exec.dynamic.partition\", \"true\");\n",
    "spark.conf.set(\"hive.exec.dynamic.partition.mode\", \"nonstrict\");"
   ]
  },
  {
   "cell_type": "code",
   "execution_count": 8,
   "metadata": {},
   "outputs": [],
   "source": [
    "import findspark\n",
    "findspark.init()"
   ]
  },
  {
   "cell_type": "code",
   "execution_count": 9,
   "metadata": {
    "scrolled": false
   },
   "outputs": [
    {
     "data": {
      "text/html": [
       "\n",
       "            <div>\n",
       "                <p><b>SparkSession - hive</b></p>\n",
       "                \n",
       "        <div>\n",
       "            <p><b>SparkContext</b></p>\n",
       "\n",
       "            <p><a href=\"http://ip-172-20-34-220.cn-northwest-1.compute.internal:4040\">Spark UI</a></p>\n",
       "\n",
       "            <dl>\n",
       "              <dt>Version</dt>\n",
       "                <dd><code>v3.1.1-amzn-0</code></dd>\n",
       "              <dt>Master</dt>\n",
       "                <dd><code>yarn</code></dd>\n",
       "              <dt>AppName</dt>\n",
       "                <dd><code>test</code></dd>\n",
       "            </dl>\n",
       "        </div>\n",
       "        \n",
       "            </div>\n",
       "        "
      ],
      "text/plain": [
       "<pyspark.sql.session.SparkSession at 0x7f22a7c08350>"
      ]
     },
     "execution_count": 9,
     "metadata": {},
     "output_type": "execute_result"
    },
    {
     "data": {
      "text/plain": [
       "'200g'"
      ]
     },
     "execution_count": 9,
     "metadata": {},
     "output_type": "execute_result"
    },
    {
     "data": {
      "text/plain": [
       "'8g'"
      ]
     },
     "execution_count": 9,
     "metadata": {},
     "output_type": "execute_result"
    },
    {
     "data": {
      "text/plain": [
       "'2'"
      ]
     },
     "execution_count": 9,
     "metadata": {},
     "output_type": "execute_result"
    }
   ],
   "source": [
    "sc=spark.conf\n",
    "spark\n",
    "spark.sparkContext._conf.get('spark.driver.memory')\n",
    "spark.sparkContext._conf.get('spark.executor.memory')\n",
    "spark.sparkContext._conf.get('spark.num.executors')\n",
    "spark.sparkContext._conf.get('spark.executor.cores')"
   ]
  },
  {
   "cell_type": "code",
   "execution_count": 10,
   "metadata": {},
   "outputs": [
    {
     "data": {
      "text/plain": [
       "DataFrame[]"
      ]
     },
     "execution_count": 10,
     "metadata": {},
     "output_type": "execute_result"
    },
    {
     "data": {
      "text/plain": [
       "DataFrame[]"
      ]
     },
     "execution_count": 10,
     "metadata": {},
     "output_type": "execute_result"
    },
    {
     "data": {
      "text/plain": [
       "DataFrame[]"
      ]
     },
     "execution_count": 10,
     "metadata": {},
     "output_type": "execute_result"
    },
    {
     "data": {
      "text/plain": [
       "DataFrame[]"
      ]
     },
     "execution_count": 10,
     "metadata": {},
     "output_type": "execute_result"
    },
    {
     "data": {
      "text/plain": [
       "DataFrame[]"
      ]
     },
     "execution_count": 10,
     "metadata": {},
     "output_type": "execute_result"
    },
    {
     "data": {
      "text/plain": [
       "DataFrame[]"
      ]
     },
     "execution_count": 10,
     "metadata": {},
     "output_type": "execute_result"
    },
    {
     "data": {
      "text/plain": [
       "DataFrame[]"
      ]
     },
     "execution_count": 10,
     "metadata": {},
     "output_type": "execute_result"
    },
    {
     "data": {
      "text/plain": [
       "DataFrame[]"
      ]
     },
     "execution_count": 10,
     "metadata": {},
     "output_type": "execute_result"
    },
    {
     "data": {
      "text/plain": [
       "DataFrame[]"
      ]
     },
     "execution_count": 10,
     "metadata": {},
     "output_type": "execute_result"
    },
    {
     "data": {
      "text/plain": [
       "DataFrame[]"
      ]
     },
     "execution_count": 10,
     "metadata": {},
     "output_type": "execute_result"
    },
    {
     "data": {
      "text/plain": [
       "DataFrame[]"
      ]
     },
     "execution_count": 10,
     "metadata": {},
     "output_type": "execute_result"
    },
    {
     "data": {
      "text/plain": [
       "DataFrame[]"
      ]
     },
     "execution_count": 10,
     "metadata": {},
     "output_type": "execute_result"
    }
   ],
   "source": [
    "spark.sql('msck repair table dwd.dwd_sales_order_main_flow')\n",
    "spark.sql('msck repair table dwd.dwd_sales_order_detail_flow')\n",
    "spark.sql('msck repair table dwd.dwd_sales_order_return_main')\n",
    "spark.sql('msck repair table dwd.dwd_sales_order_return_detail')\n",
    "spark.sql('msck repair table dim.dim_agreement_coupon_info')\n",
    "spark.sql('msck repair table dwd.dwd_agreement_coupon_ver')\n",
    "spark.sql('msck repair table dim.dim_party_user_all')\n",
    "spark.sql('msck repair table dim.dim_party_shop')\n",
    "spark.sql('msck repair table dim.dim_item_sku')\n",
    "spark.sql('msck repair table dim.dim_party_number_kid')\n",
    "spark.sql('msck repair table dim.dim_public_date_calendar')\n",
    "spark.sql('msck repair table dim.dim_public_location_area')"
   ]
  },
  {
   "cell_type": "code",
   "execution_count": 11,
   "metadata": {},
   "outputs": [
    {
     "name": "stdout",
     "output_type": "stream",
     "text": [
      "+---------+\n",
      "|namespace|\n",
      "+---------+\n",
      "|  default|\n",
      "|      dim|\n",
      "|      dwd|\n",
      "+---------+\n",
      "\n",
      "+--------+--------------------+-----------+\n",
      "|database|           tableName|isTemporary|\n",
      "+--------+--------------------+-----------+\n",
      "|     dwd|dwd_agreement_cou...|      false|\n",
      "|     dwd|           dwd_event|      false|\n",
      "|     dwd|dwd_sales_order_d...|      false|\n",
      "|     dwd|dwd_sales_order_m...|      false|\n",
      "|     dwd|dwd_sales_order_r...|      false|\n",
      "|     dwd|dwd_sales_order_r...|      false|\n",
      "+--------+--------------------+-----------+\n",
      "\n",
      "+--------+--------------------+-----------+\n",
      "|database|           tableName|isTemporary|\n",
      "+--------+--------------------+-----------+\n",
      "|     dim|dim_agreement_cou...|      false|\n",
      "|     dim|        dim_item_sku|      false|\n",
      "|     dim|dim_party_number_kid|      false|\n",
      "|     dim|      dim_party_shop|      false|\n",
      "|     dim|  dim_party_user_all|      false|\n",
      "|     dim|dim_public_date_c...|      false|\n",
      "|     dim|dim_public_locati...|      false|\n",
      "+--------+--------------------+-----------+\n",
      "\n"
     ]
    }
   ],
   "source": [
    "spark.sql('show databases').show()\n",
    "spark.sql('show tables in dwd').show()\n",
    "spark.sql('show tables in dim').show()"
   ]
  },
  {
   "cell_type": "code",
   "execution_count": 12,
   "metadata": {},
   "outputs": [
    {
     "name": "stdout",
     "output_type": "stream",
     "text": [
      "1640247105.721229\n"
     ]
    }
   ],
   "source": [
    "start = time.time()\n",
    "print(start)"
   ]
  },
  {
   "cell_type": "code",
   "execution_count": 13,
   "metadata": {},
   "outputs": [],
   "source": [
    "mdl_label='legomodel_oot_1029'\n",
    "qc_flag = 0"
   ]
  },
  {
   "cell_type": "markdown",
   "metadata": {},
   "source": [
    "# Date Mapping"
   ]
  },
  {
   "cell_type": "code",
   "execution_count": 14,
   "metadata": {},
   "outputs": [
    {
     "data": {
      "text/plain": [
       "datetime.date(2021, 12, 22)"
      ]
     },
     "execution_count": 14,
     "metadata": {},
     "output_type": "execute_result"
    },
    {
     "data": {
      "text/plain": [
       "datetime.date(2021, 12, 23)"
      ]
     },
     "execution_count": 14,
     "metadata": {},
     "output_type": "execute_result"
    },
    {
     "data": {
      "text/plain": [
       "3"
      ]
     },
     "execution_count": 14,
     "metadata": {},
     "output_type": "execute_result"
    }
   ],
   "source": [
    "# td is the last day in the data\n",
    "current_date_str = datetime.fromtimestamp(int(time.time()), pytz.timezone('Asia/Shanghai')).date()\n",
    "today= current_date_str\n",
    "td = today-timedelta(days=1)\n",
    "td\n",
    "td_offset=today\n",
    "td_offset\n",
    "\n",
    "offset_day=6-td_offset.weekday()\n",
    "offset_day"
   ]
  },
  {
   "cell_type": "code",
   "execution_count": 15,
   "metadata": {},
   "outputs": [],
   "source": [
    "#当month为12，weekofyear为1的时候，将weekofyear改为下一年的第一周\n",
    "#当month为1，weekofyear大于等于52的时候，将weekofyear改为上一年的最后一周\n",
    "#其他的情况，将weekofyear设为年份*100+月份（比如2020年1月1日为2020*100+1 = 202001）\n",
    "def year_wk(df, date_col, day_to_add, new_date_col, wk_col, offset_day=offset_day, drop_new_col=False):\n",
    "    df_new=df.withColumn(new_date_col, F.date_add(F.col(date_col), day_to_add+offset_day))\\\n",
    "                .withColumn(wk_col, when( (F.month(new_date_col)==12) & (F.weekofyear(new_date_col)==1), (F.year(new_date_col)+F.lit(1))*100 + F.weekofyear(new_date_col))\\\n",
    "                    .when( (F.month(new_date_col)==1) & (F.weekofyear(new_date_col)>=52), (F.year(new_date_col)-F.lit(1))*100 + F.weekofyear(new_date_col))\\\n",
    "                    .otherwise(F.year(new_date_col)*100 + F.weekofyear(new_date_col)))\n",
    "    if(drop_new_col):\n",
    "        df_new=df_new.drop(new_date_col)\n",
    "    return df_new"
   ]
  },
  {
   "cell_type": "code",
   "execution_count": 16,
   "metadata": {},
   "outputs": [
    {
     "name": "stdout",
     "output_type": "stream",
     "text": [
      "+----------+----+-------+----------------+-------+----------+----------+\n",
      "|      date|week|quarter|quarter_last_day|recency|date_proxy|weekofyear|\n",
      "+----------+----+-------+----------------+-------+----------+----------+\n",
      "|2011-12-21|-522|    -41|      2012-01-03|   3654|2011-12-24|    201151|\n",
      "|2011-12-22|-522|    -41|      2012-01-03|   3653|2011-12-25|    201151|\n",
      "|2011-12-23|-522|    -41|      2012-01-03|   3652|2011-12-26|    201152|\n",
      "|2011-12-24|-522|    -41|      2012-01-03|   3651|2011-12-27|    201152|\n",
      "|2011-12-25|-522|    -41|      2012-01-03|   3650|2011-12-28|    201152|\n",
      "|2011-12-26|-522|    -41|      2012-01-03|   3649|2011-12-29|    201152|\n",
      "|2011-12-27|-522|    -41|      2012-01-03|   3648|2011-12-30|    201152|\n",
      "|2011-12-28|-521|    -41|      2012-01-03|   3647|2011-12-31|    201152|\n",
      "|2011-12-29|-521|    -41|      2012-01-03|   3646|2012-01-01|    201152|\n",
      "|2011-12-30|-521|    -41|      2012-01-03|   3645|2012-01-02|    201201|\n",
      "|2011-12-31|-521|    -41|      2012-01-03|   3644|2012-01-03|    201201|\n",
      "|2012-01-01|-521|    -41|      2012-01-03|   3643|2012-01-04|    201201|\n",
      "|2012-01-02|-521|    -41|      2012-01-03|   3642|2012-01-05|    201201|\n",
      "|2012-01-03|-521|    -41|      2012-01-03|   3641|2012-01-06|    201201|\n",
      "|2012-01-04|-520|    -40|      2012-04-03|   3640|2012-01-07|    201201|\n",
      "|2012-01-05|-520|    -40|      2012-04-03|   3639|2012-01-08|    201201|\n",
      "|2012-01-06|-520|    -40|      2012-04-03|   3638|2012-01-09|    201202|\n",
      "|2012-01-07|-520|    -40|      2012-04-03|   3637|2012-01-10|    201202|\n",
      "|2012-01-08|-520|    -40|      2012-04-03|   3636|2012-01-11|    201202|\n",
      "|2012-01-09|-520|    -40|      2012-04-03|   3635|2012-01-12|    201202|\n",
      "+----------+----+-------+----------------+-------+----------+----------+\n",
      "only showing top 20 rows\n",
      "\n"
     ]
    }
   ],
   "source": [
    "td_ny = td+relativedelta(years=+1)\n",
    "\n",
    "td_ly = td+relativedelta(years=-10)\n",
    "# this will give you a list containing all of the dates\n",
    "days_post = [td + timedelta(days=x) for x in range((td_ny-td).days)]\n",
    "\n",
    "days_pre = [td - timedelta(days=x) for x in range((td-td_ly).days + 1, 0, -1)]\n",
    "#weeks: 7 days\n",
    "weeks_post = [0 + math.floor(x/7) for x in range((td_ny-td).days)]\n",
    "weeks_pre = [0 - math.ceil(x/7) for x in range((td-td_ly).days + 1, 0, -1)]\n",
    "days=days_pre+days_post\n",
    "weeks=weeks_pre+weeks_post\n",
    "# quarters: 91 days\n",
    "quarters_post = [0 + math.floor(x/91) for x in range((td_ny-td).days)]\n",
    "quarters_pre = [0 - math.ceil(x/91) for x in range((td-td_ly).days + 1, 0, -1)]\n",
    "quarters=quarters_pre+quarters_post\n",
    "quarter_last_day= [td+timedelta(days=q*91+90) for q in quarters]\n",
    "\n",
    "schema = StructType([\n",
    "    StructField('date', DateType(), True),\n",
    "    StructField('week', IntegerType(), True),\n",
    "    StructField('quarter', IntegerType(), True),\n",
    "    StructField('quarter_last_day', DateType(), True),\n",
    "])\n",
    "df_days=spark.createDataFrame(zip(days, weeks, quarters, quarter_last_day), schema)\\\n",
    "            .withColumn('recency', F.datediff(F.lit(td), F.col('date')))\n",
    "df_days=year_wk(df_days, date_col='date', day_to_add=0, new_date_col='date_proxy', wk_col='weekofyear', drop_new_col=False)\n",
    "df_days.show()"
   ]
  },
  {
   "cell_type": "code",
   "execution_count": 17,
   "metadata": {},
   "outputs": [
    {
     "data": {
      "text/html": [
       "<div>\n",
       "<style scoped>\n",
       "    .dataframe tbody tr th:only-of-type {\n",
       "        vertical-align: middle;\n",
       "    }\n",
       "\n",
       "    .dataframe tbody tr th {\n",
       "        vertical-align: top;\n",
       "    }\n",
       "\n",
       "    .dataframe thead th {\n",
       "        text-align: right;\n",
       "    }\n",
       "</style>\n",
       "<table border=\"1\" class=\"dataframe\">\n",
       "  <thead>\n",
       "    <tr style=\"text-align: right;\">\n",
       "      <th></th>\n",
       "      <th>date</th>\n",
       "      <th>week</th>\n",
       "      <th>quarter</th>\n",
       "      <th>quarter_last_day</th>\n",
       "      <th>recency</th>\n",
       "      <th>date_proxy</th>\n",
       "      <th>weekofyear</th>\n",
       "    </tr>\n",
       "  </thead>\n",
       "  <tbody>\n",
       "    <tr>\n",
       "      <th>0</th>\n",
       "      <td>2021-12-22</td>\n",
       "      <td>0</td>\n",
       "      <td>0</td>\n",
       "      <td>2022-03-22</td>\n",
       "      <td>0</td>\n",
       "      <td>2021-12-25</td>\n",
       "      <td>202151</td>\n",
       "    </tr>\n",
       "  </tbody>\n",
       "</table>\n",
       "</div>"
      ],
      "text/plain": [
       "         date  week  quarter quarter_last_day  recency  date_proxy  weekofyear\n",
       "0  2021-12-22     0        0       2022-03-22        0  2021-12-25      202151"
      ]
     },
     "execution_count": 17,
     "metadata": {},
     "output_type": "execute_result"
    }
   ],
   "source": [
    "df_days.filter(F.col('date')==td).toPandas()"
   ]
  },
  {
   "cell_type": "code",
   "execution_count": 18,
   "metadata": {},
   "outputs": [],
   "source": [
    "df_days.write.option('path','hdfs://172.20.37.126:8020/user/hive/warehouse/default').mode('overwrite').saveAsTable('default.df_days')"
   ]
  },
  {
   "cell_type": "markdown",
   "metadata": {},
   "source": [
    "# Load Data"
   ]
  },
  {
   "cell_type": "code",
   "execution_count": 19,
   "metadata": {},
   "outputs": [
    {
     "data": {
      "text/plain": [
       "4092536"
      ]
     },
     "execution_count": 19,
     "metadata": {},
     "output_type": "execute_result"
    }
   ],
   "source": [
    "#order\n",
    "oo_mem_1=spark.sql(\"select main_order_code as order_no, to_date(pay_time, 'yyyyMMdd') as statistic_date, item_five_lego_code as prod_code,\\\n",
    "            mobile as member_no, source_type, order_state, \\\n",
    "            lego_shop_code as shop_code, source_channel as shop_name, \\\n",
    "            receipts_amount as m18, receivable_amount as price, is_gwp, \\\n",
    "            sales_num as m22 from dwd.dwd_sales_order_detail_flow \\\n",
    "            where order_state='已完成' or order_state = 'Y'\")\\\n",
    "        .withColumn('date', F.to_date(\"statistic_date\", 'yyyy-MM-dd'))\\\n",
    "        .join(df_days, on=['date'], how='left')\\\n",
    "        .repartition(1024, 'member_no')\n",
    "from pyspark.sql.types import StringType\n",
    "oo_mem_1 = oo_mem_1.filter((F.col('is_gwp') == '否')&(F.col('m18') != '0')&(F.col('statistic_date')<td)&(F.col('prod_code')!='兑礼')).withColumn('week', oo_mem_1['week'].cast(StringType()))\\\n",
    "               .withColumn('quarter', oo_mem_1['quarter'].cast(StringType()))\\\n",
    "               .withColumn('recency', oo_mem_1['recency'].cast(StringType()))\\\n",
    "               .withColumn('weekofyear', oo_mem_1['weekofyear'].cast(StringType()))\\\n",
    "               .filter(F.col('statistic_date').isNotNull())\n",
    "#                .filter((F.col('prod_code')!='None') & (F.col('prod_code')!='' ))\n",
    "oo_mem_1.count()"
   ]
  },
  {
   "cell_type": "code",
   "execution_count": 20,
   "metadata": {},
   "outputs": [],
   "source": [
    "#return\n",
    "refund = spark.sql(\"select main_order_code as order_no,return_order_state,return_amount as m18 \\\n",
    "                    from dwd.dwd_sales_order_return_main where main_order_code != 'None' and return_order_state != 'None'\")\n",
    "refund = refund.drop_duplicates(subset=['order_no'])\n",
    "oo_mem_2 = oo_mem_1.join(refund, on=['order_no','m18'], how='left')\\\n",
    "                .withColumn('return_flag', when(F.col('return_order_state')!='None',1).otherwise(0))\\\n",
    "                .drop('return_order_state')\\\n",
    "                .filter(F.col('return_flag') ==0)"
   ]
  },
  {
   "cell_type": "code",
   "execution_count": 21,
   "metadata": {},
   "outputs": [],
   "source": [
    "#prod\n",
    "prod_pre = spark.sql('select lego_sku_id as prod_code, year_version, age_mark, product_bu, \\\n",
    "                topic, topic_name, topic_group, super_segment, item_cn_line, prod_category from dim.dim_item_sku')\n",
    "prod_pre=prod_pre.drop_duplicates(subset=['prod_code'])\n",
    "prod = prod_pre.select([when(col(c)==\"\",None).otherwise(col(c)).alias(c) for c in prod_pre.columns])"
   ]
  },
  {
   "cell_type": "code",
   "execution_count": 22,
   "metadata": {},
   "outputs": [
    {
     "data": {
      "text/plain": [
       "8197899"
      ]
     },
     "execution_count": 22,
     "metadata": {},
     "output_type": "execute_result"
    }
   ],
   "source": [
    "#member\n",
    "mem_pre=spark.sql('select register_phone_no as member_no, is_member, is_shopper, is_consumber as is_consumer,\\\n",
    "        gender, age_cohorts, marital_status, city_grade, educational_status, user_job, monthly_pay,\\\n",
    "        is_inside_staff, chinese_zodiac, constellation, crm_member_register_date as date_join, \\\n",
    "        crm_member_register_age_month from dim.dim_party_user_all')\n",
    "mem_pre = mem_pre.drop_duplicates(subset=['member_no'])\n",
    "mem = mem_pre.select([when(col(c)==\"\",None).otherwise(col(c)).alias(c) for c in mem_pre.columns])\n",
    "mem.count()"
   ]
  },
  {
   "cell_type": "code",
   "execution_count": 23,
   "metadata": {},
   "outputs": [],
   "source": [
    "#holiday\n",
    "holiday = spark.sql(\"select date_name as statistic_date, to_date(lunar_date_name,'yyyy-MM-dd') as lunar_date from dim.dim_public_date_calendar\")\n",
    "oo_mem_3 = oo_mem_2.join(holiday, on='statistic_date',how='left')\n",
    "oo_mem_4 = oo_mem_3.withColumn('date', F.date_format(F.col('date'), 'yyyyMMdd'))\\\n",
    "                      .withColumn('lunar_date', F.date_format(F.col('lunar_date'), 'yyyyMMdd'))\n",
    "oo_mem = oo_mem_4.withColumn('holiday',when((F.col('date').substr(5,4) >= '1218')&(F.col('date').substr(5,4) <= '1227'),F.lit('圣诞节'))\\\n",
    "                                .when((F.col('date').substr(5,4) >= '0525')&(F.col('date').substr(5,4) <= '0603'),F.lit('儿童节'))\\\n",
    "                                .when((F.col('date').substr(5,4) >= '0611')&(F.col('date').substr(5,4) <= '0620'),F.lit('六一八'))\\\n",
    "                                .when((F.col('date').substr(5,4) >= '1104')&(F.col('date').substr(5,4) <= '1113'),F.lit('双十一'))\\\n",
    "                                .when((F.col('date').substr(5,4) >= '1205')&(F.col('date').substr(5,4) <= '1214'),F.lit('双十二'))\\\n",
    "                                .when((F.col('lunar_date').substr(5,4) >= '1224')&(F.col('lunar_date').substr(5,4) <= '1230'),F.lit('春节'))\\\n",
    "                                .when((F.col('lunar_date').substr(5,4) >= '0101')&(F.col('lunar_date').substr(5,4) <= '0103'),F.lit('春节'))\\\n",
    "                                .otherwise(F.lit(0)))\\"
   ]
  },
  {
   "cell_type": "code",
   "execution_count": 24,
   "metadata": {},
   "outputs": [],
   "source": [
    "oo_mem.write.mode('overwrite').saveAsTable('default.mlmdl_oo_mem_' + mdl_label)\n",
    "oo_mem = spark.sql('select * from default.mlmdl_oo_mem_' +mdl_label).repartition(1024, 'member_no')"
   ]
  },
  {
   "cell_type": "code",
   "execution_count": 25,
   "metadata": {},
   "outputs": [
    {
     "data": {
      "text/html": [
       "<div>\n",
       "<style scoped>\n",
       "    .dataframe tbody tr th:only-of-type {\n",
       "        vertical-align: middle;\n",
       "    }\n",
       "\n",
       "    .dataframe tbody tr th {\n",
       "        vertical-align: top;\n",
       "    }\n",
       "\n",
       "    .dataframe thead th {\n",
       "        text-align: right;\n",
       "    }\n",
       "</style>\n",
       "<table border=\"1\" class=\"dataframe\">\n",
       "  <thead>\n",
       "    <tr style=\"text-align: right;\">\n",
       "      <th></th>\n",
       "      <th>prod_code</th>\n",
       "      <th>year_version</th>\n",
       "      <th>age_mark</th>\n",
       "      <th>product_bu</th>\n",
       "      <th>topic</th>\n",
       "      <th>topic_name</th>\n",
       "      <th>topic_group</th>\n",
       "      <th>super_segment</th>\n",
       "      <th>item_cn_line</th>\n",
       "      <th>prod_category</th>\n",
       "    </tr>\n",
       "  </thead>\n",
       "  <tbody>\n",
       "  </tbody>\n",
       "</table>\n",
       "</div>"
      ],
      "text/plain": [
       "Empty DataFrame\n",
       "Columns: [prod_code, year_version, age_mark, product_bu, topic, topic_name, topic_group, super_segment, item_cn_line, prod_category]\n",
       "Index: []"
      ]
     },
     "execution_count": 25,
     "metadata": {},
     "output_type": "execute_result"
    }
   ],
   "source": [
    "prod.limit(5).toPandas()"
   ]
  },
  {
   "cell_type": "markdown",
   "metadata": {},
   "source": [
    "# Data Mining and Preparation"
   ]
  },
  {
   "cell_type": "code",
   "execution_count": 25,
   "metadata": {},
   "outputs": [],
   "source": [
    "if (qc_flag):\n",
    "    oo_mem_1.limit(50).toPandas()\n",
    "    oo_mem_1.count()\n",
    "    prod.limit(10).toPandas()\n",
    "    mem.limit(10).toPandas()\n",
    "    holiday.limit(5).toPandas()\n",
    "    oo_mem.count()\n",
    "    oo_mem.rdd.getNumPartitions()\n",
    "    oo_mem.agg(F.count('member_no').alias('num_row'),\\\n",
    "       F.sum('m18').alias('m18'),\\\n",
    "       F.sum('m22').alias('m22'),\\\n",
    "       F.countDistinct('order_no').alias('num_txn'),\\\n",
    "       F.countDistinct('member_no').alias('num_member'),\\\n",
    "       F.countDistinct('prod_code').alias('num_sku')).toPandas()\n",
    "    \n",
    "    mem.agg(F.count('member_no').alias('num_row'), F.countDistinct('member_no').alias('num_member')).toPandas()\n",
    "    prod.agg(F.count('prod_code').alias('num_row'), F.countDistinct('prod_code').alias('num_prod')).toPandas()"
   ]
  },
  {
   "cell_type": "markdown",
   "metadata": {},
   "source": [
    "#### assign members to stores where they have spent the most in the past"
   ]
  },
  {
   "cell_type": "code",
   "execution_count": 26,
   "metadata": {},
   "outputs": [],
   "source": [
    "mem_shop_0=oo_mem.groupBy(['member_no', 'shop_code']).agg(F.sum('m18').alias('m18'),\\\n",
    "                            F.countDistinct('order_no').alias('freq'),\\\n",
    "                            F.countDistinct('prod_code').alias('num_sku'))"
   ]
  },
  {
   "cell_type": "code",
   "execution_count": 27,
   "metadata": {},
   "outputs": [],
   "source": [
    "window = Window.partitionBy('member_no').orderBy(F.col('m18').desc())\n",
    "mem_shop=mem_shop_0.withColumn(\"rank_mem_spend\", F.row_number().over(window))\\\n",
    "        .filter(F.col('rank_mem_spend')==1)\\\n",
    "        .withColumnRenamed('shop_code', 'shop_code_spend')"
   ]
  },
  {
   "cell_type": "code",
   "execution_count": 28,
   "metadata": {},
   "outputs": [],
   "source": [
    "mem_aug=mem.join(mem_shop.select(['member_no', 'shop_code_spend']), on='member_no', how='left')"
   ]
  },
  {
   "cell_type": "markdown",
   "metadata": {},
   "source": [
    "#### coupon_template_name_original: very long string and contain special characters; need to rename\n",
    "#### most of records in oo has no coupon and they will be segmented into the same partion --> will take forever to merge"
   ]
  },
  {
   "cell_type": "markdown",
   "metadata": {},
   "source": [
    "#### append deduped product and coupon table"
   ]
  },
  {
   "cell_type": "code",
   "execution_count": 29,
   "metadata": {
    "scrolled": true
   },
   "outputs": [],
   "source": [
    "oo_full_0=oo_mem.join(prod, on='prod_code', how='left')\\\n",
    "        .join(mem_aug, on='member_no', how='left')\\\n",
    "        .withColumn('date_join', when(F.col('date_join').isNull(), td+timedelta(days=1)).otherwise(F.col('date_join')))\\\n",
    "        .withColumn('tenure', F.datediff(F.lit(td), F.col('date_join')))\\\n",
    "        .withColumn('tenure', when(F.col('tenure')<0, -9999).otherwise(F.col('tenure')))\\\n",
    "        .withColumn('holiday_flag', when(F.col('holiday')==0,0).otherwise(1))\\\n",
    "        .fillna('None')\\\n",
    "        .repartition(512, 'member_no')"
   ]
  },
  {
   "cell_type": "code",
   "execution_count": 30,
   "metadata": {},
   "outputs": [],
   "source": [
    "oo_full_0.write.mode('overwrite').saveAsTable('default.mlmdl_oo_full_0_' +mdl_label)\n",
    "oo_full_1=spark.sql('select * from default.mlmdl_oo_full_0_' +mdl_label).repartition(1024, 'member_no')"
   ]
  },
  {
   "cell_type": "code",
   "execution_count": 31,
   "metadata": {},
   "outputs": [],
   "source": [
    "oo_full_2 = oo_full_1.withColumn('prod_category', F.regexp_replace(F.col('prod_category'),\" \",\"_\"))\\\n",
    "                    .withColumn('topic_group',F.regexp_replace(F.col('topic_group'),\" \",\"_\"))\\\n",
    "                    .withColumn('year_version',F.regexp_replace(F.col('year_version'),\" \",\"_\"))\\\n",
    "                    .withColumn('age_mark',F.regexp_replace(F.col('age_mark'),\" \",\"_\"))\\\n",
    "                    .withColumn('item_cn_line',F.regexp_replace(F.col('item_cn_line'),\" \",\"_\"))\\\n",
    "                    .withColumn('topic',F.regexp_replace(F.col('topic'),\" \",\"_\"))\\\n",
    "                    .withColumn('prod_category',F.regexp_replace(F.col('prod_category'),\" \",\"_\"))\\\n",
    "                    .withColumn('super_segment',F.regexp_replace(F.col('super_segment'),\" \",\"_\"))\\\n",
    "                    .withColumn('product_bu',F.regexp_replace(F.col('product_bu'),\" \",\"_\"))\\\n",
    "                    .withColumn('product_bu',F.regexp_replace(F.col('product_bu'),\"._&_\",\"_\"))"
   ]
  },
  {
   "cell_type": "markdown",
   "metadata": {},
   "source": [
    "# Feauture Engineering"
   ]
  },
  {
   "cell_type": "code",
   "execution_count": 32,
   "metadata": {},
   "outputs": [],
   "source": [
    "col_to_code=['is_member', 'is_shopper', 'is_consumer', 'gender', 'is_gwp',\\\n",
    "             'age_cohorts', 'marital_status', 'city_grade', 'educational_status', 'user_job', \\\n",
    "             'monthly_pay', 'is_inside_staff', 'chinese_zodiac', 'constellation']"
   ]
  },
  {
   "cell_type": "markdown",
   "metadata": {},
   "source": [
    "#### Construct average, standard deviation, max, min purchase date difference for each customer"
   ]
  },
  {
   "cell_type": "code",
   "execution_count": 33,
   "metadata": {},
   "outputs": [],
   "source": [
    "purch_datediff = oo_full_2.withColumn(\"purch_datediff\", F.datediff(F.col('statistic_date'), F.lag(F.col('statistic_date'), 1)\\\n",
    "                            .over(Window.partitionBy(\"member_no\")\\\n",
    "                            .orderBy('statistic_date')))).fillna(999,subset=['purch_datediff'])"
   ]
  },
  {
   "cell_type": "code",
   "execution_count": 34,
   "metadata": {},
   "outputs": [],
   "source": [
    "df_q_new_2=purch_datediff.groupBy(['member_no','quarter','shop_name']+col_to_code).agg(F.countDistinct('order_no').alias('shop_freq'))"
   ]
  },
  {
   "cell_type": "code",
   "execution_count": 35,
   "metadata": {},
   "outputs": [],
   "source": [
    "df_q_new_2=df_q_new_2.groupBy(['member_no','quarter']+col_to_code).agg(F.max('shop_freq').alias('shop_max_freq')).fillna(0).repartition(256, 'member_no')"
   ]
  },
  {
   "cell_type": "code",
   "execution_count": 36,
   "metadata": {},
   "outputs": [],
   "source": [
    "df_q_new_3 = purch_datediff.groupBy(['member_no','quarter']+col_to_code).agg(F.min('purch_datediff').alias('min_purch_diff'),\\\n",
    "                            F.max('purch_datediff').alias('max_purch_diff'),\\\n",
    "                            F.mean('purch_datediff').alias('avg_purch_diff'),\\\n",
    "                            F.stddev('purch_datediff').alias('stddev_purch_diff')).fillna(0).repartition(256, 'member_no')"
   ]
  },
  {
   "cell_type": "markdown",
   "metadata": {},
   "source": [
    "#### Construct different features"
   ]
  },
  {
   "cell_type": "code",
   "execution_count": 37,
   "metadata": {
    "scrolled": true
   },
   "outputs": [],
   "source": [
    "df_q_new_4 = oo_full_2.groupBy(['member_no','quarter']+col_to_code).agg(F.sum('m18').alias('spend'),\\\n",
    "                            F.sum('m22').alias('unit'),\\\n",
    "                            F.sum('price').alias('total_price'),\\\n",
    "                            F.countDistinct('order_no').alias('freq'),\\\n",
    "                            F.min('recency').alias('recency'),\\\n",
    "                            F.max('tenure').alias('tenure'),\\\n",
    "                            F.max('holiday').alias('most_freq_holiday'),\\\n",
    "                            F.max('holiday_flag').alias('holiday_flag'),\\\n",
    "                            F.countDistinct('item_cn_line').alias('num_sku'),\\\n",
    "                            F.countDistinct('topic').alias('num_topic'),\\\n",
    "                            F.countDistinct('super_segment').alias('num_super_segment'),\\\n",
    "                            F.countDistinct('shop_code').alias('num_shop'),\\\n",
    "                            F.countDistinct('year_version').alias('num_version'),\\\n",
    "                            F.countDistinct('age_mark').alias('num_mark'))\\\n",
    "                        .withColumn('purch_ind', when(F.col('spend')>0, 1).otherwise(0))\\\n",
    "                        .withColumn('avg_order_amt', F.col('spend')/F.col('freq'))\\\n",
    "                        .withColumn('avg_sku_amt', F.col('spend')/F.col('num_sku'))\\\n",
    "                        .withColumn('spend_prom_pcnt', F.col('spend')/F.col('total_price'))\\\n",
    "                        .withColumn('prom_ind', when((F.col('spend_prom_pcnt')>='1'), 0).otherwise(1))\\\n",
    "                        .repartition(1024, 'member_no')"
   ]
  },
  {
   "cell_type": "code",
   "execution_count": 38,
   "metadata": {},
   "outputs": [],
   "source": [
    "window = Window.partitionBy(\"quarter\").orderBy(F.desc('spend'))\n",
    "df_q_new_4=df_q_new_4.withColumn(\"spend_rank\", F.dense_rank().over(window))"
   ]
  },
  {
   "cell_type": "code",
   "execution_count": 39,
   "metadata": {},
   "outputs": [],
   "source": [
    "window = Window.partitionBy(\"quarter\").orderBy(F.desc('avg_sku_amt'))\n",
    "df_q_new_4=df_q_new_4.withColumn(\"avg_sku_amt_rank\", F.dense_rank().over(window))"
   ]
  },
  {
   "cell_type": "markdown",
   "metadata": {},
   "source": [
    "#### df_q_new将上面构造的一些统计数据和排序数据通过member_no和week关联"
   ]
  },
  {
   "cell_type": "code",
   "execution_count": 40,
   "metadata": {},
   "outputs": [],
   "source": [
    "df_q_new = df_q_new_4.fillna(0).join(df_q_new_2, on = (['member_no','quarter']+col_to_code), how='left')\\\n",
    "                    .join(df_q_new_3, on = (['member_no','quarter']+col_to_code), how='left').fillna(0).repartition(512, 'member_no')"
   ]
  },
  {
   "cell_type": "code",
   "execution_count": 41,
   "metadata": {},
   "outputs": [
    {
     "data": {
      "text/plain": [
       "2278840"
      ]
     },
     "execution_count": 41,
     "metadata": {},
     "output_type": "execute_result"
    }
   ],
   "source": [
    "df_q_new.count()"
   ]
  },
  {
   "cell_type": "markdown",
   "metadata": {},
   "source": [
    "#### purchase behavior by category: transpose\n",
    "- df_q_cate_w 将大类通过member_no，week和big_cate_name transpose得出每个member_no在每周每个大类的消费金额"
   ]
  },
  {
   "cell_type": "code",
   "execution_count": 42,
   "metadata": {},
   "outputs": [
    {
     "data": {
      "text/plain": [
       "1918105525.870305"
      ]
     },
     "execution_count": 42,
     "metadata": {},
     "output_type": "execute_result"
    }
   ],
   "source": [
    "ttl_var=oo_full_2.groupBy(['prod_category', 'topic','super_segment','product_bu','age_mark'])\\\n",
    "            .agg(F.sum('m18').alias('m18'),\\\n",
    "                F.sum('m22').alias('unit'),\\\n",
    "                F.countDistinct('order_no').alias('freq'),\\\n",
    "                F.countDistinct('prod_code').alias('num_sku')).toPandas()\n",
    "\n",
    "ttl_spend=ttl_var['m18'].sum()\n",
    "ttl_spend"
   ]
  },
  {
   "cell_type": "code",
   "execution_count": 43,
   "metadata": {},
   "outputs": [],
   "source": [
    "def group_top(ttl_var, var, threshold=0.8):\n",
    "    ttl_spend=ttl_var['m18'].sum()\n",
    "    pd_var=ttl_var.groupby(var).agg({'m18':'sum'}).reset_index().sort_values(by='m18', ascending=False)\n",
    "    pd_var['m18_cum']=pd_var['m18'].cumsum()\n",
    "    pd_var['m18_cum_cnt']=pd_var['m18_cum']/ttl_spend\n",
    "    var_top=pd_var[0:(sum(pd_var.m18_cum_cnt<threshold)+1)][var]\n",
    "    return var_top, pd_var"
   ]
  },
  {
   "cell_type": "code",
   "execution_count": 44,
   "metadata": {},
   "outputs": [
    {
     "data": {
      "text/plain": [
       "7     Standard_Retail\n",
       "0          D2C_driven\n",
       "2         Key_Account\n",
       "6    Special_Products\n",
       "4         Merchandise\n",
       "Name: prod_category, dtype: object"
      ]
     },
     "execution_count": 44,
     "metadata": {},
     "output_type": "execute_result"
    },
    {
     "data": {
      "text/html": [
       "<div>\n",
       "<style scoped>\n",
       "    .dataframe tbody tr th:only-of-type {\n",
       "        vertical-align: middle;\n",
       "    }\n",
       "\n",
       "    .dataframe tbody tr th {\n",
       "        vertical-align: top;\n",
       "    }\n",
       "\n",
       "    .dataframe thead th {\n",
       "        text-align: right;\n",
       "    }\n",
       "</style>\n",
       "<table border=\"1\" class=\"dataframe\">\n",
       "  <thead>\n",
       "    <tr style=\"text-align: right;\">\n",
       "      <th></th>\n",
       "      <th>prod_category</th>\n",
       "      <th>m18</th>\n",
       "      <th>m18_cum</th>\n",
       "      <th>m18_cum_cnt</th>\n",
       "    </tr>\n",
       "  </thead>\n",
       "  <tbody>\n",
       "    <tr>\n",
       "      <th>7</th>\n",
       "      <td>Standard_Retail</td>\n",
       "      <td>1,354,115,484.12</td>\n",
       "      <td>1,354,115,484.12</td>\n",
       "      <td>0.71</td>\n",
       "    </tr>\n",
       "    <tr>\n",
       "      <th>0</th>\n",
       "      <td>D2C_driven</td>\n",
       "      <td>447,225,604.08</td>\n",
       "      <td>1,801,341,088.20</td>\n",
       "      <td>0.94</td>\n",
       "    </tr>\n",
       "    <tr>\n",
       "      <th>2</th>\n",
       "      <td>Key_Account</td>\n",
       "      <td>58,178,815.48</td>\n",
       "      <td>1,859,519,903.68</td>\n",
       "      <td>0.97</td>\n",
       "    </tr>\n",
       "    <tr>\n",
       "      <th>6</th>\n",
       "      <td>Special_Products</td>\n",
       "      <td>24,966,522.28</td>\n",
       "      <td>1,884,486,425.96</td>\n",
       "      <td>0.98</td>\n",
       "    </tr>\n",
       "    <tr>\n",
       "      <th>4</th>\n",
       "      <td>Merchandise</td>\n",
       "      <td>17,495,121.93</td>\n",
       "      <td>1,901,981,547.89</td>\n",
       "      <td>0.99</td>\n",
       "    </tr>\n",
       "    <tr>\n",
       "      <th>5</th>\n",
       "      <td>None</td>\n",
       "      <td>10,810,157.39</td>\n",
       "      <td>1,912,791,705.28</td>\n",
       "      <td>1.00</td>\n",
       "    </tr>\n",
       "    <tr>\n",
       "      <th>1</th>\n",
       "      <td>Impulse</td>\n",
       "      <td>5,217,700.02</td>\n",
       "      <td>1,918,009,405.30</td>\n",
       "      <td>1.00</td>\n",
       "    </tr>\n",
       "    <tr>\n",
       "      <th>3</th>\n",
       "      <td>Licensed_Product</td>\n",
       "      <td>96,120.57</td>\n",
       "      <td>1,918,105,525.87</td>\n",
       "      <td>1.00</td>\n",
       "    </tr>\n",
       "  </tbody>\n",
       "</table>\n",
       "</div>"
      ],
      "text/plain": [
       "      prod_category              m18          m18_cum  m18_cum_cnt\n",
       "7   Standard_Retail 1,354,115,484.12 1,354,115,484.12         0.71\n",
       "0        D2C_driven   447,225,604.08 1,801,341,088.20         0.94\n",
       "2       Key_Account    58,178,815.48 1,859,519,903.68         0.97\n",
       "6  Special_Products    24,966,522.28 1,884,486,425.96         0.98\n",
       "4       Merchandise    17,495,121.93 1,901,981,547.89         0.99\n",
       "5              None    10,810,157.39 1,912,791,705.28         1.00\n",
       "1           Impulse     5,217,700.02 1,918,009,405.30         1.00\n",
       "3  Licensed_Product        96,120.57 1,918,105,525.87         1.00"
      ]
     },
     "execution_count": 44,
     "metadata": {},
     "output_type": "execute_result"
    },
    {
     "data": {
      "text/plain": [
       "74            Technic\n",
       "52         LEGO_Ideas\n",
       "28     Creator_Expert\n",
       "43    Harry_Potter_TM\n",
       "39         DUPLO_Town\n",
       "65            Ninjago\n",
       "50       LEGO_Friends\n",
       "41    Disney_Princess\n",
       "19        City_Police\n",
       "72       Super_Heroes\n",
       "48       LEGO_Classic\n",
       "62         Monkie_Kid\n",
       "36     DUPLO_My_First\n",
       "44              Icons\n",
       "12          City_Fire\n",
       "70       Star_Wars_TM\n",
       "20    City_Space_Port\n",
       "Name: topic, dtype: object"
      ]
     },
     "execution_count": 44,
     "metadata": {},
     "output_type": "execute_result"
    },
    {
     "data": {
      "text/html": [
       "<div>\n",
       "<style scoped>\n",
       "    .dataframe tbody tr th:only-of-type {\n",
       "        vertical-align: middle;\n",
       "    }\n",
       "\n",
       "    .dataframe tbody tr th {\n",
       "        vertical-align: top;\n",
       "    }\n",
       "\n",
       "    .dataframe thead th {\n",
       "        text-align: right;\n",
       "    }\n",
       "</style>\n",
       "<table border=\"1\" class=\"dataframe\">\n",
       "  <thead>\n",
       "    <tr style=\"text-align: right;\">\n",
       "      <th></th>\n",
       "      <th>topic</th>\n",
       "      <th>m18</th>\n",
       "      <th>m18_cum</th>\n",
       "      <th>m18_cum_cnt</th>\n",
       "    </tr>\n",
       "  </thead>\n",
       "  <tbody>\n",
       "    <tr>\n",
       "      <th>74</th>\n",
       "      <td>Technic</td>\n",
       "      <td>346,482,537.02</td>\n",
       "      <td>346,482,537.02</td>\n",
       "      <td>0.18</td>\n",
       "    </tr>\n",
       "    <tr>\n",
       "      <th>52</th>\n",
       "      <td>LEGO_Ideas</td>\n",
       "      <td>173,622,190.57</td>\n",
       "      <td>520,104,727.59</td>\n",
       "      <td>0.27</td>\n",
       "    </tr>\n",
       "    <tr>\n",
       "      <th>28</th>\n",
       "      <td>Creator_Expert</td>\n",
       "      <td>131,225,222.24</td>\n",
       "      <td>651,329,949.83</td>\n",
       "      <td>0.34</td>\n",
       "    </tr>\n",
       "    <tr>\n",
       "      <th>43</th>\n",
       "      <td>Harry_Potter_TM</td>\n",
       "      <td>103,616,614.49</td>\n",
       "      <td>754,946,564.31</td>\n",
       "      <td>0.39</td>\n",
       "    </tr>\n",
       "    <tr>\n",
       "      <th>39</th>\n",
       "      <td>DUPLO_Town</td>\n",
       "      <td>96,535,861.96</td>\n",
       "      <td>851,482,426.28</td>\n",
       "      <td>0.44</td>\n",
       "    </tr>\n",
       "    <tr>\n",
       "      <th>65</th>\n",
       "      <td>Ninjago</td>\n",
       "      <td>86,109,547.87</td>\n",
       "      <td>937,591,974.15</td>\n",
       "      <td>0.49</td>\n",
       "    </tr>\n",
       "    <tr>\n",
       "      <th>50</th>\n",
       "      <td>LEGO_Friends</td>\n",
       "      <td>81,363,745.10</td>\n",
       "      <td>1,018,955,719.24</td>\n",
       "      <td>0.53</td>\n",
       "    </tr>\n",
       "    <tr>\n",
       "      <th>41</th>\n",
       "      <td>Disney_Princess</td>\n",
       "      <td>72,240,874.12</td>\n",
       "      <td>1,091,196,593.37</td>\n",
       "      <td>0.57</td>\n",
       "    </tr>\n",
       "    <tr>\n",
       "      <th>19</th>\n",
       "      <td>City_Police</td>\n",
       "      <td>69,953,900.32</td>\n",
       "      <td>1,161,150,493.69</td>\n",
       "      <td>0.61</td>\n",
       "    </tr>\n",
       "    <tr>\n",
       "      <th>72</th>\n",
       "      <td>Super_Heroes</td>\n",
       "      <td>69,469,947.50</td>\n",
       "      <td>1,230,620,441.19</td>\n",
       "      <td>0.64</td>\n",
       "    </tr>\n",
       "    <tr>\n",
       "      <th>48</th>\n",
       "      <td>LEGO_Classic</td>\n",
       "      <td>66,165,948.55</td>\n",
       "      <td>1,296,786,389.74</td>\n",
       "      <td>0.68</td>\n",
       "    </tr>\n",
       "    <tr>\n",
       "      <th>62</th>\n",
       "      <td>Monkie_Kid</td>\n",
       "      <td>45,844,325.80</td>\n",
       "      <td>1,342,630,715.54</td>\n",
       "      <td>0.70</td>\n",
       "    </tr>\n",
       "    <tr>\n",
       "      <th>36</th>\n",
       "      <td>DUPLO_My_First</td>\n",
       "      <td>45,813,222.02</td>\n",
       "      <td>1,388,443,937.56</td>\n",
       "      <td>0.72</td>\n",
       "    </tr>\n",
       "    <tr>\n",
       "      <th>44</th>\n",
       "      <td>Icons</td>\n",
       "      <td>44,239,407.06</td>\n",
       "      <td>1,432,683,344.61</td>\n",
       "      <td>0.75</td>\n",
       "    </tr>\n",
       "    <tr>\n",
       "      <th>12</th>\n",
       "      <td>City_Fire</td>\n",
       "      <td>40,006,053.68</td>\n",
       "      <td>1,472,689,398.30</td>\n",
       "      <td>0.77</td>\n",
       "    </tr>\n",
       "    <tr>\n",
       "      <th>70</th>\n",
       "      <td>Star_Wars_TM</td>\n",
       "      <td>39,579,775.13</td>\n",
       "      <td>1,512,269,173.43</td>\n",
       "      <td>0.79</td>\n",
       "    </tr>\n",
       "    <tr>\n",
       "      <th>20</th>\n",
       "      <td>City_Space_Port</td>\n",
       "      <td>36,234,581.56</td>\n",
       "      <td>1,548,503,754.99</td>\n",
       "      <td>0.81</td>\n",
       "    </tr>\n",
       "    <tr>\n",
       "      <th>69</th>\n",
       "      <td>Speed_Champions</td>\n",
       "      <td>35,542,434.95</td>\n",
       "      <td>1,584,046,189.93</td>\n",
       "      <td>0.83</td>\n",
       "    </tr>\n",
       "    <tr>\n",
       "      <th>32</th>\n",
       "      <td>DUPLO_Classic</td>\n",
       "      <td>32,995,814.72</td>\n",
       "      <td>1,617,042,004.65</td>\n",
       "      <td>0.84</td>\n",
       "    </tr>\n",
       "    <tr>\n",
       "      <th>8</th>\n",
       "      <td>Chinese_Festivals</td>\n",
       "      <td>29,700,318.15</td>\n",
       "      <td>1,646,742,322.81</td>\n",
       "      <td>0.86</td>\n",
       "    </tr>\n",
       "    <tr>\n",
       "      <th>47</th>\n",
       "      <td>LEGO_Architecture</td>\n",
       "      <td>28,674,385.83</td>\n",
       "      <td>1,675,416,708.64</td>\n",
       "      <td>0.87</td>\n",
       "    </tr>\n",
       "    <tr>\n",
       "      <th>49</th>\n",
       "      <td>LEGO_Creator</td>\n",
       "      <td>20,916,412.70</td>\n",
       "      <td>1,696,333,121.34</td>\n",
       "      <td>0.88</td>\n",
       "    </tr>\n",
       "    <tr>\n",
       "      <th>58</th>\n",
       "      <td>Merchandise</td>\n",
       "      <td>17,011,297.41</td>\n",
       "      <td>1,713,344,418.75</td>\n",
       "      <td>0.89</td>\n",
       "    </tr>\n",
       "    <tr>\n",
       "      <th>13</th>\n",
       "      <td>City_Great_Vehicles</td>\n",
       "      <td>17,008,903.10</td>\n",
       "      <td>1,730,353,321.85</td>\n",
       "      <td>0.90</td>\n",
       "    </tr>\n",
       "    <tr>\n",
       "      <th>42</th>\n",
       "      <td>Disney_Specials</td>\n",
       "      <td>16,131,238.62</td>\n",
       "      <td>1,746,484,560.47</td>\n",
       "      <td>0.91</td>\n",
       "    </tr>\n",
       "    <tr>\n",
       "      <th>61</th>\n",
       "      <td>Minions</td>\n",
       "      <td>15,543,708.03</td>\n",
       "      <td>1,762,028,268.49</td>\n",
       "      <td>0.92</td>\n",
       "    </tr>\n",
       "    <tr>\n",
       "      <th>4</th>\n",
       "      <td>Brand_Campaign_Products</td>\n",
       "      <td>13,917,850.10</td>\n",
       "      <td>1,775,946,118.60</td>\n",
       "      <td>0.93</td>\n",
       "    </tr>\n",
       "    <tr>\n",
       "      <th>66</th>\n",
       "      <td>None</td>\n",
       "      <td>9,516,450.51</td>\n",
       "      <td>1,785,462,569.11</td>\n",
       "      <td>0.93</td>\n",
       "    </tr>\n",
       "    <tr>\n",
       "      <th>33</th>\n",
       "      <td>DUPLO_Disney_TM</td>\n",
       "      <td>9,509,670.22</td>\n",
       "      <td>1,794,972,239.33</td>\n",
       "      <td>0.94</td>\n",
       "    </tr>\n",
       "    <tr>\n",
       "      <th>24</th>\n",
       "      <td>City_Trains</td>\n",
       "      <td>9,007,858.17</td>\n",
       "      <td>1,803,980,097.49</td>\n",
       "      <td>0.94</td>\n",
       "    </tr>\n",
       "    <tr>\n",
       "      <th>73</th>\n",
       "      <td>Super_Mario</td>\n",
       "      <td>9,005,320.04</td>\n",
       "      <td>1,812,985,417.53</td>\n",
       "      <td>0.95</td>\n",
       "    </tr>\n",
       "    <tr>\n",
       "      <th>18</th>\n",
       "      <td>City_Oceans</td>\n",
       "      <td>8,963,503.07</td>\n",
       "      <td>1,821,948,920.60</td>\n",
       "      <td>0.95</td>\n",
       "    </tr>\n",
       "    <tr>\n",
       "      <th>55</th>\n",
       "      <td>LEGO_Overwatch</td>\n",
       "      <td>8,490,265.29</td>\n",
       "      <td>1,830,439,185.89</td>\n",
       "      <td>0.95</td>\n",
       "    </tr>\n",
       "    <tr>\n",
       "      <th>60</th>\n",
       "      <td>Minecraft</td>\n",
       "      <td>8,195,924.95</td>\n",
       "      <td>1,838,635,110.85</td>\n",
       "      <td>0.96</td>\n",
       "    </tr>\n",
       "    <tr>\n",
       "      <th>2</th>\n",
       "      <td>BOOST</td>\n",
       "      <td>6,850,375.28</td>\n",
       "      <td>1,845,485,486.13</td>\n",
       "      <td>0.96</td>\n",
       "    </tr>\n",
       "    <tr>\n",
       "      <th>1</th>\n",
       "      <td>ART</td>\n",
       "      <td>6,815,376.48</td>\n",
       "      <td>1,852,300,862.61</td>\n",
       "      <td>0.97</td>\n",
       "    </tr>\n",
       "    <tr>\n",
       "      <th>30</th>\n",
       "      <td>DOTS</td>\n",
       "      <td>6,587,484.67</td>\n",
       "      <td>1,858,888,347.27</td>\n",
       "      <td>0.97</td>\n",
       "    </tr>\n",
       "    <tr>\n",
       "      <th>46</th>\n",
       "      <td>Jurassic_World</td>\n",
       "      <td>6,107,504.85</td>\n",
       "      <td>1,864,995,852.12</td>\n",
       "      <td>0.97</td>\n",
       "    </tr>\n",
       "    <tr>\n",
       "      <th>64</th>\n",
       "      <td>Nexo_Knights</td>\n",
       "      <td>4,752,634.41</td>\n",
       "      <td>1,869,748,486.53</td>\n",
       "      <td>0.97</td>\n",
       "    </tr>\n",
       "    <tr>\n",
       "      <th>37</th>\n",
       "      <td>DUPLO_Princess_TM</td>\n",
       "      <td>4,636,938.21</td>\n",
       "      <td>1,874,385,424.74</td>\n",
       "      <td>0.98</td>\n",
       "    </tr>\n",
       "    <tr>\n",
       "      <th>45</th>\n",
       "      <td>Juniors</td>\n",
       "      <td>4,177,908.35</td>\n",
       "      <td>1,878,563,333.09</td>\n",
       "      <td>0.98</td>\n",
       "    </tr>\n",
       "    <tr>\n",
       "      <th>9</th>\n",
       "      <td>City_Airport</td>\n",
       "      <td>3,829,623.18</td>\n",
       "      <td>1,882,392,956.27</td>\n",
       "      <td>0.98</td>\n",
       "    </tr>\n",
       "    <tr>\n",
       "      <th>5</th>\n",
       "      <td>BrickHeadz</td>\n",
       "      <td>3,646,653.56</td>\n",
       "      <td>1,886,039,609.84</td>\n",
       "      <td>0.98</td>\n",
       "    </tr>\n",
       "    <tr>\n",
       "      <th>10</th>\n",
       "      <td>City_Arctic_Expedition</td>\n",
       "      <td>3,255,779.20</td>\n",
       "      <td>1,889,295,389.04</td>\n",
       "      <td>0.98</td>\n",
       "    </tr>\n",
       "    <tr>\n",
       "      <th>53</th>\n",
       "      <td>LEGO_Minifigures</td>\n",
       "      <td>2,508,887.07</td>\n",
       "      <td>1,891,804,276.11</td>\n",
       "      <td>0.99</td>\n",
       "    </tr>\n",
       "    <tr>\n",
       "      <th>3</th>\n",
       "      <td>Batman_Movie</td>\n",
       "      <td>2,487,820.84</td>\n",
       "      <td>1,894,292,096.95</td>\n",
       "      <td>0.99</td>\n",
       "    </tr>\n",
       "    <tr>\n",
       "      <th>57</th>\n",
       "      <td>MINDSTORMS</td>\n",
       "      <td>2,336,397.95</td>\n",
       "      <td>1,896,628,494.90</td>\n",
       "      <td>0.99</td>\n",
       "    </tr>\n",
       "    <tr>\n",
       "      <th>0</th>\n",
       "      <td>4+</td>\n",
       "      <td>2,091,338.14</td>\n",
       "      <td>1,898,719,833.04</td>\n",
       "      <td>0.99</td>\n",
       "    </tr>\n",
       "    <tr>\n",
       "      <th>23</th>\n",
       "      <td>City_Town</td>\n",
       "      <td>1,946,152.61</td>\n",
       "      <td>1,900,665,985.65</td>\n",
       "      <td>0.99</td>\n",
       "    </tr>\n",
       "    <tr>\n",
       "      <th>71</th>\n",
       "      <td>Stranger_Things</td>\n",
       "      <td>1,916,224.13</td>\n",
       "      <td>1,902,582,209.78</td>\n",
       "      <td>0.99</td>\n",
       "    </tr>\n",
       "    <tr>\n",
       "      <th>63</th>\n",
       "      <td>My_City</td>\n",
       "      <td>1,848,270.74</td>\n",
       "      <td>1,904,430,480.52</td>\n",
       "      <td>0.99</td>\n",
       "    </tr>\n",
       "    <tr>\n",
       "      <th>31</th>\n",
       "      <td>DUPLO_Cars_TM</td>\n",
       "      <td>1,847,944.29</td>\n",
       "      <td>1,906,278,424.80</td>\n",
       "      <td>0.99</td>\n",
       "    </tr>\n",
       "    <tr>\n",
       "      <th>11</th>\n",
       "      <td>City_Coast_Guard</td>\n",
       "      <td>1,723,409.84</td>\n",
       "      <td>1,908,001,834.65</td>\n",
       "      <td>0.99</td>\n",
       "    </tr>\n",
       "    <tr>\n",
       "      <th>16</th>\n",
       "      <td>City_Nitro_Wheels</td>\n",
       "      <td>1,431,133.85</td>\n",
       "      <td>1,909,432,968.50</td>\n",
       "      <td>1.00</td>\n",
       "    </tr>\n",
       "    <tr>\n",
       "      <th>27</th>\n",
       "      <td>Constraction_Star_Wars</td>\n",
       "      <td>1,269,602.21</td>\n",
       "      <td>1,910,702,570.70</td>\n",
       "      <td>1.00</td>\n",
       "    </tr>\n",
       "    <tr>\n",
       "      <th>54</th>\n",
       "      <td>LEGO_Movie</td>\n",
       "      <td>1,096,626.46</td>\n",
       "      <td>1,911,799,197.16</td>\n",
       "      <td>1.00</td>\n",
       "    </tr>\n",
       "    <tr>\n",
       "      <th>25</th>\n",
       "      <td>City_Volcano_Explorers</td>\n",
       "      <td>904,225.52</td>\n",
       "      <td>1,912,703,422.68</td>\n",
       "      <td>1.00</td>\n",
       "    </tr>\n",
       "    <tr>\n",
       "      <th>14</th>\n",
       "      <td>City_Jungle_Explorers</td>\n",
       "      <td>633,423.96</td>\n",
       "      <td>1,913,336,846.64</td>\n",
       "      <td>1.00</td>\n",
       "    </tr>\n",
       "    <tr>\n",
       "      <th>38</th>\n",
       "      <td>DUPLO_Super_Heroes</td>\n",
       "      <td>631,373.90</td>\n",
       "      <td>1,913,968,220.55</td>\n",
       "      <td>1.00</td>\n",
       "    </tr>\n",
       "    <tr>\n",
       "      <th>59</th>\n",
       "      <td>Mickey_and_Friends</td>\n",
       "      <td>555,639.43</td>\n",
       "      <td>1,914,523,859.98</td>\n",
       "      <td>1.00</td>\n",
       "    </tr>\n",
       "    <tr>\n",
       "      <th>34</th>\n",
       "      <td>DUPLO_Jurassic_World</td>\n",
       "      <td>501,941.75</td>\n",
       "      <td>1,915,025,801.73</td>\n",
       "      <td>1.00</td>\n",
       "    </tr>\n",
       "    <tr>\n",
       "      <th>7</th>\n",
       "      <td>Build_A_Mini</td>\n",
       "      <td>483,824.52</td>\n",
       "      <td>1,915,509,626.25</td>\n",
       "      <td>1.00</td>\n",
       "    </tr>\n",
       "    <tr>\n",
       "      <th>6</th>\n",
       "      <td>Brickheadz</td>\n",
       "      <td>443,415.64</td>\n",
       "      <td>1,915,953,041.89</td>\n",
       "      <td>1.00</td>\n",
       "    </tr>\n",
       "    <tr>\n",
       "      <th>26</th>\n",
       "      <td>City_Wildlife</td>\n",
       "      <td>435,037.99</td>\n",
       "      <td>1,916,388,079.88</td>\n",
       "      <td>1.00</td>\n",
       "    </tr>\n",
       "    <tr>\n",
       "      <th>51</th>\n",
       "      <td>LEGO_Functions</td>\n",
       "      <td>422,825.08</td>\n",
       "      <td>1,916,810,904.96</td>\n",
       "      <td>1.00</td>\n",
       "    </tr>\n",
       "    <tr>\n",
       "      <th>40</th>\n",
       "      <td>DUPLO_Toy_Story_TM</td>\n",
       "      <td>353,070.22</td>\n",
       "      <td>1,917,163,975.17</td>\n",
       "      <td>1.00</td>\n",
       "    </tr>\n",
       "    <tr>\n",
       "      <th>67</th>\n",
       "      <td>Pick_a_Brick_Retail</td>\n",
       "      <td>276,660.10</td>\n",
       "      <td>1,917,440,635.27</td>\n",
       "      <td>1.00</td>\n",
       "    </tr>\n",
       "    <tr>\n",
       "      <th>68</th>\n",
       "      <td>Pirates_of_the_Caribbean_TM</td>\n",
       "      <td>244,145.41</td>\n",
       "      <td>1,917,684,780.69</td>\n",
       "      <td>1.00</td>\n",
       "    </tr>\n",
       "    <tr>\n",
       "      <th>15</th>\n",
       "      <td>City_Mining</td>\n",
       "      <td>123,385.43</td>\n",
       "      <td>1,917,808,166.12</td>\n",
       "      <td>1.00</td>\n",
       "    </tr>\n",
       "    <tr>\n",
       "      <th>56</th>\n",
       "      <td>LICENSING_AND_EXTENDED_LINE</td>\n",
       "      <td>96,120.57</td>\n",
       "      <td>1,917,904,286.69</td>\n",
       "      <td>1.00</td>\n",
       "    </tr>\n",
       "    <tr>\n",
       "      <th>21</th>\n",
       "      <td>City_Stuntz</td>\n",
       "      <td>78,568.51</td>\n",
       "      <td>1,917,982,855.20</td>\n",
       "      <td>1.00</td>\n",
       "    </tr>\n",
       "    <tr>\n",
       "      <th>22</th>\n",
       "      <td>City_Supplementary</td>\n",
       "      <td>49,665.13</td>\n",
       "      <td>1,918,032,520.33</td>\n",
       "      <td>1.00</td>\n",
       "    </tr>\n",
       "    <tr>\n",
       "      <th>35</th>\n",
       "      <td>DUPLO_LEGO_Movie_2</td>\n",
       "      <td>32,165.66</td>\n",
       "      <td>1,918,064,685.99</td>\n",
       "      <td>1.00</td>\n",
       "    </tr>\n",
       "    <tr>\n",
       "      <th>75</th>\n",
       "      <td>Trolls</td>\n",
       "      <td>23,932.00</td>\n",
       "      <td>1,918,088,617.99</td>\n",
       "      <td>1.00</td>\n",
       "    </tr>\n",
       "    <tr>\n",
       "      <th>17</th>\n",
       "      <td>City_Occasions</td>\n",
       "      <td>13,086.88</td>\n",
       "      <td>1,918,101,704.87</td>\n",
       "      <td>1.00</td>\n",
       "    </tr>\n",
       "    <tr>\n",
       "      <th>29</th>\n",
       "      <td>Customer_Driven_Products</td>\n",
       "      <td>3,821.00</td>\n",
       "      <td>1,918,105,525.87</td>\n",
       "      <td>1.00</td>\n",
       "    </tr>\n",
       "  </tbody>\n",
       "</table>\n",
       "</div>"
      ],
      "text/plain": [
       "                          topic            m18          m18_cum  m18_cum_cnt\n",
       "74                      Technic 346,482,537.02   346,482,537.02         0.18\n",
       "52                   LEGO_Ideas 173,622,190.57   520,104,727.59         0.27\n",
       "28               Creator_Expert 131,225,222.24   651,329,949.83         0.34\n",
       "43              Harry_Potter_TM 103,616,614.49   754,946,564.31         0.39\n",
       "39                   DUPLO_Town  96,535,861.96   851,482,426.28         0.44\n",
       "65                      Ninjago  86,109,547.87   937,591,974.15         0.49\n",
       "50                 LEGO_Friends  81,363,745.10 1,018,955,719.24         0.53\n",
       "41              Disney_Princess  72,240,874.12 1,091,196,593.37         0.57\n",
       "19                  City_Police  69,953,900.32 1,161,150,493.69         0.61\n",
       "72                 Super_Heroes  69,469,947.50 1,230,620,441.19         0.64\n",
       "48                 LEGO_Classic  66,165,948.55 1,296,786,389.74         0.68\n",
       "62                   Monkie_Kid  45,844,325.80 1,342,630,715.54         0.70\n",
       "36               DUPLO_My_First  45,813,222.02 1,388,443,937.56         0.72\n",
       "44                        Icons  44,239,407.06 1,432,683,344.61         0.75\n",
       "12                    City_Fire  40,006,053.68 1,472,689,398.30         0.77\n",
       "70                 Star_Wars_TM  39,579,775.13 1,512,269,173.43         0.79\n",
       "20              City_Space_Port  36,234,581.56 1,548,503,754.99         0.81\n",
       "69              Speed_Champions  35,542,434.95 1,584,046,189.93         0.83\n",
       "32                DUPLO_Classic  32,995,814.72 1,617,042,004.65         0.84\n",
       "8             Chinese_Festivals  29,700,318.15 1,646,742,322.81         0.86\n",
       "47            LEGO_Architecture  28,674,385.83 1,675,416,708.64         0.87\n",
       "49                 LEGO_Creator  20,916,412.70 1,696,333,121.34         0.88\n",
       "58                  Merchandise  17,011,297.41 1,713,344,418.75         0.89\n",
       "13          City_Great_Vehicles  17,008,903.10 1,730,353,321.85         0.90\n",
       "42              Disney_Specials  16,131,238.62 1,746,484,560.47         0.91\n",
       "61                      Minions  15,543,708.03 1,762,028,268.49         0.92\n",
       "4       Brand_Campaign_Products  13,917,850.10 1,775,946,118.60         0.93\n",
       "66                         None   9,516,450.51 1,785,462,569.11         0.93\n",
       "33              DUPLO_Disney_TM   9,509,670.22 1,794,972,239.33         0.94\n",
       "24                  City_Trains   9,007,858.17 1,803,980,097.49         0.94\n",
       "73                  Super_Mario   9,005,320.04 1,812,985,417.53         0.95\n",
       "18                  City_Oceans   8,963,503.07 1,821,948,920.60         0.95\n",
       "55               LEGO_Overwatch   8,490,265.29 1,830,439,185.89         0.95\n",
       "60                    Minecraft   8,195,924.95 1,838,635,110.85         0.96\n",
       "2                         BOOST   6,850,375.28 1,845,485,486.13         0.96\n",
       "1                           ART   6,815,376.48 1,852,300,862.61         0.97\n",
       "30                         DOTS   6,587,484.67 1,858,888,347.27         0.97\n",
       "46               Jurassic_World   6,107,504.85 1,864,995,852.12         0.97\n",
       "64                 Nexo_Knights   4,752,634.41 1,869,748,486.53         0.97\n",
       "37            DUPLO_Princess_TM   4,636,938.21 1,874,385,424.74         0.98\n",
       "45                      Juniors   4,177,908.35 1,878,563,333.09         0.98\n",
       "9                  City_Airport   3,829,623.18 1,882,392,956.27         0.98\n",
       "5                    BrickHeadz   3,646,653.56 1,886,039,609.84         0.98\n",
       "10       City_Arctic_Expedition   3,255,779.20 1,889,295,389.04         0.98\n",
       "53             LEGO_Minifigures   2,508,887.07 1,891,804,276.11         0.99\n",
       "3                  Batman_Movie   2,487,820.84 1,894,292,096.95         0.99\n",
       "57                   MINDSTORMS   2,336,397.95 1,896,628,494.90         0.99\n",
       "0                            4+   2,091,338.14 1,898,719,833.04         0.99\n",
       "23                    City_Town   1,946,152.61 1,900,665,985.65         0.99\n",
       "71              Stranger_Things   1,916,224.13 1,902,582,209.78         0.99\n",
       "63                      My_City   1,848,270.74 1,904,430,480.52         0.99\n",
       "31                DUPLO_Cars_TM   1,847,944.29 1,906,278,424.80         0.99\n",
       "11             City_Coast_Guard   1,723,409.84 1,908,001,834.65         0.99\n",
       "16            City_Nitro_Wheels   1,431,133.85 1,909,432,968.50         1.00\n",
       "27       Constraction_Star_Wars   1,269,602.21 1,910,702,570.70         1.00\n",
       "54                   LEGO_Movie   1,096,626.46 1,911,799,197.16         1.00\n",
       "25       City_Volcano_Explorers     904,225.52 1,912,703,422.68         1.00\n",
       "14        City_Jungle_Explorers     633,423.96 1,913,336,846.64         1.00\n",
       "38           DUPLO_Super_Heroes     631,373.90 1,913,968,220.55         1.00\n",
       "59           Mickey_and_Friends     555,639.43 1,914,523,859.98         1.00\n",
       "34         DUPLO_Jurassic_World     501,941.75 1,915,025,801.73         1.00\n",
       "7                  Build_A_Mini     483,824.52 1,915,509,626.25         1.00\n",
       "6                    Brickheadz     443,415.64 1,915,953,041.89         1.00\n",
       "26                City_Wildlife     435,037.99 1,916,388,079.88         1.00\n",
       "51               LEGO_Functions     422,825.08 1,916,810,904.96         1.00\n",
       "40           DUPLO_Toy_Story_TM     353,070.22 1,917,163,975.17         1.00\n",
       "67          Pick_a_Brick_Retail     276,660.10 1,917,440,635.27         1.00\n",
       "68  Pirates_of_the_Caribbean_TM     244,145.41 1,917,684,780.69         1.00\n",
       "15                  City_Mining     123,385.43 1,917,808,166.12         1.00\n",
       "56  LICENSING_AND_EXTENDED_LINE      96,120.57 1,917,904,286.69         1.00\n",
       "21                  City_Stuntz      78,568.51 1,917,982,855.20         1.00\n",
       "22           City_Supplementary      49,665.13 1,918,032,520.33         1.00\n",
       "35           DUPLO_LEGO_Movie_2      32,165.66 1,918,064,685.99         1.00\n",
       "75                       Trolls      23,932.00 1,918,088,617.99         1.00\n",
       "17               City_Occasions      13,086.88 1,918,101,704.87         1.00\n",
       "29     Customer_Driven_Products       3,821.00 1,918,105,525.87         1.00"
      ]
     },
     "execution_count": 44,
     "metadata": {},
     "output_type": "execute_result"
    },
    {
     "data": {
      "text/plain": [
       "0         Boys\n",
       "4    Preschool\n",
       "1        Girls\n",
       "2         None\n",
       "Name: super_segment, dtype: object"
      ]
     },
     "execution_count": 44,
     "metadata": {},
     "output_type": "execute_result"
    },
    {
     "data": {
      "text/html": [
       "<div>\n",
       "<style scoped>\n",
       "    .dataframe tbody tr th:only-of-type {\n",
       "        vertical-align: middle;\n",
       "    }\n",
       "\n",
       "    .dataframe tbody tr th {\n",
       "        vertical-align: top;\n",
       "    }\n",
       "\n",
       "    .dataframe thead th {\n",
       "        text-align: right;\n",
       "    }\n",
       "</style>\n",
       "<table border=\"1\" class=\"dataframe\">\n",
       "  <thead>\n",
       "    <tr style=\"text-align: right;\">\n",
       "      <th></th>\n",
       "      <th>super_segment</th>\n",
       "      <th>m18</th>\n",
       "      <th>m18_cum</th>\n",
       "      <th>m18_cum_cnt</th>\n",
       "    </tr>\n",
       "  </thead>\n",
       "  <tbody>\n",
       "    <tr>\n",
       "      <th>0</th>\n",
       "      <td>Boys</td>\n",
       "      <td>1,380,484,018.08</td>\n",
       "      <td>1,380,484,018.08</td>\n",
       "      <td>0.72</td>\n",
       "    </tr>\n",
       "    <tr>\n",
       "      <th>4</th>\n",
       "      <td>Preschool</td>\n",
       "      <td>243,889,184.27</td>\n",
       "      <td>1,624,373,202.35</td>\n",
       "      <td>0.85</td>\n",
       "    </tr>\n",
       "    <tr>\n",
       "      <th>1</th>\n",
       "      <td>Girls</td>\n",
       "      <td>145,996,318.68</td>\n",
       "      <td>1,770,369,521.03</td>\n",
       "      <td>0.92</td>\n",
       "    </tr>\n",
       "    <tr>\n",
       "      <th>2</th>\n",
       "      <td>None</td>\n",
       "      <td>129,870,447.25</td>\n",
       "      <td>1,900,239,968.27</td>\n",
       "      <td>0.99</td>\n",
       "    </tr>\n",
       "    <tr>\n",
       "      <th>3</th>\n",
       "      <td>Others</td>\n",
       "      <td>17,865,557.60</td>\n",
       "      <td>1,918,105,525.87</td>\n",
       "      <td>1.00</td>\n",
       "    </tr>\n",
       "  </tbody>\n",
       "</table>\n",
       "</div>"
      ],
      "text/plain": [
       "  super_segment              m18          m18_cum  m18_cum_cnt\n",
       "0          Boys 1,380,484,018.08 1,380,484,018.08         0.72\n",
       "4     Preschool   243,889,184.27 1,624,373,202.35         0.85\n",
       "1         Girls   145,996,318.68 1,770,369,521.03         0.92\n",
       "2          None   129,870,447.25 1,900,239,968.27         0.99\n",
       "3        Others    17,865,557.60 1,918,105,525.87         1.00"
      ]
     },
     "execution_count": 44,
     "metadata": {},
     "output_type": "execute_result"
    },
    {
     "data": {
      "text/plain": [
       "7        LEGO_Creator\n",
       "17            Technic\n",
       "16     Play_Themes_IP\n",
       "6           LEGO_City\n",
       "3               DUPLO\n",
       "15        Play_Themes\n",
       "5               Girls\n",
       "0                  4+\n",
       "4     Design_Classics\n",
       "10    Merch_Promotion\n",
       "12               None\n",
       "9          MINDSTORMS\n",
       "Name: product_bu, dtype: object"
      ]
     },
     "execution_count": 44,
     "metadata": {},
     "output_type": "execute_result"
    },
    {
     "data": {
      "text/html": [
       "<div>\n",
       "<style scoped>\n",
       "    .dataframe tbody tr th:only-of-type {\n",
       "        vertical-align: middle;\n",
       "    }\n",
       "\n",
       "    .dataframe tbody tr th {\n",
       "        vertical-align: top;\n",
       "    }\n",
       "\n",
       "    .dataframe thead th {\n",
       "        text-align: right;\n",
       "    }\n",
       "</style>\n",
       "<table border=\"1\" class=\"dataframe\">\n",
       "  <thead>\n",
       "    <tr style=\"text-align: right;\">\n",
       "      <th></th>\n",
       "      <th>product_bu</th>\n",
       "      <th>m18</th>\n",
       "      <th>m18_cum</th>\n",
       "      <th>m18_cum_cnt</th>\n",
       "    </tr>\n",
       "  </thead>\n",
       "  <tbody>\n",
       "    <tr>\n",
       "      <th>7</th>\n",
       "      <td>LEGO_Creator</td>\n",
       "      <td>367,952,233.72</td>\n",
       "      <td>367,952,233.72</td>\n",
       "      <td>0.19</td>\n",
       "    </tr>\n",
       "    <tr>\n",
       "      <th>17</th>\n",
       "      <td>Technic</td>\n",
       "      <td>346,482,537.02</td>\n",
       "      <td>714,434,770.74</td>\n",
       "      <td>0.37</td>\n",
       "    </tr>\n",
       "    <tr>\n",
       "      <th>16</th>\n",
       "      <td>Play_Themes_IP</td>\n",
       "      <td>313,321,694.94</td>\n",
       "      <td>1,027,756,465.67</td>\n",
       "      <td>0.54</td>\n",
       "    </tr>\n",
       "    <tr>\n",
       "      <th>6</th>\n",
       "      <td>LEGO_City</td>\n",
       "      <td>197,446,562.76</td>\n",
       "      <td>1,225,203,028.43</td>\n",
       "      <td>0.64</td>\n",
       "    </tr>\n",
       "    <tr>\n",
       "      <th>3</th>\n",
       "      <td>DUPLO</td>\n",
       "      <td>192,858,002.93</td>\n",
       "      <td>1,418,061,031.37</td>\n",
       "      <td>0.74</td>\n",
       "    </tr>\n",
       "    <tr>\n",
       "      <th>15</th>\n",
       "      <td>Play_Themes</td>\n",
       "      <td>168,915,713.31</td>\n",
       "      <td>1,586,976,744.67</td>\n",
       "      <td>0.83</td>\n",
       "    </tr>\n",
       "    <tr>\n",
       "      <th>5</th>\n",
       "      <td>Girls</td>\n",
       "      <td>160,216,035.89</td>\n",
       "      <td>1,747,192,780.56</td>\n",
       "      <td>0.91</td>\n",
       "    </tr>\n",
       "    <tr>\n",
       "      <th>0</th>\n",
       "      <td>4+</td>\n",
       "      <td>86,908,684.57</td>\n",
       "      <td>1,834,101,465.13</td>\n",
       "      <td>0.96</td>\n",
       "    </tr>\n",
       "    <tr>\n",
       "      <th>4</th>\n",
       "      <td>Design_Classics</td>\n",
       "      <td>28,674,385.83</td>\n",
       "      <td>1,862,775,850.96</td>\n",
       "      <td>0.97</td>\n",
       "    </tr>\n",
       "    <tr>\n",
       "      <th>10</th>\n",
       "      <td>Merch_Promotion</td>\n",
       "      <td>17,775,603.03</td>\n",
       "      <td>1,880,551,453.99</td>\n",
       "      <td>0.98</td>\n",
       "    </tr>\n",
       "    <tr>\n",
       "      <th>12</th>\n",
       "      <td>None</td>\n",
       "      <td>9,516,450.51</td>\n",
       "      <td>1,890,067,904.50</td>\n",
       "      <td>0.99</td>\n",
       "    </tr>\n",
       "    <tr>\n",
       "      <th>9</th>\n",
       "      <td>MINDSTORMS</td>\n",
       "      <td>9,186,773.23</td>\n",
       "      <td>1,899,254,677.73</td>\n",
       "      <td>0.99</td>\n",
       "    </tr>\n",
       "    <tr>\n",
       "      <th>11</th>\n",
       "      <td>Minecraft</td>\n",
       "      <td>8,195,924.95</td>\n",
       "      <td>1,907,450,602.68</td>\n",
       "      <td>0.99</td>\n",
       "    </tr>\n",
       "    <tr>\n",
       "      <th>14</th>\n",
       "      <td>PG_1_General</td>\n",
       "      <td>6,815,376.48</td>\n",
       "      <td>1,914,265,979.16</td>\n",
       "      <td>1.00</td>\n",
       "    </tr>\n",
       "    <tr>\n",
       "      <th>1</th>\n",
       "      <td>Community_Business</td>\n",
       "      <td>2,050,998.85</td>\n",
       "      <td>1,916,316,978.01</td>\n",
       "      <td>1.00</td>\n",
       "    </tr>\n",
       "    <tr>\n",
       "      <th>2</th>\n",
       "      <td>Constraction</td>\n",
       "      <td>1,269,602.21</td>\n",
       "      <td>1,917,586,580.22</td>\n",
       "      <td>1.00</td>\n",
       "    </tr>\n",
       "    <tr>\n",
       "      <th>8</th>\n",
       "      <td>LEGO_General</td>\n",
       "      <td>422,825.08</td>\n",
       "      <td>1,918,009,405.30</td>\n",
       "      <td>1.00</td>\n",
       "    </tr>\n",
       "    <tr>\n",
       "      <th>13</th>\n",
       "      <td>Outbound_Licensing</td>\n",
       "      <td>96,120.57</td>\n",
       "      <td>1,918,105,525.87</td>\n",
       "      <td>1.00</td>\n",
       "    </tr>\n",
       "  </tbody>\n",
       "</table>\n",
       "</div>"
      ],
      "text/plain": [
       "            product_bu            m18          m18_cum  m18_cum_cnt\n",
       "7         LEGO_Creator 367,952,233.72   367,952,233.72         0.19\n",
       "17             Technic 346,482,537.02   714,434,770.74         0.37\n",
       "16      Play_Themes_IP 313,321,694.94 1,027,756,465.67         0.54\n",
       "6            LEGO_City 197,446,562.76 1,225,203,028.43         0.64\n",
       "3                DUPLO 192,858,002.93 1,418,061,031.37         0.74\n",
       "15         Play_Themes 168,915,713.31 1,586,976,744.67         0.83\n",
       "5                Girls 160,216,035.89 1,747,192,780.56         0.91\n",
       "0                   4+  86,908,684.57 1,834,101,465.13         0.96\n",
       "4      Design_Classics  28,674,385.83 1,862,775,850.96         0.97\n",
       "10     Merch_Promotion  17,775,603.03 1,880,551,453.99         0.98\n",
       "12                None   9,516,450.51 1,890,067,904.50         0.99\n",
       "9           MINDSTORMS   9,186,773.23 1,899,254,677.73         0.99\n",
       "11           Minecraft   8,195,924.95 1,907,450,602.68         0.99\n",
       "14        PG_1_General   6,815,376.48 1,914,265,979.16         1.00\n",
       "1   Community_Business   2,050,998.85 1,916,316,978.01         1.00\n",
       "2         Constraction   1,269,602.21 1,917,586,580.22         1.00\n",
       "8         LEGO_General     422,825.08 1,918,009,405.30         1.00\n",
       "13  Outbound_Licensing      96,120.57 1,918,105,525.87         1.00"
      ]
     },
     "execution_count": 44,
     "metadata": {},
     "output_type": "execute_result"
    },
    {
     "data": {
      "text/plain": [
       "8      16+\n",
       "0      10+\n",
       "9      18+\n",
       "29      8+\n",
       "23      6+\n",
       "32      9+\n",
       "26      7+\n",
       "14     2-5\n",
       "19      5+\n",
       "18    4-99\n",
       "27    7-12\n",
       "5      12+\n",
       "Name: age_mark, dtype: object"
      ]
     },
     "execution_count": 44,
     "metadata": {},
     "output_type": "execute_result"
    },
    {
     "data": {
      "text/html": [
       "<div>\n",
       "<style scoped>\n",
       "    .dataframe tbody tr th:only-of-type {\n",
       "        vertical-align: middle;\n",
       "    }\n",
       "\n",
       "    .dataframe tbody tr th {\n",
       "        vertical-align: top;\n",
       "    }\n",
       "\n",
       "    .dataframe thead th {\n",
       "        text-align: right;\n",
       "    }\n",
       "</style>\n",
       "<table border=\"1\" class=\"dataframe\">\n",
       "  <thead>\n",
       "    <tr style=\"text-align: right;\">\n",
       "      <th></th>\n",
       "      <th>age_mark</th>\n",
       "      <th>m18</th>\n",
       "      <th>m18_cum</th>\n",
       "      <th>m18_cum_cnt</th>\n",
       "    </tr>\n",
       "  </thead>\n",
       "  <tbody>\n",
       "    <tr>\n",
       "      <th>8</th>\n",
       "      <td>16+</td>\n",
       "      <td>349,774,848.74</td>\n",
       "      <td>349,774,848.74</td>\n",
       "      <td>0.18</td>\n",
       "    </tr>\n",
       "    <tr>\n",
       "      <th>0</th>\n",
       "      <td>10+</td>\n",
       "      <td>196,250,701.37</td>\n",
       "      <td>546,025,550.10</td>\n",
       "      <td>0.28</td>\n",
       "    </tr>\n",
       "    <tr>\n",
       "      <th>9</th>\n",
       "      <td>18+</td>\n",
       "      <td>167,253,251.58</td>\n",
       "      <td>713,278,801.68</td>\n",
       "      <td>0.37</td>\n",
       "    </tr>\n",
       "    <tr>\n",
       "      <th>29</th>\n",
       "      <td>8+</td>\n",
       "      <td>138,878,314.04</td>\n",
       "      <td>852,157,115.72</td>\n",
       "      <td>0.44</td>\n",
       "    </tr>\n",
       "    <tr>\n",
       "      <th>23</th>\n",
       "      <td>6+</td>\n",
       "      <td>133,223,562.91</td>\n",
       "      <td>985,380,678.63</td>\n",
       "      <td>0.51</td>\n",
       "    </tr>\n",
       "    <tr>\n",
       "      <th>32</th>\n",
       "      <td>9+</td>\n",
       "      <td>110,029,464.06</td>\n",
       "      <td>1,095,410,142.69</td>\n",
       "      <td>0.57</td>\n",
       "    </tr>\n",
       "    <tr>\n",
       "      <th>26</th>\n",
       "      <td>7+</td>\n",
       "      <td>101,267,718.75</td>\n",
       "      <td>1,196,677,861.44</td>\n",
       "      <td>0.62</td>\n",
       "    </tr>\n",
       "    <tr>\n",
       "      <th>14</th>\n",
       "      <td>2-5</td>\n",
       "      <td>100,231,104.46</td>\n",
       "      <td>1,296,908,965.90</td>\n",
       "      <td>0.68</td>\n",
       "    </tr>\n",
       "    <tr>\n",
       "      <th>19</th>\n",
       "      <td>5+</td>\n",
       "      <td>90,450,576.99</td>\n",
       "      <td>1,387,359,542.89</td>\n",
       "      <td>0.72</td>\n",
       "    </tr>\n",
       "    <tr>\n",
       "      <th>18</th>\n",
       "      <td>4-99</td>\n",
       "      <td>62,911,877.38</td>\n",
       "      <td>1,450,271,420.27</td>\n",
       "      <td>0.76</td>\n",
       "    </tr>\n",
       "    <tr>\n",
       "      <th>27</th>\n",
       "      <td>7-12</td>\n",
       "      <td>60,338,339.48</td>\n",
       "      <td>1,510,609,759.75</td>\n",
       "      <td>0.79</td>\n",
       "    </tr>\n",
       "    <tr>\n",
       "      <th>5</th>\n",
       "      <td>12+</td>\n",
       "      <td>55,887,805.87</td>\n",
       "      <td>1,566,497,565.62</td>\n",
       "      <td>0.82</td>\n",
       "    </tr>\n",
       "    <tr>\n",
       "      <th>24</th>\n",
       "      <td>6-12</td>\n",
       "      <td>55,731,058.22</td>\n",
       "      <td>1,622,228,623.84</td>\n",
       "      <td>0.85</td>\n",
       "    </tr>\n",
       "    <tr>\n",
       "      <th>10</th>\n",
       "      <td>1½+</td>\n",
       "      <td>37,540,704.32</td>\n",
       "      <td>1,659,769,328.16</td>\n",
       "      <td>0.87</td>\n",
       "    </tr>\n",
       "    <tr>\n",
       "      <th>37</th>\n",
       "      <td>None</td>\n",
       "      <td>31,093,457.47</td>\n",
       "      <td>1,690,862,785.63</td>\n",
       "      <td>0.88</td>\n",
       "    </tr>\n",
       "    <tr>\n",
       "      <th>13</th>\n",
       "      <td>2+</td>\n",
       "      <td>27,573,302.60</td>\n",
       "      <td>1,718,436,088.23</td>\n",
       "      <td>0.90</td>\n",
       "    </tr>\n",
       "    <tr>\n",
       "      <th>34</th>\n",
       "      <td>9-14</td>\n",
       "      <td>25,905,082.47</td>\n",
       "      <td>1,744,341,170.70</td>\n",
       "      <td>0.91</td>\n",
       "    </tr>\n",
       "    <tr>\n",
       "      <th>3</th>\n",
       "      <td>11+</td>\n",
       "      <td>20,310,488.56</td>\n",
       "      <td>1,764,651,659.26</td>\n",
       "      <td>0.92</td>\n",
       "    </tr>\n",
       "    <tr>\n",
       "      <th>7</th>\n",
       "      <td>14+</td>\n",
       "      <td>19,417,647.88</td>\n",
       "      <td>1,784,069,307.14</td>\n",
       "      <td>0.93</td>\n",
       "    </tr>\n",
       "    <tr>\n",
       "      <th>16</th>\n",
       "      <td>4+</td>\n",
       "      <td>17,923,423.86</td>\n",
       "      <td>1,801,992,731.00</td>\n",
       "      <td>0.94</td>\n",
       "    </tr>\n",
       "    <tr>\n",
       "      <th>31</th>\n",
       "      <td>8-14</td>\n",
       "      <td>17,710,138.36</td>\n",
       "      <td>1,819,702,869.36</td>\n",
       "      <td>0.95</td>\n",
       "    </tr>\n",
       "    <tr>\n",
       "      <th>28</th>\n",
       "      <td>7-14</td>\n",
       "      <td>15,887,826.95</td>\n",
       "      <td>1,835,590,696.32</td>\n",
       "      <td>0.96</td>\n",
       "    </tr>\n",
       "    <tr>\n",
       "      <th>11</th>\n",
       "      <td>1½-3</td>\n",
       "      <td>15,589,716.21</td>\n",
       "      <td>1,851,180,412.53</td>\n",
       "      <td>0.97</td>\n",
       "    </tr>\n",
       "    <tr>\n",
       "      <th>12</th>\n",
       "      <td>1½-5</td>\n",
       "      <td>14,802,398.31</td>\n",
       "      <td>1,865,982,810.83</td>\n",
       "      <td>0.97</td>\n",
       "    </tr>\n",
       "    <tr>\n",
       "      <th>22</th>\n",
       "      <td>5-99</td>\n",
       "      <td>13,917,850.10</td>\n",
       "      <td>1,879,900,660.94</td>\n",
       "      <td>0.98</td>\n",
       "    </tr>\n",
       "    <tr>\n",
       "      <th>20</th>\n",
       "      <td>5-12</td>\n",
       "      <td>10,697,108.15</td>\n",
       "      <td>1,890,597,769.08</td>\n",
       "      <td>0.99</td>\n",
       "    </tr>\n",
       "    <tr>\n",
       "      <th>35</th>\n",
       "      <td>9-16</td>\n",
       "      <td>10,611,831.75</td>\n",
       "      <td>1,901,209,600.84</td>\n",
       "      <td>0.99</td>\n",
       "    </tr>\n",
       "    <tr>\n",
       "      <th>2</th>\n",
       "      <td>10-16</td>\n",
       "      <td>8,264,994.47</td>\n",
       "      <td>1,909,474,595.31</td>\n",
       "      <td>1.00</td>\n",
       "    </tr>\n",
       "    <tr>\n",
       "      <th>17</th>\n",
       "      <td>4-7</td>\n",
       "      <td>4,351,420.13</td>\n",
       "      <td>1,913,826,015.44</td>\n",
       "      <td>1.00</td>\n",
       "    </tr>\n",
       "    <tr>\n",
       "      <th>30</th>\n",
       "      <td>8-12</td>\n",
       "      <td>1,541,313.82</td>\n",
       "      <td>1,915,367,329.26</td>\n",
       "      <td>1.00</td>\n",
       "    </tr>\n",
       "    <tr>\n",
       "      <th>4</th>\n",
       "      <td>11-16</td>\n",
       "      <td>1,223,695.28</td>\n",
       "      <td>1,916,591,024.54</td>\n",
       "      <td>1.00</td>\n",
       "    </tr>\n",
       "    <tr>\n",
       "      <th>6</th>\n",
       "      <td>12-16</td>\n",
       "      <td>644,375.41</td>\n",
       "      <td>1,917,235,399.95</td>\n",
       "      <td>1.00</td>\n",
       "    </tr>\n",
       "    <tr>\n",
       "      <th>39</th>\n",
       "      <td>nan</td>\n",
       "      <td>591,459.19</td>\n",
       "      <td>1,917,826,859.15</td>\n",
       "      <td>1.00</td>\n",
       "    </tr>\n",
       "    <tr>\n",
       "      <th>25</th>\n",
       "      <td>6-14</td>\n",
       "      <td>150,098.33</td>\n",
       "      <td>1,917,976,957.48</td>\n",
       "      <td>1.00</td>\n",
       "    </tr>\n",
       "    <tr>\n",
       "      <th>21</th>\n",
       "      <td>5-8</td>\n",
       "      <td>49,568.65</td>\n",
       "      <td>1,918,026,526.13</td>\n",
       "      <td>1.00</td>\n",
       "    </tr>\n",
       "    <tr>\n",
       "      <th>15</th>\n",
       "      <td>3+</td>\n",
       "      <td>36,917.66</td>\n",
       "      <td>1,918,063,443.79</td>\n",
       "      <td>1.00</td>\n",
       "    </tr>\n",
       "    <tr>\n",
       "      <th>33</th>\n",
       "      <td>9-12</td>\n",
       "      <td>25,546.02</td>\n",
       "      <td>1,918,088,989.80</td>\n",
       "      <td>1.00</td>\n",
       "    </tr>\n",
       "    <tr>\n",
       "      <th>38</th>\n",
       "      <td>Not_assigned</td>\n",
       "      <td>9,212.00</td>\n",
       "      <td>1,918,098,201.80</td>\n",
       "      <td>1.00</td>\n",
       "    </tr>\n",
       "    <tr>\n",
       "      <th>36</th>\n",
       "      <td>NO_AGE</td>\n",
       "      <td>5,177.00</td>\n",
       "      <td>1,918,103,378.80</td>\n",
       "      <td>1.00</td>\n",
       "    </tr>\n",
       "    <tr>\n",
       "      <th>1</th>\n",
       "      <td>10-14</td>\n",
       "      <td>2,147.07</td>\n",
       "      <td>1,918,105,525.87</td>\n",
       "      <td>1.00</td>\n",
       "    </tr>\n",
       "  </tbody>\n",
       "</table>\n",
       "</div>"
      ],
      "text/plain": [
       "        age_mark            m18          m18_cum  m18_cum_cnt\n",
       "8            16+ 349,774,848.74   349,774,848.74         0.18\n",
       "0            10+ 196,250,701.37   546,025,550.10         0.28\n",
       "9            18+ 167,253,251.58   713,278,801.68         0.37\n",
       "29            8+ 138,878,314.04   852,157,115.72         0.44\n",
       "23            6+ 133,223,562.91   985,380,678.63         0.51\n",
       "32            9+ 110,029,464.06 1,095,410,142.69         0.57\n",
       "26            7+ 101,267,718.75 1,196,677,861.44         0.62\n",
       "14           2-5 100,231,104.46 1,296,908,965.90         0.68\n",
       "19            5+  90,450,576.99 1,387,359,542.89         0.72\n",
       "18          4-99  62,911,877.38 1,450,271,420.27         0.76\n",
       "27          7-12  60,338,339.48 1,510,609,759.75         0.79\n",
       "5            12+  55,887,805.87 1,566,497,565.62         0.82\n",
       "24          6-12  55,731,058.22 1,622,228,623.84         0.85\n",
       "10           1½+  37,540,704.32 1,659,769,328.16         0.87\n",
       "37          None  31,093,457.47 1,690,862,785.63         0.88\n",
       "13            2+  27,573,302.60 1,718,436,088.23         0.90\n",
       "34          9-14  25,905,082.47 1,744,341,170.70         0.91\n",
       "3            11+  20,310,488.56 1,764,651,659.26         0.92\n",
       "7            14+  19,417,647.88 1,784,069,307.14         0.93\n",
       "16            4+  17,923,423.86 1,801,992,731.00         0.94\n",
       "31          8-14  17,710,138.36 1,819,702,869.36         0.95\n",
       "28          7-14  15,887,826.95 1,835,590,696.32         0.96\n",
       "11          1½-3  15,589,716.21 1,851,180,412.53         0.97\n",
       "12          1½-5  14,802,398.31 1,865,982,810.83         0.97\n",
       "22          5-99  13,917,850.10 1,879,900,660.94         0.98\n",
       "20          5-12  10,697,108.15 1,890,597,769.08         0.99\n",
       "35          9-16  10,611,831.75 1,901,209,600.84         0.99\n",
       "2          10-16   8,264,994.47 1,909,474,595.31         1.00\n",
       "17           4-7   4,351,420.13 1,913,826,015.44         1.00\n",
       "30          8-12   1,541,313.82 1,915,367,329.26         1.00\n",
       "4          11-16   1,223,695.28 1,916,591,024.54         1.00\n",
       "6          12-16     644,375.41 1,917,235,399.95         1.00\n",
       "39           nan     591,459.19 1,917,826,859.15         1.00\n",
       "25          6-14     150,098.33 1,917,976,957.48         1.00\n",
       "21           5-8      49,568.65 1,918,026,526.13         1.00\n",
       "15            3+      36,917.66 1,918,063,443.79         1.00\n",
       "33          9-12      25,546.02 1,918,088,989.80         1.00\n",
       "38  Not_assigned       9,212.00 1,918,098,201.80         1.00\n",
       "36        NO_AGE       5,177.00 1,918,103,378.80         1.00\n",
       "1          10-14       2,147.07 1,918,105,525.87         1.00"
      ]
     },
     "execution_count": 44,
     "metadata": {},
     "output_type": "execute_result"
    }
   ],
   "source": [
    "prod_top, ttl_prod=group_top(ttl_var, 'prod_category',threshold=0.99)\n",
    "prod_top\n",
    "ttl_prod\n",
    "topic_top, ttl_topic=group_top(ttl_var, 'topic',threshold=0.80)\n",
    "topic_top\n",
    "ttl_topic\n",
    "segment_top, ttl_segment=group_top(ttl_var, 'super_segment', threshold=0.99)\n",
    "segment_top\n",
    "ttl_segment\n",
    "bu_top, ttl_bu=group_top(ttl_var, 'product_bu', threshold=0.99)\n",
    "bu_top\n",
    "ttl_bu\n",
    "mark_top, ttl_mark=group_top(ttl_var, 'age_mark', threshold=0.80)\n",
    "mark_top\n",
    "ttl_mark"
   ]
  },
  {
   "cell_type": "code",
   "execution_count": 45,
   "metadata": {},
   "outputs": [],
   "source": [
    "var_list=['prod_category', 'topic','super_segment','product_bu','age_mark']\n",
    "mapping = dict(zip(var_list, [col+'_original' for col in var_list]))\n",
    "\n",
    "oo_full_3=oo_full_2.select([c for c in oo_full_1.columns if c not in var_list] + [col(c).alias(mapping.get(c, c)) for c in var_list])\\\n",
    "        .withColumn('prod_category', when(F.col('prod_category_original').isin(*prod_top), F.col('prod_category_original')).otherwise('other'))\\\n",
    "        .withColumn('topic', when(F.col('topic_original').isin(*topic_top), F.col('topic_original')).otherwise('other'))\\\n",
    "        .withColumn('super_segment', when(F.col('super_segment_original').isin(*segment_top), F.col('super_segment_original')).otherwise('other'))\\\n",
    "        .withColumn('product_bu', when(F.col('product_bu_original').isin(*bu_top), F.col('product_bu_original')).otherwise('other'))\\\n",
    "        .withColumn('age_mark', when(F.col('age_mark_original').isin(*mark_top), F.col('age_mark_original')).otherwise('other'))"
   ]
  },
  {
   "cell_type": "code",
   "execution_count": 46,
   "metadata": {},
   "outputs": [],
   "source": [
    "oo_full_3.write.mode('overwrite').saveAsTable('default.mlmdl_oo_full_3_' +mdl_label)\n",
    "oo_full_3=spark.sql('select * from default.mlmdl_oo_full_3_'+mdl_label).repartition(1024, 'member_no')"
   ]
  },
  {
   "cell_type": "code",
   "execution_count": 47,
   "metadata": {},
   "outputs": [],
   "source": [
    "df_q_cate_0=oo_full_3.groupBy(['member_no', 'quarter', 'prod_category']).agg(F.sum('m18').alias('spend'))"
   ]
  },
  {
   "cell_type": "code",
   "execution_count": 48,
   "metadata": {},
   "outputs": [],
   "source": [
    "df_q_cate_w = df_q_cate_0.groupBy(['member_no', 'quarter', 'prod_category']) \\\n",
    "            .max(\"spend\") \\\n",
    "            .groupBy(['member_no', 'quarter']) \\\n",
    "            .pivot('prod_category') \\\n",
    "            .max('max(spend)')\\\n",
    "            .fillna(0)"
   ]
  },
  {
   "cell_type": "code",
   "execution_count": 49,
   "metadata": {
    "scrolled": true
   },
   "outputs": [],
   "source": [
    "col_cate=['cate_spend_'+col for col in df_q_cate_w.columns if col not in ['member_no', 'quarter']]\n",
    "mapping = dict(zip(df_q_cate_w.columns, ['member_no', 'quarter'] + col_cate))\n",
    "df_q_cate_w=df_q_cate_w.select([F.col(c).alias(mapping.get(c, c)) for c in df_q_cate_w.columns])"
   ]
  },
  {
   "cell_type": "code",
   "execution_count": 50,
   "metadata": {},
   "outputs": [],
   "source": [
    "df_q_topic_0=oo_full_3.groupBy(['member_no', 'quarter', 'topic']).agg(F.sum('m18').alias('spend'))"
   ]
  },
  {
   "cell_type": "code",
   "execution_count": 51,
   "metadata": {},
   "outputs": [],
   "source": [
    "df_q_topic_w = df_q_topic_0.groupBy(['member_no', 'quarter', 'topic']) \\\n",
    "            .max(\"spend\") \\\n",
    "            .groupBy(['member_no', 'quarter']) \\\n",
    "            .pivot('topic') \\\n",
    "            .max('max(spend)')\\\n",
    "            .drop('BrickHeadz')\\\n",
    "            .fillna(0)"
   ]
  },
  {
   "cell_type": "code",
   "execution_count": 52,
   "metadata": {},
   "outputs": [],
   "source": [
    "col_topic=['topic_spend_'+col for col in df_q_topic_w.columns if col not in ['member_no', 'quarter']]\n",
    "mapping = dict(zip(df_q_topic_w.columns, ['member_no', 'quarter'] + col_topic))\n",
    "df_q_topic_w=df_q_topic_w.select([F.col(c).alias(mapping.get(c, c)) for c in df_q_topic_w.columns])"
   ]
  },
  {
   "cell_type": "code",
   "execution_count": 53,
   "metadata": {},
   "outputs": [],
   "source": [
    "df_q_segment_0=oo_full_3.groupBy(['member_no', 'quarter', 'super_segment']).agg(F.sum('m18').alias('spend'))"
   ]
  },
  {
   "cell_type": "code",
   "execution_count": 54,
   "metadata": {},
   "outputs": [],
   "source": [
    "df_q_segment_w = df_q_segment_0.groupBy(['member_no', 'quarter', 'super_segment']) \\\n",
    "            .max(\"spend\") \\\n",
    "            .groupBy(['member_no', 'quarter']) \\\n",
    "            .pivot('super_segment') \\\n",
    "            .max('max(spend)')\\\n",
    "            .fillna(0)"
   ]
  },
  {
   "cell_type": "code",
   "execution_count": 55,
   "metadata": {},
   "outputs": [],
   "source": [
    "col_segment=['segment_spend_'+col for col in df_q_segment_w.columns if col not in ['member_no', 'quarter']]\n",
    "mapping = dict(zip(df_q_segment_w.columns, ['member_no', 'quarter'] + col_segment))\n",
    "df_q_segment_w=df_q_segment_w.select([F.col(c).alias(mapping.get(c, c)) for c in df_q_segment_w.columns])"
   ]
  },
  {
   "cell_type": "code",
   "execution_count": 56,
   "metadata": {},
   "outputs": [],
   "source": [
    "df_q_bu_0=oo_full_3.groupBy(['member_no', 'quarter', 'product_bu']).agg(F.sum('m18').alias('spend'))"
   ]
  },
  {
   "cell_type": "code",
   "execution_count": 57,
   "metadata": {},
   "outputs": [],
   "source": [
    "df_q_bu_w = df_q_bu_0.groupBy(['member_no', 'quarter', 'product_bu']) \\\n",
    "            .max(\"spend\") \\\n",
    "            .groupBy(['member_no', 'quarter']) \\\n",
    "            .pivot('product_bu') \\\n",
    "            .max('max(spend)')\\\n",
    "            .fillna(0)"
   ]
  },
  {
   "cell_type": "code",
   "execution_count": 58,
   "metadata": {},
   "outputs": [],
   "source": [
    "col_bu=['bu_spend_'+col for col in df_q_bu_w.columns if col not in ['member_no', 'quarter']]\n",
    "mapping = dict(zip(df_q_bu_w.columns, ['member_no', 'quarter'] + col_bu))\n",
    "df_q_bu_w=df_q_bu_w.select([F.col(c).alias(mapping.get(c, c)) for c in df_q_bu_w.columns])"
   ]
  },
  {
   "cell_type": "code",
   "execution_count": 59,
   "metadata": {},
   "outputs": [],
   "source": [
    "df_q_age_mark_0=oo_full_3.groupBy(['member_no', 'quarter', 'age_mark']).agg(F.sum('m18').alias('spend'))"
   ]
  },
  {
   "cell_type": "code",
   "execution_count": 60,
   "metadata": {},
   "outputs": [],
   "source": [
    "df_q_age_mark_w = df_q_age_mark_0.groupBy(['member_no', 'quarter', 'age_mark']) \\\n",
    "            .max(\"spend\") \\\n",
    "            .groupBy(['member_no', 'quarter']) \\\n",
    "            .pivot('age_mark') \\\n",
    "            .max('max(spend)')\\\n",
    "            .fillna(0)"
   ]
  },
  {
   "cell_type": "code",
   "execution_count": 61,
   "metadata": {},
   "outputs": [],
   "source": [
    "col_age_mark=['age_mark_spend_'+col for col in df_q_age_mark_w.columns if col not in ['member_no', 'quarter']]\n",
    "mapping = dict(zip(df_q_age_mark_w.columns, ['member_no', 'quarter'] + col_age_mark))\n",
    "df_q_age_mark_w=df_q_age_mark_w.select([F.col(c).alias(mapping.get(c, c)) for c in df_q_age_mark_w.columns])"
   ]
  },
  {
   "cell_type": "code",
   "execution_count": 62,
   "metadata": {},
   "outputs": [],
   "source": [
    "if (qc_flag):\n",
    "    df_q_cate_w.limit(5).toPandas()\n",
    "    df_q_topic_w.limit(5).toPandas()\n",
    "    df_q_segment_w.limit(5).toPandas()\n",
    "    df_q_bu_w.limit(5).toPandas()\n",
    "    df_q_age_mark_w.limit(5).toPandas()\n",
    "    col_cate\n",
    "    col_topic\n",
    "    col_segment\n",
    "    col_bu\n",
    "    col_age_mark"
   ]
  },
  {
   "cell_type": "markdown",
   "metadata": {},
   "source": [
    "# prepare modeling data"
   ]
  },
  {
   "cell_type": "code",
   "execution_count": 63,
   "metadata": {},
   "outputs": [],
   "source": [
    "df_q=df_q_new.join(df_q_cate_w, on=['member_no', 'quarter'], how='left')\\\n",
    "            .join(df_q_topic_w, on=['member_no', 'quarter'], how='left')\\\n",
    "            .join(df_q_segment_w, on=['member_no', 'quarter'], how='left')\\\n",
    "            .join(df_q_bu_w, on=['member_no', 'quarter'], how='left')\\\n",
    "            .join(df_q_age_mark_w, on=['member_no', 'quarter'], how='left')\\\n",
    "            .repartition(512, 'member_no')"
   ]
  },
  {
   "cell_type": "code",
   "execution_count": 64,
   "metadata": {},
   "outputs": [],
   "source": [
    "df_q.write.mode('overwrite').saveAsTable('default.mlmdl_df_' + mdl_label)"
   ]
  },
  {
   "cell_type": "code",
   "execution_count": 65,
   "metadata": {
    "scrolled": true
   },
   "outputs": [],
   "source": [
    "if (qc_flag):   \n",
    "    df_q.columns\n",
    "    spark.sql('select * from default.mlmdl_df_' + mdl_label).show(50)\n",
    "    spark.sql('select count(*) from default.mlmdl_df_' + mdl_label).show()"
   ]
  },
  {
   "cell_type": "code",
   "execution_count": 14,
   "metadata": {},
   "outputs": [],
   "source": [
    "df_q = spark.sql('select * from default.mlmdl_df_' + mdl_label)"
   ]
  },
  {
   "cell_type": "code",
   "execution_count": 15,
   "metadata": {},
   "outputs": [],
   "source": [
    "#分类特征\n",
    "col_to_code=['holiday_flag', 'is_member', 'is_shopper', 'is_consumer', 'gender', 'is_gwp', \\\n",
    "             'age_cohorts', 'marital_status', 'city_grade', 'educational_status', 'user_job', \\\n",
    "             'monthly_pay', 'is_inside_staff', 'chinese_zodiac', 'constellation', 'prom_ind', 'most_freq_holiday']\n",
    "#参数设定\n",
    "#构造52周和11周的x\n",
    "#构造2周的y\n",
    "#数据的时间段从-66周到0周\n",
    "num_pred_q=4\n",
    "num_resp_q=2\n",
    "pred_st_quarter=-12\n",
    "resp_st_quarter=-4\n",
    "tr_end_quarter=-2\n",
    "oot_end_quarter=-1\n",
    "#计算变量重要性的重复次数\n",
    "var_impr_repeat=6\n",
    "#画出30个变量\n",
    "num_var_to_show=30\n",
    "#是否打印qc结果\n",
    "qc_flag=1"
   ]
  },
  {
   "cell_type": "code",
   "execution_count": 16,
   "metadata": {},
   "outputs": [],
   "source": [
    "col_cate=[col for col in df_q.columns if col.startswith('cate_spend_')]\n",
    "col_topic=[col for col in df_q.columns if col.startswith('topic_spend_')]\n",
    "col_segment=[col for col in df_q.columns if col.startswith('segment_spend_')]\n",
    "col_bu=[col for col in df_q.columns if col.startswith('bu_spend_')]\n",
    "col_age_mark=[col for col in df_q.columns if col.startswith('age_mark_spend_')]\n",
    "\n",
    "\n",
    "col_num_q=['recency', 'freq', 'spend', 'unit', 'num_sku',\\\n",
    "         'avg_order_amt', 'avg_sku_amt', \\\n",
    "         'shop_max_freq', 'min_purch_diff', 'max_purch_diff',\\\n",
    "         'avg_purch_diff', 'stddev_purch_diff',\\\n",
    "         'tenure', 'num_topic','num_super_segment','num_shop','num_version','num_mark']\\\n",
    "          +col_cate+col_topic+col_segment+col_bu+col_age_mark"
   ]
  },
  {
   "cell_type": "code",
   "execution_count": 17,
   "metadata": {},
   "outputs": [],
   "source": [
    "col_num_addable=['freq', 'spend', 'unit']+col_cate+col_topic+col_segment+col_bu+col_age_mark\n",
    "col_num_year_avg=[col for col in col_num_q if col not in ['recency', 'tenure']]\n",
    "col_num=col_num_q + [col+'_year' for col in col_num_year_avg]"
   ]
  },
  {
   "cell_type": "code",
   "execution_count": 18,
   "metadata": {},
   "outputs": [],
   "source": [
    "var_pred_tbl=['member_no', 'quarter']+col_num_q+col_to_code\n",
    "var_resp_tbl=['member_no', 'quarter', 'spend'] \n",
    "var_resp_tbl_2=['member_no', 'quarter', 'ltv'] \n",
    "df_pred_0=df_q.filter((F.col('quarter')>=pred_st_quarter) & (F.col('quarter')<=tr_end_quarter))\\\n",
    "            .withColumn('quarter_original', F.col('quarter'))\\\n",
    "            .withColumn('quarter', F.col('quarter_original')+2)\\\n",
    "            .select(*var_pred_tbl)\n",
    "df_resp_0=df_q.filter((F.col('quarter')>=resp_st_quarter)&(F.col('quarter')<=oot_end_quarter))\\\n",
    "            .select(*var_resp_tbl)\n",
    "df_resp_1=df_q.filter((F.col('quarter')>=resp_st_quarter)&(F.col('quarter')<=oot_end_quarter))\\\n",
    "            .groupBy('member_no','quarter').agg(F.sum('spend').alias('ltv'))\\\n",
    "            .select(*var_resp_tbl_2)\n",
    "\n",
    "df_resp_0=df_resp_0.join(df_resp_1.select('member_no','ltv','quarter'), on=['member_no','quarter'], how='left')\n",
    "\n",
    "\n",
    "df_oot_keep=df_q.filter((F.col('quarter')>tr_end_quarter) & (F.col('quarter')<=oot_end_quarter))\\\n",
    "                .select(['member_no', 'quarter', 'purch_ind']+col_num_q+col_to_code)"
   ]
  },
  {
   "cell_type": "code",
   "execution_count": 19,
   "metadata": {},
   "outputs": [
    {
     "data": {
      "text/html": [
       "<div>\n",
       "<style scoped>\n",
       "    .dataframe tbody tr th:only-of-type {\n",
       "        vertical-align: middle;\n",
       "    }\n",
       "\n",
       "    .dataframe tbody tr th {\n",
       "        vertical-align: top;\n",
       "    }\n",
       "\n",
       "    .dataframe thead th {\n",
       "        text-align: right;\n",
       "    }\n",
       "</style>\n",
       "<table border=\"1\" class=\"dataframe\">\n",
       "  <thead>\n",
       "    <tr style=\"text-align: right;\">\n",
       "      <th></th>\n",
       "      <th>max_q</th>\n",
       "      <th>min_q</th>\n",
       "      <th>num_user</th>\n",
       "      <th>num_row</th>\n",
       "    </tr>\n",
       "  </thead>\n",
       "  <tbody>\n",
       "    <tr>\n",
       "      <th>0</th>\n",
       "      <td>0.00</td>\n",
       "      <td>-10.00</td>\n",
       "      <td>1773938</td>\n",
       "      <td>2065926</td>\n",
       "    </tr>\n",
       "  </tbody>\n",
       "</table>\n",
       "</div>"
      ],
      "text/plain": [
       "   max_q  min_q  num_user  num_row\n",
       "0   0.00 -10.00   1773938  2065926"
      ]
     },
     "execution_count": 19,
     "metadata": {},
     "output_type": "execute_result"
    }
   ],
   "source": [
    "df_pred_0.agg(F.max('quarter').alias('max_q'),\\\n",
    "            F.min('quarter').alias('min_q'),\\\n",
    "            F.countDistinct('member_no').alias('num_user'),\\\n",
    "            F.count('member_no').alias('num_row')\\\n",
    "            ).toPandas()"
   ]
  },
  {
   "cell_type": "code",
   "execution_count": 20,
   "metadata": {},
   "outputs": [],
   "source": [
    "for i in range(num_pred_q):\n",
    "    df_tmp=df_pred_0.select(['member_no', 'quarter'] + col_num_year_avg)\\\n",
    "        .withColumn('quarter_original', F.col('quarter')-2)\\\n",
    "        .withColumn('quarter', F.col('quarter_original')+i+1)\\\n",
    "        .filter( (F.col('quarter')<=oot_end_quarter) & (F.col('quarter')>=resp_st_quarter))\n",
    "    if(i==0):\n",
    "        df_pred_year=df_tmp\n",
    "    else:\n",
    "        df_pred_year=df_pred_year.union(df_tmp)"
   ]
  },
  {
   "cell_type": "code",
   "execution_count": 21,
   "metadata": {
    "scrolled": true
   },
   "outputs": [
    {
     "data": {
      "text/plain": [
       "['member_no',\n",
       " 'quarter',\n",
       " 'sum(age_mark_spend_6+)',\n",
       " 'sum(bu_spend_MINDSTORMS)',\n",
       " 'sum(age_mark_spend_12+)',\n",
       " 'sum(num_shop)',\n",
       " 'sum(segment_spend_Boys)',\n",
       " 'sum(age_mark_spend_7-12)',\n",
       " 'sum(topic_spend_LEGO_Ideas)',\n",
       " 'sum(min_purch_diff)',\n",
       " 'sum(num_sku)',\n",
       " 'sum(segment_spend_Preschool)',\n",
       " 'sum(avg_purch_diff)',\n",
       " 'sum(age_mark_spend_18+)',\n",
       " 'sum(topic_spend_Star_Wars_TM)',\n",
       " 'sum(topic_spend_Creator_Expert)',\n",
       " 'sum(segment_spend_Girls)',\n",
       " 'sum(bu_spend_other)',\n",
       " 'sum(spend)',\n",
       " 'sum(topic_spend_Disney_Princess)',\n",
       " 'sum(topic_spend_LEGO_Classic)',\n",
       " 'sum(topic_spend_other)',\n",
       " 'sum(bu_spend_LEGO_Creator)',\n",
       " 'sum(bu_spend_Design_Classics)',\n",
       " 'sum(shop_max_freq)',\n",
       " 'sum(freq)',\n",
       " 'sum(topic_spend_Technic)',\n",
       " 'sum(bu_spend_LEGO_City)',\n",
       " 'sum(age_mark_spend_9+)',\n",
       " 'sum(age_mark_spend_5+)',\n",
       " 'sum(cate_spend_Merchandise)',\n",
       " 'sum(topic_spend_City_Space_Port)',\n",
       " 'sum(segment_spend_None)',\n",
       " 'sum(topic_spend_DUPLO_My_First)',\n",
       " 'sum(bu_spend_4+)',\n",
       " 'sum(bu_spend_None)',\n",
       " 'sum(topic_spend_Harry_Potter_TM)',\n",
       " 'sum(age_mark_spend_8+)',\n",
       " 'sum(age_mark_spend_other)',\n",
       " 'sum(bu_spend_Play_Themes)',\n",
       " 'sum(bu_spend_Play_Themes_IP)',\n",
       " 'sum(topic_spend_Super_Heroes)',\n",
       " 'sum(bu_spend_DUPLO)',\n",
       " 'sum(segment_spend_other)',\n",
       " 'sum(cate_spend_Key_Account)',\n",
       " 'sum(cate_spend_Standard_Retail)',\n",
       " 'sum(age_mark_spend_16+)',\n",
       " 'sum(bu_spend_Merch_Promotion)',\n",
       " 'sum(topic_spend_Icons)',\n",
       " 'sum(cate_spend_other)',\n",
       " 'sum(avg_order_amt)',\n",
       " 'sum(num_version)',\n",
       " 'sum(stddev_purch_diff)',\n",
       " 'sum(age_mark_spend_10+)',\n",
       " 'sum(age_mark_spend_7+)',\n",
       " 'sum(age_mark_spend_4-99)',\n",
       " 'sum(num_mark)',\n",
       " 'sum(topic_spend_DUPLO_Town)',\n",
       " 'sum(bu_spend_Girls)',\n",
       " 'sum(avg_sku_amt)',\n",
       " 'sum(unit)',\n",
       " 'sum(max_purch_diff)',\n",
       " 'sum(topic_spend_Ninjago)',\n",
       " 'sum(age_mark_spend_2-5)',\n",
       " 'sum(bu_spend_Technic)',\n",
       " 'sum(topic_spend_City_Police)',\n",
       " 'sum(cate_spend_D2C_driven)',\n",
       " 'sum(topic_spend_LEGO_Friends)',\n",
       " 'sum(num_topic)',\n",
       " 'sum(num_super_segment)',\n",
       " 'sum(cate_spend_Special_Products)',\n",
       " 'sum(topic_spend_City_Fire)',\n",
       " 'sum(topic_spend_Monkie_Kid)']"
      ]
     },
     "execution_count": 21,
     "metadata": {},
     "output_type": "execute_result"
    }
   ],
   "source": [
    "exprs = {x: \"sum\" for x in col_num_year_avg}\n",
    "df_pred_year_agg=df_pred_year.groupBy(['member_no', 'quarter']).agg(exprs)\n",
    "df_pred_year_agg.columns\n",
    "df_pred_year_agg=df_pred_year_agg.select([F.col(col).alias(col.replace('sum(', '').replace(')', '_year')) for col in df_pred_year_agg.columns])"
   ]
  },
  {
   "cell_type": "code",
   "execution_count": 22,
   "metadata": {},
   "outputs": [],
   "source": [
    "for i in range(num_resp_q):\n",
    "    df_tmp_3=df_resp_0.select(['member_no', 'quarter' , 'spend', 'ltv'])\\\n",
    "        .withColumn('quarter_original', F.col('quarter')-2)\\\n",
    "        .withColumn('quarter', F.col('quarter_original')+i+1)\\\n",
    "        .filter( (F.col('quarter')<=oot_end_quarter) & (F.col('quarter')>=resp_st_quarter))\n",
    "    if(i==0):\n",
    "        df_resp=df_tmp_3\n",
    "    else:\n",
    "        df_resp=df_resp.union(df_tmp_3)"
   ]
  },
  {
   "cell_type": "code",
   "execution_count": 23,
   "metadata": {},
   "outputs": [],
   "source": [
    "col_resp_agg = ['spend','ltv']\n",
    "exprs_sum = {x: \"sum\" for x in col_resp_agg}\n",
    "exprs={**exprs_sum}\n",
    "df_resp_halfyear=df_resp.groupBy(['member_no', 'quarter']).agg(exprs)\\\n",
    "                .withColumnRenamed('sum(spend)','spend')\\\n",
    "                .withColumnRenamed('sum(ltv)','ltv')\\\n",
    "                .withColumn('purch_ind', when(F.col('spend') > 0, 1).otherwise(0))\\\n",
    "                .drop('spend')"
   ]
  },
  {
   "cell_type": "code",
   "execution_count": 24,
   "metadata": {},
   "outputs": [],
   "source": [
    "window = Window.partitionBy('quarter').orderBy(F.desc('spend_year'))\n",
    "df_pred_year_agg=df_pred_year_agg.withColumn(\"spend_year_rank\", F.dense_rank().over(window))"
   ]
  },
  {
   "cell_type": "code",
   "execution_count": 25,
   "metadata": {},
   "outputs": [],
   "source": [
    "window = Window.partitionBy('quarter').orderBy(F.desc('avg_sku_amt_year'))\n",
    "df_pred_year_agg=df_pred_year_agg.withColumn(\"avg_sku_amt_year_rank\", F.dense_rank().over(window))"
   ]
  },
  {
   "cell_type": "code",
   "execution_count": 26,
   "metadata": {},
   "outputs": [],
   "source": [
    "df_pred=df_pred_year_agg.join(df_pred_0.filter( (F.col('quarter')<=oot_end_quarter) & (F.col('quarter')>=resp_st_quarter)),\\\n",
    "                                  on=['member_no', 'quarter'], how='left')\n",
    "df_pred.write.mode('overwrite').saveAsTable('default.df_pred_'+mdl_label)"
   ]
  },
  {
   "cell_type": "code",
   "execution_count": 27,
   "metadata": {},
   "outputs": [],
   "source": [
    "df_full=df_pred.join(df_resp_halfyear, on=['member_no', 'quarter'], how='left')\\\n",
    "        .fillna({'purch_ind':0})\\\n",
    "        .fillna({'ltv':0})\\\n",
    "        .withColumn('outcome_event_ind', when(F.col('purch_ind')>0, 1).otherwise(0))\\\n",
    "        .fillna('missing', subset=col_to_code)\\\n",
    "        .fillna(0, subset=col_num)"
   ]
  },
  {
   "cell_type": "code",
   "execution_count": 28,
   "metadata": {},
   "outputs": [],
   "source": [
    "df_full.write.mode('overwrite').saveAsTable('default.df_full_'+mdl_label)\n",
    "df_full=spark.sql('select * from default.df_full_'+mdl_label).repartition(512, 'member_no')"
   ]
  },
  {
   "cell_type": "code",
   "execution_count": 30,
   "metadata": {},
   "outputs": [
    {
     "data": {
      "text/plain": [
       "512"
      ]
     },
     "execution_count": 30,
     "metadata": {},
     "output_type": "execute_result"
    },
    {
     "data": {
      "text/plain": [
       "512"
      ]
     },
     "execution_count": 30,
     "metadata": {},
     "output_type": "execute_result"
    }
   ],
   "source": [
    "df_intime=df_full.filter(F.col('quarter')<=tr_end_quarter).repartition(512, 'member_no')\n",
    "df_oot=df_full.filter(F.col('quarter') > tr_end_quarter).repartition(512, 'member_no')\n",
    "df_intime.rdd.getNumPartitions()\n",
    "df_oot.rdd.getNumPartitions()"
   ]
  },
  {
   "cell_type": "code",
   "execution_count": 31,
   "metadata": {},
   "outputs": [
    {
     "data": {
      "text/html": [
       "<div>\n",
       "<style scoped>\n",
       "    .dataframe tbody tr th:only-of-type {\n",
       "        vertical-align: middle;\n",
       "    }\n",
       "\n",
       "    .dataframe tbody tr th {\n",
       "        vertical-align: top;\n",
       "    }\n",
       "\n",
       "    .dataframe thead th {\n",
       "        text-align: right;\n",
       "    }\n",
       "</style>\n",
       "<table border=\"1\" class=\"dataframe\">\n",
       "  <thead>\n",
       "    <tr style=\"text-align: right;\">\n",
       "      <th></th>\n",
       "      <th>quarter</th>\n",
       "      <th>num_user</th>\n",
       "      <th>num_row</th>\n",
       "    </tr>\n",
       "  </thead>\n",
       "  <tbody>\n",
       "    <tr>\n",
       "      <th>17</th>\n",
       "      <td>-1</td>\n",
       "      <td>150989</td>\n",
       "      <td>150989</td>\n",
       "    </tr>\n",
       "    <tr>\n",
       "      <th>10</th>\n",
       "      <td>-10</td>\n",
       "      <td>171024</td>\n",
       "      <td>171024</td>\n",
       "    </tr>\n",
       "    <tr>\n",
       "      <th>18</th>\n",
       "      <td>-11</td>\n",
       "      <td>74636</td>\n",
       "      <td>74636</td>\n",
       "    </tr>\n",
       "    <tr>\n",
       "      <th>12</th>\n",
       "      <td>-12</td>\n",
       "      <td>39113</td>\n",
       "      <td>39113</td>\n",
       "    </tr>\n",
       "    <tr>\n",
       "      <th>19</th>\n",
       "      <td>-13</td>\n",
       "      <td>19672</td>\n",
       "      <td>19672</td>\n",
       "    </tr>\n",
       "    <tr>\n",
       "      <th>7</th>\n",
       "      <td>-14</td>\n",
       "      <td>26337</td>\n",
       "      <td>26337</td>\n",
       "    </tr>\n",
       "    <tr>\n",
       "      <th>5</th>\n",
       "      <td>-15</td>\n",
       "      <td>2348</td>\n",
       "      <td>2348</td>\n",
       "    </tr>\n",
       "    <tr>\n",
       "      <th>0</th>\n",
       "      <td>-16</td>\n",
       "      <td>7013</td>\n",
       "      <td>7013</td>\n",
       "    </tr>\n",
       "    <tr>\n",
       "      <th>4</th>\n",
       "      <td>-17</td>\n",
       "      <td>1462</td>\n",
       "      <td>1462</td>\n",
       "    </tr>\n",
       "    <tr>\n",
       "      <th>13</th>\n",
       "      <td>-18</td>\n",
       "      <td>3179</td>\n",
       "      <td>3179</td>\n",
       "    </tr>\n",
       "    <tr>\n",
       "      <th>11</th>\n",
       "      <td>-19</td>\n",
       "      <td>1287</td>\n",
       "      <td>1287</td>\n",
       "    </tr>\n",
       "    <tr>\n",
       "      <th>1</th>\n",
       "      <td>-2</td>\n",
       "      <td>304599</td>\n",
       "      <td>304599</td>\n",
       "    </tr>\n",
       "    <tr>\n",
       "      <th>16</th>\n",
       "      <td>-20</td>\n",
       "      <td>627</td>\n",
       "      <td>627</td>\n",
       "    </tr>\n",
       "    <tr>\n",
       "      <th>14</th>\n",
       "      <td>-3</td>\n",
       "      <td>246918</td>\n",
       "      <td>246918</td>\n",
       "    </tr>\n",
       "    <tr>\n",
       "      <th>8</th>\n",
       "      <td>-4</td>\n",
       "      <td>296885</td>\n",
       "      <td>296885</td>\n",
       "    </tr>\n",
       "    <tr>\n",
       "      <th>6</th>\n",
       "      <td>-5</td>\n",
       "      <td>211646</td>\n",
       "      <td>211646</td>\n",
       "    </tr>\n",
       "    <tr>\n",
       "      <th>9</th>\n",
       "      <td>-6</td>\n",
       "      <td>213908</td>\n",
       "      <td>213908</td>\n",
       "    </tr>\n",
       "    <tr>\n",
       "      <th>15</th>\n",
       "      <td>-7</td>\n",
       "      <td>137965</td>\n",
       "      <td>137965</td>\n",
       "    </tr>\n",
       "    <tr>\n",
       "      <th>2</th>\n",
       "      <td>-8</td>\n",
       "      <td>262821</td>\n",
       "      <td>262821</td>\n",
       "    </tr>\n",
       "    <tr>\n",
       "      <th>3</th>\n",
       "      <td>-9</td>\n",
       "      <td>106411</td>\n",
       "      <td>106411</td>\n",
       "    </tr>\n",
       "  </tbody>\n",
       "</table>\n",
       "</div>"
      ],
      "text/plain": [
       "   quarter  num_user  num_row\n",
       "17      -1    150989   150989\n",
       "10     -10    171024   171024\n",
       "18     -11     74636    74636\n",
       "12     -12     39113    39113\n",
       "19     -13     19672    19672\n",
       "7      -14     26337    26337\n",
       "5      -15      2348     2348\n",
       "0      -16      7013     7013\n",
       "4      -17      1462     1462\n",
       "13     -18      3179     3179\n",
       "11     -19      1287     1287\n",
       "1       -2    304599   304599\n",
       "16     -20       627      627\n",
       "14      -3    246918   246918\n",
       "8       -4    296885   296885\n",
       "6       -5    211646   211646\n",
       "9       -6    213908   213908\n",
       "15      -7    137965   137965\n",
       "2       -8    262821   262821\n",
       "3       -9    106411   106411"
      ]
     },
     "execution_count": 31,
     "metadata": {},
     "output_type": "execute_result"
    }
   ],
   "source": [
    "df_q.groupBy('quarter').agg(F.countDistinct('member_no').alias('num_user'),\\\n",
    "            F.count('member_no').alias('num_row')\n",
    "            ).toPandas().sort_values(by='quarter', ascending=True)"
   ]
  },
  {
   "cell_type": "code",
   "execution_count": 32,
   "metadata": {},
   "outputs": [
    {
     "data": {
      "text/html": [
       "<div>\n",
       "<style scoped>\n",
       "    .dataframe tbody tr th:only-of-type {\n",
       "        vertical-align: middle;\n",
       "    }\n",
       "\n",
       "    .dataframe tbody tr th {\n",
       "        vertical-align: top;\n",
       "    }\n",
       "\n",
       "    .dataframe thead th {\n",
       "        text-align: right;\n",
       "    }\n",
       "</style>\n",
       "<table border=\"1\" class=\"dataframe\">\n",
       "  <thead>\n",
       "    <tr style=\"text-align: right;\">\n",
       "      <th></th>\n",
       "      <th>max_q</th>\n",
       "      <th>min_q</th>\n",
       "      <th>num_user</th>\n",
       "      <th>num_row</th>\n",
       "      <th>outcome_event_user</th>\n",
       "    </tr>\n",
       "  </thead>\n",
       "  <tbody>\n",
       "    <tr>\n",
       "      <th>0</th>\n",
       "      <td>-2.00</td>\n",
       "      <td>-4.00</td>\n",
       "      <td>1222750</td>\n",
       "      <td>2456184</td>\n",
       "      <td>248441</td>\n",
       "    </tr>\n",
       "  </tbody>\n",
       "</table>\n",
       "</div>"
      ],
      "text/plain": [
       "   max_q  min_q  num_user  num_row  outcome_event_user\n",
       "0  -2.00  -4.00   1222750  2456184              248441"
      ]
     },
     "execution_count": 32,
     "metadata": {},
     "output_type": "execute_result"
    },
    {
     "data": {
      "text/html": [
       "<div>\n",
       "<style scoped>\n",
       "    .dataframe tbody tr th:only-of-type {\n",
       "        vertical-align: middle;\n",
       "    }\n",
       "\n",
       "    .dataframe tbody tr th {\n",
       "        vertical-align: top;\n",
       "    }\n",
       "\n",
       "    .dataframe thead th {\n",
       "        text-align: right;\n",
       "    }\n",
       "</style>\n",
       "<table border=\"1\" class=\"dataframe\">\n",
       "  <thead>\n",
       "    <tr style=\"text-align: right;\">\n",
       "      <th></th>\n",
       "      <th>quarter</th>\n",
       "      <th>num_user</th>\n",
       "      <th>num_row</th>\n",
       "      <th>outcome_event_user</th>\n",
       "    </tr>\n",
       "  </thead>\n",
       "  <tbody>\n",
       "    <tr>\n",
       "      <th>1</th>\n",
       "      <td>-4.00</td>\n",
       "      <td>776931</td>\n",
       "      <td>776931</td>\n",
       "      <td>72756</td>\n",
       "    </tr>\n",
       "    <tr>\n",
       "      <th>0</th>\n",
       "      <td>-3.00</td>\n",
       "      <td>798931</td>\n",
       "      <td>798931</td>\n",
       "      <td>97037</td>\n",
       "    </tr>\n",
       "    <tr>\n",
       "      <th>2</th>\n",
       "      <td>-2.00</td>\n",
       "      <td>880322</td>\n",
       "      <td>880322</td>\n",
       "      <td>78648</td>\n",
       "    </tr>\n",
       "  </tbody>\n",
       "</table>\n",
       "</div>"
      ],
      "text/plain": [
       "   quarter  num_user  num_row  outcome_event_user\n",
       "1    -4.00    776931   776931               72756\n",
       "0    -3.00    798931   798931               97037\n",
       "2    -2.00    880322   880322               78648"
      ]
     },
     "execution_count": 32,
     "metadata": {},
     "output_type": "execute_result"
    },
    {
     "data": {
      "text/html": [
       "<div>\n",
       "<style scoped>\n",
       "    .dataframe tbody tr th:only-of-type {\n",
       "        vertical-align: middle;\n",
       "    }\n",
       "\n",
       "    .dataframe tbody tr th {\n",
       "        vertical-align: top;\n",
       "    }\n",
       "\n",
       "    .dataframe thead th {\n",
       "        text-align: right;\n",
       "    }\n",
       "</style>\n",
       "<table border=\"1\" class=\"dataframe\">\n",
       "  <thead>\n",
       "    <tr style=\"text-align: right;\">\n",
       "      <th></th>\n",
       "      <th>quarter</th>\n",
       "      <th>num_user</th>\n",
       "      <th>num_row</th>\n",
       "      <th>outcome_event_user</th>\n",
       "    </tr>\n",
       "  </thead>\n",
       "  <tbody>\n",
       "    <tr>\n",
       "      <th>0</th>\n",
       "      <td>-1.00</td>\n",
       "      <td>949987</td>\n",
       "      <td>949987</td>\n",
       "      <td>26025</td>\n",
       "    </tr>\n",
       "  </tbody>\n",
       "</table>\n",
       "</div>"
      ],
      "text/plain": [
       "   quarter  num_user  num_row  outcome_event_user\n",
       "0    -1.00    949987   949987               26025"
      ]
     },
     "execution_count": 32,
     "metadata": {},
     "output_type": "execute_result"
    }
   ],
   "source": [
    "df_intime.agg(F.max('quarter').alias('max_q'),\\\n",
    "            F.min('quarter').alias('min_q'),\\\n",
    "            F.countDistinct('member_no').alias('num_user'),\\\n",
    "            F.count('member_no').alias('num_row'),\\\n",
    "            F.sum('outcome_event_ind').alias('outcome_event_user')\\\n",
    "            ).toPandas()\n",
    "\n",
    "\n",
    "df_intime.groupBy('quarter').agg(F.countDistinct('member_no').alias('num_user'),\\\n",
    "            F.count('member_no').alias('num_row'),\\\n",
    "            F.sum('outcome_event_ind').alias('outcome_event_user')\\\n",
    "            ).toPandas().sort_values(by='quarter', ascending=True)\n",
    "\n",
    "df_oot.groupBy('quarter').agg(F.countDistinct('member_no').alias('num_user'),\\\n",
    "            F.count('member_no').alias('num_row'),\\\n",
    "            F.sum('outcome_event_ind').alias('outcome_event_user')\\\n",
    "            ).toPandas()"
   ]
  },
  {
   "cell_type": "code",
   "execution_count": 33,
   "metadata": {},
   "outputs": [],
   "source": [
    "df_model=df_intime.sampleBy('outcome_event_ind', {1: 0.5, 0:0.1}, seed=0)"
   ]
  },
  {
   "cell_type": "code",
   "execution_count": 34,
   "metadata": {},
   "outputs": [],
   "source": [
    "df_model.write.mode('overwrite').saveAsTable('default.df_model_'+mdl_label)\n",
    "df_oot.write.mode('overwrite').saveAsTable('default.df_oot_'+mdl_label)\n",
    "df_model=spark.sql('select * from default.df_model_'+mdl_label)\n",
    "df_oot=spark.sql('select * from default.df_oot_'+mdl_label)"
   ]
  },
  {
   "cell_type": "code",
   "execution_count": 35,
   "metadata": {},
   "outputs": [
    {
     "data": {
      "text/html": [
       "<div>\n",
       "<style scoped>\n",
       "    .dataframe tbody tr th:only-of-type {\n",
       "        vertical-align: middle;\n",
       "    }\n",
       "\n",
       "    .dataframe tbody tr th {\n",
       "        vertical-align: top;\n",
       "    }\n",
       "\n",
       "    .dataframe thead th {\n",
       "        text-align: right;\n",
       "    }\n",
       "</style>\n",
       "<table border=\"1\" class=\"dataframe\">\n",
       "  <thead>\n",
       "    <tr style=\"text-align: right;\">\n",
       "      <th></th>\n",
       "      <th>quarter</th>\n",
       "      <th>num_user</th>\n",
       "      <th>num_row</th>\n",
       "      <th>outcome_event_user</th>\n",
       "    </tr>\n",
       "  </thead>\n",
       "  <tbody>\n",
       "    <tr>\n",
       "      <th>0</th>\n",
       "      <td>-3.00</td>\n",
       "      <td>112386</td>\n",
       "      <td>112386</td>\n",
       "      <td>48489</td>\n",
       "    </tr>\n",
       "    <tr>\n",
       "      <th>1</th>\n",
       "      <td>-4.00</td>\n",
       "      <td>100377</td>\n",
       "      <td>100377</td>\n",
       "      <td>36373</td>\n",
       "    </tr>\n",
       "    <tr>\n",
       "      <th>2</th>\n",
       "      <td>-2.00</td>\n",
       "      <td>112420</td>\n",
       "      <td>112420</td>\n",
       "      <td>39528</td>\n",
       "    </tr>\n",
       "  </tbody>\n",
       "</table>\n",
       "</div>"
      ],
      "text/plain": [
       "   quarter  num_user  num_row  outcome_event_user\n",
       "0    -3.00    112386   112386               48489\n",
       "1    -4.00    100377   100377               36373\n",
       "2    -2.00    112420   112420               39528"
      ]
     },
     "execution_count": 35,
     "metadata": {},
     "output_type": "execute_result"
    }
   ],
   "source": [
    "df_model.groupBy('quarter').agg(F.countDistinct('member_no').alias('num_user'),\\\n",
    "            F.count('member_no').alias('num_row'),\\\n",
    "            F.sum('outcome_event_ind').alias('outcome_event_user')\\\n",
    "            ).toPandas()"
   ]
  },
  {
   "cell_type": "code",
   "execution_count": 36,
   "metadata": {},
   "outputs": [
    {
     "data": {
      "text/plain": [
       "325183"
      ]
     },
     "execution_count": 36,
     "metadata": {},
     "output_type": "execute_result"
    }
   ],
   "source": [
    "col_pred=col_to_code + col_num\n",
    "df_model.count()\n",
    "pd_model=df_model.fillna(0).toPandas()\n",
    "pd_oot=df_oot.fillna(0).repartition(1024, 'member_no').toPandas()"
   ]
  },
  {
   "cell_type": "code",
   "execution_count": 37,
   "metadata": {},
   "outputs": [
    {
     "data": {
      "text/plain": [
       "325183"
      ]
     },
     "execution_count": 37,
     "metadata": {},
     "output_type": "execute_result"
    },
    {
     "data": {
      "text/plain": [
       "949987"
      ]
     },
     "execution_count": 37,
     "metadata": {},
     "output_type": "execute_result"
    },
    {
     "data": {
      "text/plain": [
       "(325183, 168)"
      ]
     },
     "execution_count": 37,
     "metadata": {},
     "output_type": "execute_result"
    }
   ],
   "source": [
    "df_model.count()\n",
    "df_oot.count()\n",
    "pd_model.shape"
   ]
  },
  {
   "cell_type": "code",
   "execution_count": 38,
   "metadata": {},
   "outputs": [
    {
     "name": "stdout",
     "output_type": "stream",
     "text": [
      "var= holiday_flag\n"
     ]
    },
    {
     "data": {
      "text/plain": [
       "0    294803\n",
       "1     30380\n",
       "Name: holiday_flag, dtype: int64"
      ]
     },
     "execution_count": 38,
     "metadata": {},
     "output_type": "execute_result"
    },
    {
     "name": "stdout",
     "output_type": "stream",
     "text": [
      "var= is_member\n"
     ]
    },
    {
     "data": {
      "text/plain": [
       "missing    222666\n",
       "1           60857\n",
       "0           41652\n",
       "None            8\n",
       "Name: is_member, dtype: int64"
      ]
     },
     "execution_count": 38,
     "metadata": {},
     "output_type": "execute_result"
    },
    {
     "name": "stdout",
     "output_type": "stream",
     "text": [
      "var= is_shopper\n"
     ]
    },
    {
     "data": {
      "text/plain": [
       "missing    222666\n",
       "1          102302\n",
       "0             207\n",
       "None            8\n",
       "Name: is_shopper, dtype: int64"
      ]
     },
     "execution_count": 38,
     "metadata": {},
     "output_type": "execute_result"
    },
    {
     "name": "stdout",
     "output_type": "stream",
     "text": [
      "var= is_consumer\n"
     ]
    },
    {
     "data": {
      "text/plain": [
       "missing    222666\n",
       "1           97127\n",
       "0            5382\n",
       "None            8\n",
       "Name: is_consumer, dtype: int64"
      ]
     },
     "execution_count": 38,
     "metadata": {},
     "output_type": "execute_result"
    },
    {
     "name": "stdout",
     "output_type": "stream",
     "text": [
      "var= gender\n"
     ]
    },
    {
     "data": {
      "text/plain": [
       "missing    222666\n",
       "None        59204\n",
       "女           26838\n",
       "男           16475\n",
       "Name: gender, dtype: int64"
      ]
     },
     "execution_count": 38,
     "metadata": {},
     "output_type": "execute_result"
    },
    {
     "name": "stdout",
     "output_type": "stream",
     "text": [
      "var= is_gwp\n"
     ]
    },
    {
     "data": {
      "text/plain": [
       "missing    222666\n",
       "否          102517\n",
       "Name: is_gwp, dtype: int64"
      ]
     },
     "execution_count": 38,
     "metadata": {},
     "output_type": "execute_result"
    },
    {
     "name": "stdout",
     "output_type": "stream",
     "text": [
      "var= age_cohorts\n"
     ]
    },
    {
     "data": {
      "text/plain": [
       "missing    222666\n",
       "None       102517\n",
       "Name: age_cohorts, dtype: int64"
      ]
     },
     "execution_count": 38,
     "metadata": {},
     "output_type": "execute_result"
    },
    {
     "name": "stdout",
     "output_type": "stream",
     "text": [
      "var= marital_status\n"
     ]
    },
    {
     "data": {
      "text/plain": [
       "missing    222666\n",
       "None        75576\n",
       "Unknown     26941\n",
       "Name: marital_status, dtype: int64"
      ]
     },
     "execution_count": 38,
     "metadata": {},
     "output_type": "execute_result"
    },
    {
     "name": "stdout",
     "output_type": "stream",
     "text": [
      "var= city_grade\n"
     ]
    },
    {
     "data": {
      "text/plain": [
       "missing    222666\n",
       "None        50742\n",
       "Tier 2      15518\n",
       "Tier 1      12807\n",
       "Tier 3      11367\n",
       "Tier 4       6760\n",
       "Tier 5       3483\n",
       "Tier 6       1840\n",
       "Name: city_grade, dtype: int64"
      ]
     },
     "execution_count": 38,
     "metadata": {},
     "output_type": "execute_result"
    },
    {
     "name": "stdout",
     "output_type": "stream",
     "text": [
      "var= educational_status\n"
     ]
    },
    {
     "data": {
      "text/plain": [
       "missing    222666\n",
       "None        75576\n",
       "Unknown     26941\n",
       "Name: educational_status, dtype: int64"
      ]
     },
     "execution_count": 38,
     "metadata": {},
     "output_type": "execute_result"
    },
    {
     "name": "stdout",
     "output_type": "stream",
     "text": [
      "var= user_job\n"
     ]
    },
    {
     "data": {
      "text/plain": [
       "missing    222666\n",
       "None        75576\n",
       "Unkown      26941\n",
       "Name: user_job, dtype: int64"
      ]
     },
     "execution_count": 38,
     "metadata": {},
     "output_type": "execute_result"
    },
    {
     "name": "stdout",
     "output_type": "stream",
     "text": [
      "var= monthly_pay\n"
     ]
    },
    {
     "data": {
      "text/plain": [
       "0    325183\n",
       "Name: monthly_pay, dtype: int64"
      ]
     },
     "execution_count": 38,
     "metadata": {},
     "output_type": "execute_result"
    },
    {
     "name": "stdout",
     "output_type": "stream",
     "text": [
      "var= is_inside_staff\n"
     ]
    },
    {
     "data": {
      "text/plain": [
       "missing    222666\n",
       "None       102517\n",
       "Name: is_inside_staff, dtype: int64"
      ]
     },
     "execution_count": 38,
     "metadata": {},
     "output_type": "execute_result"
    },
    {
     "name": "stdout",
     "output_type": "stream",
     "text": [
      "var= chinese_zodiac\n"
     ]
    },
    {
     "data": {
      "text/plain": [
       "missing    222666\n",
       "None        89552\n",
       "鸡            3199\n",
       "马             979\n",
       "猪             946\n",
       "龙             935\n",
       "蛇             932\n",
       "兔             879\n",
       "牛             878\n",
       "狗             876\n",
       "羊             865\n",
       "鼠             854\n",
       "猴             815\n",
       "虎             807\n",
       "Name: chinese_zodiac, dtype: int64"
      ]
     },
     "execution_count": 38,
     "metadata": {},
     "output_type": "execute_result"
    },
    {
     "name": "stdout",
     "output_type": "stream",
     "text": [
      "var= constellation\n"
     ]
    },
    {
     "data": {
      "text/plain": [
       "missing    222666\n",
       "None        89552\n",
       "摩羯座          3267\n",
       "天蝎座          1052\n",
       "天秤座           982\n",
       "处女座           965\n",
       "巨蟹座           935\n",
       "狮子座           927\n",
       "双子座           890\n",
       "射手座           888\n",
       "水瓶座           801\n",
       "双鱼座           787\n",
       "金牛座           751\n",
       "白羊座           720\n",
       "Name: constellation, dtype: int64"
      ]
     },
     "execution_count": 38,
     "metadata": {},
     "output_type": "execute_result"
    },
    {
     "name": "stdout",
     "output_type": "stream",
     "text": [
      "var= prom_ind\n"
     ]
    },
    {
     "data": {
      "text/plain": [
       "0    278679\n",
       "1     46504\n",
       "Name: prom_ind, dtype: int64"
      ]
     },
     "execution_count": 38,
     "metadata": {},
     "output_type": "execute_result"
    },
    {
     "name": "stdout",
     "output_type": "stream",
     "text": [
      "var= most_freq_holiday\n"
     ]
    },
    {
     "data": {
      "text/plain": [
       "missing    222666\n",
       "0           72137\n",
       "双十一          8262\n",
       "儿童节          6879\n",
       "六一八          5645\n",
       "圣诞节          5203\n",
       "双十二          4391\n",
       "Name: most_freq_holiday, dtype: int64"
      ]
     },
     "execution_count": 38,
     "metadata": {},
     "output_type": "execute_result"
    }
   ],
   "source": [
    "for var in col_to_code:\n",
    "    print('var=', var)\n",
    "    # pd_model[var].unique()\n",
    "    pd_model[var].value_counts()"
   ]
  },
  {
   "cell_type": "code",
   "execution_count": 39,
   "metadata": {
    "scrolled": true
   },
   "outputs": [
    {
     "data": {
      "text/html": [
       "<div>\n",
       "<style scoped>\n",
       "    .dataframe tbody tr th:only-of-type {\n",
       "        vertical-align: middle;\n",
       "    }\n",
       "\n",
       "    .dataframe tbody tr th {\n",
       "        vertical-align: top;\n",
       "    }\n",
       "\n",
       "    .dataframe thead th {\n",
       "        text-align: right;\n",
       "    }\n",
       "</style>\n",
       "<table border=\"1\" class=\"dataframe\">\n",
       "  <thead>\n",
       "    <tr style=\"text-align: right;\">\n",
       "      <th></th>\n",
       "      <th>index</th>\n",
       "      <th>corr</th>\n",
       "    </tr>\n",
       "  </thead>\n",
       "  <tbody>\n",
       "    <tr>\n",
       "      <th>80</th>\n",
       "      <td>min_purch_diff_year</td>\n",
       "      <td>-0.13</td>\n",
       "    </tr>\n",
       "    <tr>\n",
       "      <th>82</th>\n",
       "      <td>avg_purch_diff_year</td>\n",
       "      <td>-0.13</td>\n",
       "    </tr>\n",
       "    <tr>\n",
       "      <th>116</th>\n",
       "      <td>segment_spend_Preschool_year</td>\n",
       "      <td>-0.04</td>\n",
       "    </tr>\n",
       "    <tr>\n",
       "      <th>119</th>\n",
       "      <td>bu_spend_DUPLO_year</td>\n",
       "      <td>-0.04</td>\n",
       "    </tr>\n",
       "    <tr>\n",
       "      <th>135</th>\n",
       "      <td>age_mark_spend_2-5_year</td>\n",
       "      <td>-0.02</td>\n",
       "    </tr>\n",
       "    <tr>\n",
       "      <th>48</th>\n",
       "      <td>bu_spend_DUPLO</td>\n",
       "      <td>-0.02</td>\n",
       "    </tr>\n",
       "    <tr>\n",
       "      <th>45</th>\n",
       "      <td>segment_spend_Preschool</td>\n",
       "      <td>-0.02</td>\n",
       "    </tr>\n",
       "    <tr>\n",
       "      <th>99</th>\n",
       "      <td>topic_spend_DUPLO_My_First_year</td>\n",
       "      <td>-0.01</td>\n",
       "    </tr>\n",
       "    <tr>\n",
       "      <th>118</th>\n",
       "      <td>bu_spend_4+_year</td>\n",
       "      <td>-0.01</td>\n",
       "    </tr>\n",
       "    <tr>\n",
       "      <th>64</th>\n",
       "      <td>age_mark_spend_2-5</td>\n",
       "      <td>-0.01</td>\n",
       "    </tr>\n",
       "    <tr>\n",
       "      <th>97</th>\n",
       "      <td>topic_spend_City_Space_Port_year</td>\n",
       "      <td>-0.01</td>\n",
       "    </tr>\n",
       "    <tr>\n",
       "      <th>136</th>\n",
       "      <td>age_mark_spend_4-99_year</td>\n",
       "      <td>-0.01</td>\n",
       "    </tr>\n",
       "    <tr>\n",
       "      <th>100</th>\n",
       "      <td>topic_spend_DUPLO_Town_year</td>\n",
       "      <td>-0.01</td>\n",
       "    </tr>\n",
       "    <tr>\n",
       "      <th>28</th>\n",
       "      <td>topic_spend_DUPLO_My_First</td>\n",
       "      <td>-0.01</td>\n",
       "    </tr>\n",
       "    <tr>\n",
       "      <th>104</th>\n",
       "      <td>topic_spend_LEGO_Classic_year</td>\n",
       "      <td>-0.00</td>\n",
       "    </tr>\n",
       "    <tr>\n",
       "      <th>26</th>\n",
       "      <td>topic_spend_City_Space_Port</td>\n",
       "      <td>-0.00</td>\n",
       "    </tr>\n",
       "    <tr>\n",
       "      <th>29</th>\n",
       "      <td>topic_spend_DUPLO_Town</td>\n",
       "      <td>-0.00</td>\n",
       "    </tr>\n",
       "    <tr>\n",
       "      <th>21</th>\n",
       "      <td>cate_spend_Special_Products</td>\n",
       "      <td>0.00</td>\n",
       "    </tr>\n",
       "    <tr>\n",
       "      <th>65</th>\n",
       "      <td>age_mark_spend_4-99</td>\n",
       "      <td>0.00</td>\n",
       "    </tr>\n",
       "    <tr>\n",
       "      <th>143</th>\n",
       "      <td>age_mark_spend_other_year</td>\n",
       "      <td>0.00</td>\n",
       "    </tr>\n",
       "    <tr>\n",
       "      <th>33</th>\n",
       "      <td>topic_spend_LEGO_Classic</td>\n",
       "      <td>0.00</td>\n",
       "    </tr>\n",
       "    <tr>\n",
       "      <th>47</th>\n",
       "      <td>bu_spend_4+</td>\n",
       "      <td>0.00</td>\n",
       "    </tr>\n",
       "    <tr>\n",
       "      <th>69</th>\n",
       "      <td>age_mark_spend_7-12</td>\n",
       "      <td>0.01</td>\n",
       "    </tr>\n",
       "    <tr>\n",
       "      <th>8</th>\n",
       "      <td>min_purch_diff</td>\n",
       "      <td>0.01</td>\n",
       "    </tr>\n",
       "    <tr>\n",
       "      <th>140</th>\n",
       "      <td>age_mark_spend_7-12_year</td>\n",
       "      <td>0.01</td>\n",
       "    </tr>\n",
       "    <tr>\n",
       "      <th>92</th>\n",
       "      <td>cate_spend_Special_Products_year</td>\n",
       "      <td>0.01</td>\n",
       "    </tr>\n",
       "    <tr>\n",
       "      <th>53</th>\n",
       "      <td>bu_spend_MINDSTORMS</td>\n",
       "      <td>0.01</td>\n",
       "    </tr>\n",
       "    <tr>\n",
       "      <th>0</th>\n",
       "      <td>recency</td>\n",
       "      <td>0.01</td>\n",
       "    </tr>\n",
       "    <tr>\n",
       "      <th>124</th>\n",
       "      <td>bu_spend_MINDSTORMS_year</td>\n",
       "      <td>0.01</td>\n",
       "    </tr>\n",
       "    <tr>\n",
       "      <th>24</th>\n",
       "      <td>topic_spend_City_Fire</td>\n",
       "      <td>0.01</td>\n",
       "    </tr>\n",
       "    <tr>\n",
       "      <th>72</th>\n",
       "      <td>age_mark_spend_other</td>\n",
       "      <td>0.01</td>\n",
       "    </tr>\n",
       "    <tr>\n",
       "      <th>25</th>\n",
       "      <td>topic_spend_City_Police</td>\n",
       "      <td>0.01</td>\n",
       "    </tr>\n",
       "    <tr>\n",
       "      <th>115</th>\n",
       "      <td>segment_spend_None_year</td>\n",
       "      <td>0.01</td>\n",
       "    </tr>\n",
       "    <tr>\n",
       "      <th>55</th>\n",
       "      <td>bu_spend_None</td>\n",
       "      <td>0.02</td>\n",
       "    </tr>\n",
       "    <tr>\n",
       "      <th>44</th>\n",
       "      <td>segment_spend_None</td>\n",
       "      <td>0.02</td>\n",
       "    </tr>\n",
       "    <tr>\n",
       "      <th>96</th>\n",
       "      <td>topic_spend_City_Police_year</td>\n",
       "      <td>0.02</td>\n",
       "    </tr>\n",
       "    <tr>\n",
       "      <th>95</th>\n",
       "      <td>topic_spend_City_Fire_year</td>\n",
       "      <td>0.02</td>\n",
       "    </tr>\n",
       "    <tr>\n",
       "      <th>30</th>\n",
       "      <td>topic_spend_Disney_Princess</td>\n",
       "      <td>0.02</td>\n",
       "    </tr>\n",
       "    <tr>\n",
       "      <th>111</th>\n",
       "      <td>topic_spend_Technic_year</td>\n",
       "      <td>0.02</td>\n",
       "    </tr>\n",
       "    <tr>\n",
       "      <th>129</th>\n",
       "      <td>bu_spend_Technic_year</td>\n",
       "      <td>0.02</td>\n",
       "    </tr>\n",
       "    <tr>\n",
       "      <th>19</th>\n",
       "      <td>cate_spend_Key_Account</td>\n",
       "      <td>0.02</td>\n",
       "    </tr>\n",
       "    <tr>\n",
       "      <th>49</th>\n",
       "      <td>bu_spend_Design_Classics</td>\n",
       "      <td>0.02</td>\n",
       "    </tr>\n",
       "    <tr>\n",
       "      <th>40</th>\n",
       "      <td>topic_spend_Technic</td>\n",
       "      <td>0.02</td>\n",
       "    </tr>\n",
       "    <tr>\n",
       "      <th>58</th>\n",
       "      <td>bu_spend_Technic</td>\n",
       "      <td>0.02</td>\n",
       "    </tr>\n",
       "    <tr>\n",
       "      <th>120</th>\n",
       "      <td>bu_spend_Design_Classics_year</td>\n",
       "      <td>0.02</td>\n",
       "    </tr>\n",
       "    <tr>\n",
       "      <th>90</th>\n",
       "      <td>cate_spend_Key_Account_year</td>\n",
       "      <td>0.02</td>\n",
       "    </tr>\n",
       "    <tr>\n",
       "      <th>122</th>\n",
       "      <td>bu_spend_LEGO_City_year</td>\n",
       "      <td>0.02</td>\n",
       "    </tr>\n",
       "    <tr>\n",
       "      <th>51</th>\n",
       "      <td>bu_spend_LEGO_City</td>\n",
       "      <td>0.02</td>\n",
       "    </tr>\n",
       "    <tr>\n",
       "      <th>101</th>\n",
       "      <td>topic_spend_Disney_Princess_year</td>\n",
       "      <td>0.03</td>\n",
       "    </tr>\n",
       "    <tr>\n",
       "      <th>38</th>\n",
       "      <td>topic_spend_Star_Wars_TM</td>\n",
       "      <td>0.03</td>\n",
       "    </tr>\n",
       "    <tr>\n",
       "      <th>61</th>\n",
       "      <td>age_mark_spend_12+</td>\n",
       "      <td>0.03</td>\n",
       "    </tr>\n",
       "    <tr>\n",
       "      <th>71</th>\n",
       "      <td>age_mark_spend_9+</td>\n",
       "      <td>0.03</td>\n",
       "    </tr>\n",
       "    <tr>\n",
       "      <th>66</th>\n",
       "      <td>age_mark_spend_5+</td>\n",
       "      <td>0.03</td>\n",
       "    </tr>\n",
       "    <tr>\n",
       "      <th>34</th>\n",
       "      <td>topic_spend_LEGO_Friends</td>\n",
       "      <td>0.03</td>\n",
       "    </tr>\n",
       "    <tr>\n",
       "      <th>126</th>\n",
       "      <td>bu_spend_None_year</td>\n",
       "      <td>0.03</td>\n",
       "    </tr>\n",
       "    <tr>\n",
       "      <th>39</th>\n",
       "      <td>topic_spend_Super_Heroes</td>\n",
       "      <td>0.03</td>\n",
       "    </tr>\n",
       "    <tr>\n",
       "      <th>137</th>\n",
       "      <td>age_mark_spend_5+_year</td>\n",
       "      <td>0.03</td>\n",
       "    </tr>\n",
       "    <tr>\n",
       "      <th>142</th>\n",
       "      <td>age_mark_spend_9+_year</td>\n",
       "      <td>0.03</td>\n",
       "    </tr>\n",
       "    <tr>\n",
       "      <th>59</th>\n",
       "      <td>bu_spend_other</td>\n",
       "      <td>0.04</td>\n",
       "    </tr>\n",
       "    <tr>\n",
       "      <th>132</th>\n",
       "      <td>age_mark_spend_12+_year</td>\n",
       "      <td>0.04</td>\n",
       "    </tr>\n",
       "    <tr>\n",
       "      <th>105</th>\n",
       "      <td>topic_spend_LEGO_Friends_year</td>\n",
       "      <td>0.04</td>\n",
       "    </tr>\n",
       "    <tr>\n",
       "      <th>32</th>\n",
       "      <td>topic_spend_Icons</td>\n",
       "      <td>0.04</td>\n",
       "    </tr>\n",
       "    <tr>\n",
       "      <th>81</th>\n",
       "      <td>max_purch_diff_year</td>\n",
       "      <td>0.04</td>\n",
       "    </tr>\n",
       "    <tr>\n",
       "      <th>31</th>\n",
       "      <td>topic_spend_Harry_Potter_TM</td>\n",
       "      <td>0.04</td>\n",
       "    </tr>\n",
       "    <tr>\n",
       "      <th>110</th>\n",
       "      <td>topic_spend_Super_Heroes_year</td>\n",
       "      <td>0.05</td>\n",
       "    </tr>\n",
       "    <tr>\n",
       "      <th>10</th>\n",
       "      <td>avg_purch_diff</td>\n",
       "      <td>0.05</td>\n",
       "    </tr>\n",
       "    <tr>\n",
       "      <th>50</th>\n",
       "      <td>bu_spend_Girls</td>\n",
       "      <td>0.05</td>\n",
       "    </tr>\n",
       "    <tr>\n",
       "      <th>43</th>\n",
       "      <td>segment_spend_Girls</td>\n",
       "      <td>0.05</td>\n",
       "    </tr>\n",
       "    <tr>\n",
       "      <th>109</th>\n",
       "      <td>topic_spend_Star_Wars_TM_year</td>\n",
       "      <td>0.05</td>\n",
       "    </tr>\n",
       "    <tr>\n",
       "      <th>36</th>\n",
       "      <td>topic_spend_Monkie_Kid</td>\n",
       "      <td>0.05</td>\n",
       "    </tr>\n",
       "    <tr>\n",
       "      <th>37</th>\n",
       "      <td>topic_spend_Ninjago</td>\n",
       "      <td>0.05</td>\n",
       "    </tr>\n",
       "    <tr>\n",
       "      <th>23</th>\n",
       "      <td>cate_spend_other</td>\n",
       "      <td>0.05</td>\n",
       "    </tr>\n",
       "    <tr>\n",
       "      <th>27</th>\n",
       "      <td>topic_spend_Creator_Expert</td>\n",
       "      <td>0.05</td>\n",
       "    </tr>\n",
       "    <tr>\n",
       "      <th>9</th>\n",
       "      <td>max_purch_diff</td>\n",
       "      <td>0.05</td>\n",
       "    </tr>\n",
       "    <tr>\n",
       "      <th>35</th>\n",
       "      <td>topic_spend_LEGO_Ideas</td>\n",
       "      <td>0.06</td>\n",
       "    </tr>\n",
       "    <tr>\n",
       "      <th>22</th>\n",
       "      <td>cate_spend_Standard_Retail</td>\n",
       "      <td>0.06</td>\n",
       "    </tr>\n",
       "    <tr>\n",
       "      <th>102</th>\n",
       "      <td>topic_spend_Harry_Potter_TM_year</td>\n",
       "      <td>0.06</td>\n",
       "    </tr>\n",
       "    <tr>\n",
       "      <th>130</th>\n",
       "      <td>bu_spend_other_year</td>\n",
       "      <td>0.06</td>\n",
       "    </tr>\n",
       "    <tr>\n",
       "      <th>57</th>\n",
       "      <td>bu_spend_Play_Themes_IP</td>\n",
       "      <td>0.06</td>\n",
       "    </tr>\n",
       "    <tr>\n",
       "      <th>114</th>\n",
       "      <td>segment_spend_Girls_year</td>\n",
       "      <td>0.06</td>\n",
       "    </tr>\n",
       "    <tr>\n",
       "      <th>121</th>\n",
       "      <td>bu_spend_Girls_year</td>\n",
       "      <td>0.06</td>\n",
       "    </tr>\n",
       "    <tr>\n",
       "      <th>62</th>\n",
       "      <td>age_mark_spend_16+</td>\n",
       "      <td>0.06</td>\n",
       "    </tr>\n",
       "    <tr>\n",
       "      <th>68</th>\n",
       "      <td>age_mark_spend_7+</td>\n",
       "      <td>0.07</td>\n",
       "    </tr>\n",
       "    <tr>\n",
       "      <th>63</th>\n",
       "      <td>age_mark_spend_18+</td>\n",
       "      <td>0.07</td>\n",
       "    </tr>\n",
       "    <tr>\n",
       "      <th>70</th>\n",
       "      <td>age_mark_spend_8+</td>\n",
       "      <td>0.07</td>\n",
       "    </tr>\n",
       "    <tr>\n",
       "      <th>108</th>\n",
       "      <td>topic_spend_Ninjago_year</td>\n",
       "      <td>0.07</td>\n",
       "    </tr>\n",
       "    <tr>\n",
       "      <th>52</th>\n",
       "      <td>bu_spend_LEGO_Creator</td>\n",
       "      <td>0.07</td>\n",
       "    </tr>\n",
       "    <tr>\n",
       "      <th>93</th>\n",
       "      <td>cate_spend_Standard_Retail_year</td>\n",
       "      <td>0.08</td>\n",
       "    </tr>\n",
       "    <tr>\n",
       "      <th>103</th>\n",
       "      <td>topic_spend_Icons_year</td>\n",
       "      <td>0.08</td>\n",
       "    </tr>\n",
       "    <tr>\n",
       "      <th>106</th>\n",
       "      <td>topic_spend_LEGO_Ideas_year</td>\n",
       "      <td>0.08</td>\n",
       "    </tr>\n",
       "    <tr>\n",
       "      <th>98</th>\n",
       "      <td>topic_spend_Creator_Expert_year</td>\n",
       "      <td>0.08</td>\n",
       "    </tr>\n",
       "    <tr>\n",
       "      <th>56</th>\n",
       "      <td>bu_spend_Play_Themes</td>\n",
       "      <td>0.08</td>\n",
       "    </tr>\n",
       "    <tr>\n",
       "      <th>67</th>\n",
       "      <td>age_mark_spend_6+</td>\n",
       "      <td>0.08</td>\n",
       "    </tr>\n",
       "    <tr>\n",
       "      <th>60</th>\n",
       "      <td>age_mark_spend_10+</td>\n",
       "      <td>0.08</td>\n",
       "    </tr>\n",
       "    <tr>\n",
       "      <th>94</th>\n",
       "      <td>cate_spend_other_year</td>\n",
       "      <td>0.08</td>\n",
       "    </tr>\n",
       "    <tr>\n",
       "      <th>128</th>\n",
       "      <td>bu_spend_Play_Themes_IP_year</td>\n",
       "      <td>0.08</td>\n",
       "    </tr>\n",
       "    <tr>\n",
       "      <th>18</th>\n",
       "      <td>cate_spend_D2C_driven</td>\n",
       "      <td>0.08</td>\n",
       "    </tr>\n",
       "    <tr>\n",
       "      <th>15</th>\n",
       "      <td>num_shop</td>\n",
       "      <td>0.08</td>\n",
       "    </tr>\n",
       "    <tr>\n",
       "      <th>6</th>\n",
       "      <td>avg_sku_amt</td>\n",
       "      <td>0.08</td>\n",
       "    </tr>\n",
       "    <tr>\n",
       "      <th>133</th>\n",
       "      <td>age_mark_spend_16+_year</td>\n",
       "      <td>0.09</td>\n",
       "    </tr>\n",
       "    <tr>\n",
       "      <th>5</th>\n",
       "      <td>avg_order_amt</td>\n",
       "      <td>0.09</td>\n",
       "    </tr>\n",
       "    <tr>\n",
       "      <th>107</th>\n",
       "      <td>topic_spend_Monkie_Kid_year</td>\n",
       "      <td>0.09</td>\n",
       "    </tr>\n",
       "    <tr>\n",
       "      <th>42</th>\n",
       "      <td>segment_spend_Boys</td>\n",
       "      <td>0.09</td>\n",
       "    </tr>\n",
       "    <tr>\n",
       "      <th>14</th>\n",
       "      <td>num_super_segment</td>\n",
       "      <td>0.09</td>\n",
       "    </tr>\n",
       "    <tr>\n",
       "      <th>139</th>\n",
       "      <td>age_mark_spend_7+_year</td>\n",
       "      <td>0.09</td>\n",
       "    </tr>\n",
       "    <tr>\n",
       "      <th>2</th>\n",
       "      <td>spend</td>\n",
       "      <td>0.09</td>\n",
       "    </tr>\n",
       "    <tr>\n",
       "      <th>16</th>\n",
       "      <td>num_version</td>\n",
       "      <td>0.09</td>\n",
       "    </tr>\n",
       "    <tr>\n",
       "      <th>7</th>\n",
       "      <td>shop_max_freq</td>\n",
       "      <td>0.10</td>\n",
       "    </tr>\n",
       "    <tr>\n",
       "      <th>1</th>\n",
       "      <td>freq</td>\n",
       "      <td>0.10</td>\n",
       "    </tr>\n",
       "    <tr>\n",
       "      <th>13</th>\n",
       "      <td>num_topic</td>\n",
       "      <td>0.10</td>\n",
       "    </tr>\n",
       "    <tr>\n",
       "      <th>17</th>\n",
       "      <td>num_mark</td>\n",
       "      <td>0.10</td>\n",
       "    </tr>\n",
       "    <tr>\n",
       "      <th>4</th>\n",
       "      <td>num_sku</td>\n",
       "      <td>0.10</td>\n",
       "    </tr>\n",
       "    <tr>\n",
       "      <th>3</th>\n",
       "      <td>unit</td>\n",
       "      <td>0.10</td>\n",
       "    </tr>\n",
       "    <tr>\n",
       "      <th>123</th>\n",
       "      <td>bu_spend_LEGO_Creator_year</td>\n",
       "      <td>0.10</td>\n",
       "    </tr>\n",
       "    <tr>\n",
       "      <th>41</th>\n",
       "      <td>topic_spend_other</td>\n",
       "      <td>0.10</td>\n",
       "    </tr>\n",
       "    <tr>\n",
       "      <th>78</th>\n",
       "      <td>avg_sku_amt_year</td>\n",
       "      <td>0.11</td>\n",
       "    </tr>\n",
       "    <tr>\n",
       "      <th>141</th>\n",
       "      <td>age_mark_spend_8+_year</td>\n",
       "      <td>0.11</td>\n",
       "    </tr>\n",
       "    <tr>\n",
       "      <th>138</th>\n",
       "      <td>age_mark_spend_6+_year</td>\n",
       "      <td>0.11</td>\n",
       "    </tr>\n",
       "    <tr>\n",
       "      <th>127</th>\n",
       "      <td>bu_spend_Play_Themes_year</td>\n",
       "      <td>0.11</td>\n",
       "    </tr>\n",
       "    <tr>\n",
       "      <th>134</th>\n",
       "      <td>age_mark_spend_18+_year</td>\n",
       "      <td>0.11</td>\n",
       "    </tr>\n",
       "    <tr>\n",
       "      <th>89</th>\n",
       "      <td>cate_spend_D2C_driven_year</td>\n",
       "      <td>0.12</td>\n",
       "    </tr>\n",
       "    <tr>\n",
       "      <th>77</th>\n",
       "      <td>avg_order_amt_year</td>\n",
       "      <td>0.12</td>\n",
       "    </tr>\n",
       "    <tr>\n",
       "      <th>131</th>\n",
       "      <td>age_mark_spend_10+_year</td>\n",
       "      <td>0.12</td>\n",
       "    </tr>\n",
       "    <tr>\n",
       "      <th>20</th>\n",
       "      <td>cate_spend_Merchandise</td>\n",
       "      <td>0.12</td>\n",
       "    </tr>\n",
       "    <tr>\n",
       "      <th>54</th>\n",
       "      <td>bu_spend_Merch_Promotion</td>\n",
       "      <td>0.12</td>\n",
       "    </tr>\n",
       "    <tr>\n",
       "      <th>46</th>\n",
       "      <td>segment_spend_other</td>\n",
       "      <td>0.12</td>\n",
       "    </tr>\n",
       "    <tr>\n",
       "      <th>113</th>\n",
       "      <td>segment_spend_Boys_year</td>\n",
       "      <td>0.13</td>\n",
       "    </tr>\n",
       "    <tr>\n",
       "      <th>11</th>\n",
       "      <td>stddev_purch_diff</td>\n",
       "      <td>0.14</td>\n",
       "    </tr>\n",
       "    <tr>\n",
       "      <th>112</th>\n",
       "      <td>topic_spend_other_year</td>\n",
       "      <td>0.14</td>\n",
       "    </tr>\n",
       "    <tr>\n",
       "      <th>74</th>\n",
       "      <td>spend_year</td>\n",
       "      <td>0.15</td>\n",
       "    </tr>\n",
       "    <tr>\n",
       "      <th>12</th>\n",
       "      <td>tenure</td>\n",
       "      <td>0.15</td>\n",
       "    </tr>\n",
       "    <tr>\n",
       "      <th>83</th>\n",
       "      <td>stddev_purch_diff_year</td>\n",
       "      <td>0.18</td>\n",
       "    </tr>\n",
       "    <tr>\n",
       "      <th>91</th>\n",
       "      <td>cate_spend_Merchandise_year</td>\n",
       "      <td>0.20</td>\n",
       "    </tr>\n",
       "    <tr>\n",
       "      <th>125</th>\n",
       "      <td>bu_spend_Merch_Promotion_year</td>\n",
       "      <td>0.20</td>\n",
       "    </tr>\n",
       "    <tr>\n",
       "      <th>117</th>\n",
       "      <td>segment_spend_other_year</td>\n",
       "      <td>0.20</td>\n",
       "    </tr>\n",
       "    <tr>\n",
       "      <th>87</th>\n",
       "      <td>num_version_year</td>\n",
       "      <td>0.24</td>\n",
       "    </tr>\n",
       "    <tr>\n",
       "      <th>86</th>\n",
       "      <td>num_shop_year</td>\n",
       "      <td>0.25</td>\n",
       "    </tr>\n",
       "    <tr>\n",
       "      <th>75</th>\n",
       "      <td>unit_year</td>\n",
       "      <td>0.25</td>\n",
       "    </tr>\n",
       "    <tr>\n",
       "      <th>85</th>\n",
       "      <td>num_super_segment_year</td>\n",
       "      <td>0.25</td>\n",
       "    </tr>\n",
       "    <tr>\n",
       "      <th>84</th>\n",
       "      <td>num_topic_year</td>\n",
       "      <td>0.25</td>\n",
       "    </tr>\n",
       "    <tr>\n",
       "      <th>88</th>\n",
       "      <td>num_mark_year</td>\n",
       "      <td>0.25</td>\n",
       "    </tr>\n",
       "    <tr>\n",
       "      <th>76</th>\n",
       "      <td>num_sku_year</td>\n",
       "      <td>0.25</td>\n",
       "    </tr>\n",
       "    <tr>\n",
       "      <th>79</th>\n",
       "      <td>shop_max_freq_year</td>\n",
       "      <td>0.26</td>\n",
       "    </tr>\n",
       "    <tr>\n",
       "      <th>73</th>\n",
       "      <td>freq_year</td>\n",
       "      <td>0.26</td>\n",
       "    </tr>\n",
       "  </tbody>\n",
       "</table>\n",
       "</div>"
      ],
      "text/plain": [
       "                                index  corr\n",
       "80                min_purch_diff_year -0.13\n",
       "82                avg_purch_diff_year -0.13\n",
       "116      segment_spend_Preschool_year -0.04\n",
       "119               bu_spend_DUPLO_year -0.04\n",
       "135           age_mark_spend_2-5_year -0.02\n",
       "48                     bu_spend_DUPLO -0.02\n",
       "45            segment_spend_Preschool -0.02\n",
       "99    topic_spend_DUPLO_My_First_year -0.01\n",
       "118                  bu_spend_4+_year -0.01\n",
       "64                 age_mark_spend_2-5 -0.01\n",
       "97   topic_spend_City_Space_Port_year -0.01\n",
       "136          age_mark_spend_4-99_year -0.01\n",
       "100       topic_spend_DUPLO_Town_year -0.01\n",
       "28         topic_spend_DUPLO_My_First -0.01\n",
       "104     topic_spend_LEGO_Classic_year -0.00\n",
       "26        topic_spend_City_Space_Port -0.00\n",
       "29             topic_spend_DUPLO_Town -0.00\n",
       "21        cate_spend_Special_Products  0.00\n",
       "65                age_mark_spend_4-99  0.00\n",
       "143         age_mark_spend_other_year  0.00\n",
       "33           topic_spend_LEGO_Classic  0.00\n",
       "47                        bu_spend_4+  0.00\n",
       "69                age_mark_spend_7-12  0.01\n",
       "8                      min_purch_diff  0.01\n",
       "140          age_mark_spend_7-12_year  0.01\n",
       "92   cate_spend_Special_Products_year  0.01\n",
       "53                bu_spend_MINDSTORMS  0.01\n",
       "0                             recency  0.01\n",
       "124          bu_spend_MINDSTORMS_year  0.01\n",
       "24              topic_spend_City_Fire  0.01\n",
       "72               age_mark_spend_other  0.01\n",
       "25            topic_spend_City_Police  0.01\n",
       "115           segment_spend_None_year  0.01\n",
       "55                      bu_spend_None  0.02\n",
       "44                 segment_spend_None  0.02\n",
       "96       topic_spend_City_Police_year  0.02\n",
       "95         topic_spend_City_Fire_year  0.02\n",
       "30        topic_spend_Disney_Princess  0.02\n",
       "111          topic_spend_Technic_year  0.02\n",
       "129             bu_spend_Technic_year  0.02\n",
       "19             cate_spend_Key_Account  0.02\n",
       "49           bu_spend_Design_Classics  0.02\n",
       "40                topic_spend_Technic  0.02\n",
       "58                   bu_spend_Technic  0.02\n",
       "120     bu_spend_Design_Classics_year  0.02\n",
       "90        cate_spend_Key_Account_year  0.02\n",
       "122           bu_spend_LEGO_City_year  0.02\n",
       "51                 bu_spend_LEGO_City  0.02\n",
       "101  topic_spend_Disney_Princess_year  0.03\n",
       "38           topic_spend_Star_Wars_TM  0.03\n",
       "61                 age_mark_spend_12+  0.03\n",
       "71                  age_mark_spend_9+  0.03\n",
       "66                  age_mark_spend_5+  0.03\n",
       "34           topic_spend_LEGO_Friends  0.03\n",
       "126                bu_spend_None_year  0.03\n",
       "39           topic_spend_Super_Heroes  0.03\n",
       "137            age_mark_spend_5+_year  0.03\n",
       "142            age_mark_spend_9+_year  0.03\n",
       "59                     bu_spend_other  0.04\n",
       "132           age_mark_spend_12+_year  0.04\n",
       "105     topic_spend_LEGO_Friends_year  0.04\n",
       "32                  topic_spend_Icons  0.04\n",
       "81                max_purch_diff_year  0.04\n",
       "31        topic_spend_Harry_Potter_TM  0.04\n",
       "110     topic_spend_Super_Heroes_year  0.05\n",
       "10                     avg_purch_diff  0.05\n",
       "50                     bu_spend_Girls  0.05\n",
       "43                segment_spend_Girls  0.05\n",
       "109     topic_spend_Star_Wars_TM_year  0.05\n",
       "36             topic_spend_Monkie_Kid  0.05\n",
       "37                topic_spend_Ninjago  0.05\n",
       "23                   cate_spend_other  0.05\n",
       "27         topic_spend_Creator_Expert  0.05\n",
       "9                      max_purch_diff  0.05\n",
       "35             topic_spend_LEGO_Ideas  0.06\n",
       "22         cate_spend_Standard_Retail  0.06\n",
       "102  topic_spend_Harry_Potter_TM_year  0.06\n",
       "130               bu_spend_other_year  0.06\n",
       "57            bu_spend_Play_Themes_IP  0.06\n",
       "114          segment_spend_Girls_year  0.06\n",
       "121               bu_spend_Girls_year  0.06\n",
       "62                 age_mark_spend_16+  0.06\n",
       "68                  age_mark_spend_7+  0.07\n",
       "63                 age_mark_spend_18+  0.07\n",
       "70                  age_mark_spend_8+  0.07\n",
       "108          topic_spend_Ninjago_year  0.07\n",
       "52              bu_spend_LEGO_Creator  0.07\n",
       "93    cate_spend_Standard_Retail_year  0.08\n",
       "103            topic_spend_Icons_year  0.08\n",
       "106       topic_spend_LEGO_Ideas_year  0.08\n",
       "98    topic_spend_Creator_Expert_year  0.08\n",
       "56               bu_spend_Play_Themes  0.08\n",
       "67                  age_mark_spend_6+  0.08\n",
       "60                 age_mark_spend_10+  0.08\n",
       "94              cate_spend_other_year  0.08\n",
       "128      bu_spend_Play_Themes_IP_year  0.08\n",
       "18              cate_spend_D2C_driven  0.08\n",
       "15                           num_shop  0.08\n",
       "6                         avg_sku_amt  0.08\n",
       "133           age_mark_spend_16+_year  0.09\n",
       "5                       avg_order_amt  0.09\n",
       "107       topic_spend_Monkie_Kid_year  0.09\n",
       "42                 segment_spend_Boys  0.09\n",
       "14                  num_super_segment  0.09\n",
       "139            age_mark_spend_7+_year  0.09\n",
       "2                               spend  0.09\n",
       "16                        num_version  0.09\n",
       "7                       shop_max_freq  0.10\n",
       "1                                freq  0.10\n",
       "13                          num_topic  0.10\n",
       "17                           num_mark  0.10\n",
       "4                             num_sku  0.10\n",
       "3                                unit  0.10\n",
       "123        bu_spend_LEGO_Creator_year  0.10\n",
       "41                  topic_spend_other  0.10\n",
       "78                   avg_sku_amt_year  0.11\n",
       "141            age_mark_spend_8+_year  0.11\n",
       "138            age_mark_spend_6+_year  0.11\n",
       "127         bu_spend_Play_Themes_year  0.11\n",
       "134           age_mark_spend_18+_year  0.11\n",
       "89         cate_spend_D2C_driven_year  0.12\n",
       "77                 avg_order_amt_year  0.12\n",
       "131           age_mark_spend_10+_year  0.12\n",
       "20             cate_spend_Merchandise  0.12\n",
       "54           bu_spend_Merch_Promotion  0.12\n",
       "46                segment_spend_other  0.12\n",
       "113           segment_spend_Boys_year  0.13\n",
       "11                  stddev_purch_diff  0.14\n",
       "112            topic_spend_other_year  0.14\n",
       "74                         spend_year  0.15\n",
       "12                             tenure  0.15\n",
       "83             stddev_purch_diff_year  0.18\n",
       "91        cate_spend_Merchandise_year  0.20\n",
       "125     bu_spend_Merch_Promotion_year  0.20\n",
       "117          segment_spend_other_year  0.20\n",
       "87                   num_version_year  0.24\n",
       "86                      num_shop_year  0.25\n",
       "75                          unit_year  0.25\n",
       "85             num_super_segment_year  0.25\n",
       "84                     num_topic_year  0.25\n",
       "88                      num_mark_year  0.25\n",
       "76                       num_sku_year  0.25\n",
       "79                 shop_max_freq_year  0.26\n",
       "73                          freq_year  0.26"
      ]
     },
     "execution_count": 39,
     "metadata": {},
     "output_type": "execute_result"
    }
   ],
   "source": [
    "def pd_corrwith(df, y, x_list):\n",
    "    return df[x_list].apply(lambda x: x.corr(df[y], method='spearman'))\n",
    "\n",
    "event_corr=pd_corrwith(pd_model, y='outcome_event_ind', x_list=col_num)\n",
    "pd_event_corr=pd.DataFrame(event_corr).reset_index()\n",
    "pd_event_corr.columns=['index', 'corr']\n",
    "pd_event_corr.sort_values(by='corr')"
   ]
  },
  {
   "cell_type": "code",
   "execution_count": 40,
   "metadata": {},
   "outputs": [],
   "source": [
    "class onehot_df(TransformerMixin, BaseEstimator):\n",
    "    def __init__(self, col_to_code, handle_unknown='ignore'):\n",
    "        self.col_to_code = col_to_code\n",
    "        self.handle_unknown=handle_unknown\n",
    "        \n",
    "    def fit(self, X, y= None):\n",
    "        # None in object columns may cause trouble\n",
    "        self.enc = sk_OneHotEncoder(sparse=False, drop=None, handle_unknown=self.handle_unknown)\n",
    "        self.enc.fit(X[self.col_to_code].fillna('missing').astype('category'))\n",
    "        return self\n",
    "    \n",
    "    def transform(self, X, y= None):\n",
    "        X_sparse=self.enc.transform(X[self.col_to_code].fillna('missing').astype('category'))\n",
    "        X_oh=pd.DataFrame(X_sparse, columns=self.enc.get_feature_names(self.col_to_code)).reset_index(drop=True)\n",
    "        # print(X_oh)\n",
    "        X_dropped=X.drop(columns=self.col_to_code).reset_index(drop=True)\n",
    "        X_res=pd.concat([X_dropped, X_oh], axis=1,  ignore_index=True)\n",
    "        return X_res"
   ]
  },
  {
   "cell_type": "code",
   "execution_count": 41,
   "metadata": {},
   "outputs": [],
   "source": [
    "pd_model_1 = pd_model.fillna(0)\n",
    "X, y=pd_model_1[col_pred], pd_model_1['outcome_event_ind']\n",
    "X_tr, X_ts, y_tr, y_ts = train_test_split(X, y, test_size=0.25, random_state=42)\n",
    "pd_oot = pd_oot.fillna(0)\n",
    "X_oot, y_oot=pd_oot[col_pred], pd_oot['outcome_event_ind']"
   ]
  },
  {
   "cell_type": "code",
   "execution_count": 42,
   "metadata": {},
   "outputs": [
    {
     "name": "stderr",
     "output_type": "stream",
     "text": [
      "/home/emr-notebook/.local/lib/python3.7/site-packages/sklearn/utils/deprecation.py:87: FutureWarning: Function get_feature_names is deprecated; get_feature_names is deprecated in 1.0 and will be removed in 1.2. Please use get_feature_names_out instead.\n",
      "  warnings.warn(msg, category=FutureWarning)\n"
     ]
    },
    {
     "name": "stdout",
     "output_type": "stream",
     "text": [
      "[Pipeline] ............ (step 1 of 3) Processing onehot, total=   2.2s\n",
      "[Pipeline] ........... (step 2 of 3) Processing scaling, total=   9.4s\n",
      "[Pipeline] ............. (step 3 of 3) Processing pca_s, total=   3.8s\n"
     ]
    },
    {
     "data": {
      "text/plain": [
       "Pipeline(steps=[('onehot',\n",
       "                 onehot_df(col_to_code=['holiday_flag', 'is_member',\n",
       "                                        'is_shopper', 'is_consumer', 'gender',\n",
       "                                        'is_gwp', 'age_cohorts',\n",
       "                                        'marital_status', 'city_grade',\n",
       "                                        'educational_status', 'user_job',\n",
       "                                        'monthly_pay', 'is_inside_staff',\n",
       "                                        'chinese_zodiac', 'constellation',\n",
       "                                        'prom_ind', 'most_freq_holiday'])),\n",
       "                ('scaling', StandardScaler()), ('pca_s', PCA())],\n",
       "         verbose=True)"
      ]
     },
     "execution_count": 42,
     "metadata": {},
     "output_type": "execute_result"
    }
   ],
   "source": [
    "pipeline = sk_pipeline([('onehot', onehot_df(col_to_code=col_to_code)),\n",
    "                        ('scaling', sk_StandardScaler()),\n",
    "                        ('pca_s', sk_pca(n_components=None))], verbose=True)\n",
    "# pipeline.fit_transform(pd_model_1)\n",
    "pipeline.fit(X_tr)"
   ]
  },
  {
   "cell_type": "code",
   "execution_count": 43,
   "metadata": {},
   "outputs": [],
   "source": [
    "ratio=pd.DataFrame(pipeline['pca_s'].explained_variance_ratio_).reset_index()\n",
    "ratio.columns=['index', 'ratio']\n",
    "ratio_cum=pd.DataFrame(np.cumsum(pipeline['pca_s'].explained_variance_ratio_)).reset_index()\n",
    "ratio_cum.columns=['index', 'ratio_cum']"
   ]
  },
  {
   "cell_type": "code",
   "execution_count": 44,
   "metadata": {},
   "outputs": [],
   "source": [
    "fig = make_subplots(rows=1, cols=2, column_widths=[0.5, 0.5], subplot_titles=['ratio', 'ratio_cum'])\n",
    "fig_1=fig.add_trace(go.Scatter(x=ratio['index'], y=ratio['ratio']), row=1, col=1)\n",
    "fig_2=fig.add_trace(go.Scatter(x=ratio_cum['index'], y=ratio_cum['ratio_cum']), row=1, col=2)\n",
    "# fig.show()"
   ]
  },
  {
   "cell_type": "code",
   "execution_count": 45,
   "metadata": {},
   "outputs": [
    {
     "name": "stdout",
     "output_type": "stream",
     "text": [
      "Explained Variance Ratio: [0.18643 0.09644 0.0481  0.03679 0.0255  0.02052 0.01974 0.01823 0.01602\n",
      " 0.01528 0.01418 0.01372 0.01352 0.01306 0.0123  0.01191 0.0109  0.01052\n",
      " 0.00963 0.00951 0.00883 0.00867 0.00848 0.00846 0.00764 0.00738 0.00728\n",
      " 0.00706 0.00692 0.00675 0.00668 0.00658 0.00631 0.00623 0.006   0.00577\n",
      " 0.00558 0.00554 0.00531 0.00511 0.00502 0.00489 0.00484 0.00479 0.00479\n",
      " 0.00477 0.00472 0.00469 0.00469 0.00466 0.00463 0.00463 0.0046  0.00458\n",
      " 0.00456 0.00455 0.00455 0.00452 0.00451 0.00451 0.00449 0.00448 0.00447\n",
      " 0.00446 0.00444 0.00443 0.00437 0.00435 0.00433 0.0043  0.00428 0.00424\n",
      " 0.0042  0.00419 0.00416 0.00408 0.004   0.00397 0.00365 0.00337 0.00324\n",
      " 0.00313 0.00306 0.003   0.00294 0.00284 0.00276 0.00268 0.00243 0.00239\n",
      " 0.00227 0.00222 0.0021  0.00205 0.00204 0.00199 0.00189 0.00187 0.00181\n",
      " 0.00176 0.00168 0.00167 0.00161 0.00151 0.00141 0.00141 0.00137 0.00135\n",
      " 0.00129 0.00126 0.00117 0.00116 0.00106 0.00103 0.00102 0.00098 0.0009\n",
      " 0.00087 0.00081 0.00075 0.00074 0.0007  0.00065 0.00065 0.00063 0.00058\n",
      " 0.00053 0.0005  0.00048 0.00042 0.0004  0.00038 0.00037 0.00031 0.00031\n",
      " 0.00027 0.00026 0.00025 0.00023 0.00019 0.00018 0.00017 0.00016 0.00015\n",
      " 0.00014 0.00013 0.00011 0.0001  0.00009 0.00009 0.00007 0.00005 0.00004\n",
      " 0.00004 0.00004 0.00003 0.00002 0.00002 0.00001 0.00001 0.00001 0.00001\n",
      " 0.      0.      0.      0.      0.      0.      0.      0.      0.\n",
      " 0.      0.      0.      0.      0.      0.      0.      0.      0.\n",
      " 0.      0.      0.      0.      0.      0.      0.      0.      0.\n",
      " 0.      0.      0.      0.      0.      0.      0.      0.      0.\n",
      " 0.      0.      0.      0.      0.      0.      0.      0.      0.\n",
      " 0.      0.      0.      0.      0.      0.      0.      0.      0.\n",
      " 0.      0.      0.      0.      0.      0.      0.     ]\n"
     ]
    },
    {
     "name": "stderr",
     "output_type": "stream",
     "text": [
      "/home/emr-notebook/.local/lib/python3.7/site-packages/sklearn/utils/deprecation.py:87: FutureWarning:\n",
      "\n",
      "Function get_feature_names is deprecated; get_feature_names is deprecated in 1.0 and will be removed in 1.2. Please use get_feature_names_out instead.\n",
      "\n"
     ]
    },
    {
     "data": {
      "text/plain": [
       "79"
      ]
     },
     "execution_count": 45,
     "metadata": {},
     "output_type": "execute_result"
    },
    {
     "data": {
      "text/plain": [
       "223"
      ]
     },
     "execution_count": 45,
     "metadata": {},
     "output_type": "execute_result"
    },
    {
     "data": {
      "text/plain": [
       "75"
      ]
     },
     "execution_count": 45,
     "metadata": {},
     "output_type": "execute_result"
    }
   ],
   "source": [
    "# dir(pipeline['pca_s'])\n",
    "print('Explained Variance Ratio:', pipeline['pca_s'].explained_variance_ratio_)\n",
    "# print(pipeline['pca_s'].singular_values_)\n",
    "ev=np.cumsum(pipeline['pca_s'].explained_variance_ratio_)<0.90\n",
    "num_pc_keep=sum(ev)\n",
    "len(pipeline['onehot'].enc.get_feature_names(col_to_code))\n",
    "len(pipeline['pca_s'].explained_variance_ratio_)\n",
    "num_pc_keep"
   ]
  },
  {
   "cell_type": "code",
   "execution_count": 46,
   "metadata": {},
   "outputs": [
    {
     "data": {
      "text/plain": [
       "(243887, 161)"
      ]
     },
     "execution_count": 46,
     "metadata": {},
     "output_type": "execute_result"
    },
    {
     "data": {
      "text/plain": [
       "(81296, 161)"
      ]
     },
     "execution_count": 46,
     "metadata": {},
     "output_type": "execute_result"
    }
   ],
   "source": [
    "X_tr.shape\n",
    "X_ts.shape"
   ]
  },
  {
   "cell_type": "code",
   "execution_count": 47,
   "metadata": {},
   "outputs": [
    {
     "name": "stderr",
     "output_type": "stream",
     "text": [
      "/home/emr-notebook/.local/lib/python3.7/site-packages/sklearn/utils/deprecation.py:87: FutureWarning:\n",
      "\n",
      "Function get_feature_names is deprecated; get_feature_names is deprecated in 1.0 and will be removed in 1.2. Please use get_feature_names_out instead.\n",
      "\n"
     ]
    },
    {
     "name": "stdout",
     "output_type": "stream",
     "text": [
      "[Pipeline] ............ (step 1 of 4) Processing onehot, total=   2.3s\n",
      "[Pipeline] ........... (step 2 of 4) Processing scaling, total=   9.7s\n",
      "[Pipeline] ............. (step 3 of 4) Processing pca_s, total=   5.9s\n",
      "[Pipeline] ................ (step 4 of 4) Processing lr, total=   2.4s\n"
     ]
    },
    {
     "data": {
      "text/plain": [
       "Pipeline(steps=[('onehot',\n",
       "                 onehot_df(col_to_code=['holiday_flag', 'is_member',\n",
       "                                        'is_shopper', 'is_consumer', 'gender',\n",
       "                                        'is_gwp', 'age_cohorts',\n",
       "                                        'marital_status', 'city_grade',\n",
       "                                        'educational_status', 'user_job',\n",
       "                                        'monthly_pay', 'is_inside_staff',\n",
       "                                        'chinese_zodiac', 'constellation',\n",
       "                                        'prom_ind', 'most_freq_holiday'])),\n",
       "                ('scaling', StandardScaler()), ('pca_s', PCA(n_components=75)),\n",
       "                ('lr', LogisticRegression(max_iter=300, random_state=0))],\n",
       "         verbose=True)"
      ]
     },
     "execution_count": 47,
     "metadata": {},
     "output_type": "execute_result"
    },
    {
     "name": "stdout",
     "output_type": "stream",
     "text": [
      "Explained Variance Ratio: [0.18643 0.28288 0.33098 0.36777 0.39327 0.41378 0.43353 0.45176 0.46779\n",
      " 0.48307 0.49725 0.51097 0.52449 0.53755 0.54985 0.56176 0.57266 0.58319\n",
      " 0.59281 0.60232 0.61115 0.61982 0.62829 0.63675 0.64439 0.65178 0.65905\n",
      " 0.6661  0.67303 0.67978 0.68646 0.69304 0.69935 0.70558 0.71158 0.71735\n",
      " 0.72292 0.72846 0.73377 0.73888 0.74389 0.74877 0.7536  0.75839 0.76317\n",
      " 0.76794 0.77264 0.77733 0.782   0.78665 0.79128 0.7959  0.80049 0.80507\n",
      " 0.80962 0.81416 0.81868 0.82319 0.8277  0.83219 0.83666 0.84114 0.84559\n",
      " 0.85002 0.85444 0.85883 0.86317 0.86749 0.8718  0.87608 0.88032 0.88451\n",
      " 0.88868 0.89281 0.89689]\n"
     ]
    }
   ],
   "source": [
    "pipeline_ev_lr = sk_pipeline([('onehot', onehot_df(col_to_code=col_to_code)),\n",
    "                              ('scaling', sk_StandardScaler()),\n",
    "                              ('pca_s', sk_pca(n_components=num_pc_keep)),\n",
    "                              ('lr', sk_LogisticRegression(random_state=0, max_iter=300))], verbose=True)\n",
    "pipeline_ev_lr.fit(X_tr, y_tr)\n",
    "print('Explained Variance Ratio:', np.cumsum(pipeline_ev_lr['pca_s'].explained_variance_ratio_))"
   ]
  },
  {
   "cell_type": "code",
   "execution_count": 48,
   "metadata": {},
   "outputs": [
    {
     "name": "stderr",
     "output_type": "stream",
     "text": [
      "/home/emr-notebook/.local/lib/python3.7/site-packages/sklearn/utils/deprecation.py:87: FutureWarning:\n",
      "\n",
      "Function get_feature_names is deprecated; get_feature_names is deprecated in 1.0 and will be removed in 1.2. Please use get_feature_names_out instead.\n",
      "\n"
     ]
    },
    {
     "name": "stdout",
     "output_type": "stream",
     "text": [
      "[Pipeline] ............ (step 1 of 3) Processing onehot, total=   2.2s\n",
      "[Pipeline] ........... (step 2 of 3) Processing scaling, total=   9.4s\n",
      "[Pipeline] .............. (step 3 of 3) Processing lgbm, total=  23.0s\n"
     ]
    },
    {
     "data": {
      "text/plain": [
       "Pipeline(steps=[('onehot',\n",
       "                 onehot_df(col_to_code=['holiday_flag', 'is_member',\n",
       "                                        'is_shopper', 'is_consumer', 'gender',\n",
       "                                        'is_gwp', 'age_cohorts',\n",
       "                                        'marital_status', 'city_grade',\n",
       "                                        'educational_status', 'user_job',\n",
       "                                        'monthly_pay', 'is_inside_staff',\n",
       "                                        'chinese_zodiac', 'constellation',\n",
       "                                        'prom_ind', 'most_freq_holiday'])),\n",
       "                ('scaling', StandardScaler()),\n",
       "                ('lgbm',\n",
       "                 CalibratedClassifierCV(base_estimator=LGBMClassifier(),\n",
       "                                        cv=5))],\n",
       "         verbose=True)"
      ]
     },
     "execution_count": 48,
     "metadata": {},
     "output_type": "execute_result"
    }
   ],
   "source": [
    "from sklearn.calibration import CalibratedClassifierCV\n",
    "pipeline_ev_lgbm = sk_pipeline([('onehot', onehot_df(col_to_code=col_to_code)),\n",
    "                              ('scaling', sk_StandardScaler()),\n",
    "                              ('lgbm', CalibratedClassifierCV(LGBMClassifier(), method='sigmoid', cv=5))], verbose=True)\n",
    "pipeline_ev_lgbm.fit(X_tr, y_tr)"
   ]
  },
  {
   "cell_type": "code",
   "execution_count": 49,
   "metadata": {},
   "outputs": [],
   "source": [
    "# param_test = {\n",
    "#               'lgbm__max_depth': [15, 20, 25, 30, 35],\n",
    "#               'lgbm__learning_rate': [0.01, 0.02, 0.05, 0.1, 0.15],\n",
    "#               'lgbm__feature_fraction': [0.6, 0.7, 0.8, 0.9, 0.95],\n",
    "#               'lgbm__bagging_fraction': [0.6, 0.7, 0.8, 0.9, 0.95],\n",
    "#               'lgbm__bagging_freq': [2, 4, 5, 6, 8],\n",
    "#               'lgbm__lambda_l1': [0, 0.1, 0.4, 0.5, 0.6],\n",
    "#               'lgbm__lambda_l2': [0, 10, 15, 35, 40],\n",
    "#               'lgbm__cat_smooth': [1, 10, 15, 20, 35]\n",
    "# }"
   ]
  },
  {
   "cell_type": "code",
   "execution_count": 50,
   "metadata": {
    "scrolled": true
   },
   "outputs": [],
   "source": [
    "# import lightgbm as lgb\n",
    "# from sklearn.metrics import mean_squared_log_error\n",
    "# from sklearn.model_selection import RandomizedSearchCV, GridSearchCV\n",
    "# from sklearn.model_selection import cross_val_score\n",
    "\n",
    "# pipeline_ev_lgbm = sk_pipeline([('onehot', onehot_df(col_to_code=col_to_code)),\n",
    "#                               ('scaling', sk_StandardScaler()),\n",
    "#                               ('lgbm', lgb.LGBMClassifier())])\n",
    "\n",
    "# CV = RandomizedSearchCV(pipeline_ev_lgbm, param_test, scoring = 'accuracy', n_jobs= 1)\n",
    "# CV.fit(X_tr, y_tr)   \n",
    "\n",
    "# print('Best score and parameter combination = ')\n",
    "\n",
    "# print(CV.best_score_)    \n",
    "# print(CV.best_params_)"
   ]
  },
  {
   "cell_type": "code",
   "execution_count": 51,
   "metadata": {},
   "outputs": [],
   "source": [
    "# pipeline_ev_lgbm = sk_pipeline([('onehot', onehot_df(col_to_code=col_to_code)),\n",
    "#                               ('scaling', sk_StandardScaler()),\n",
    "#                               ('lgbm', lgb.LGBMClassifier(**CV.best_params_))])\n",
    "# pipeline_ev_lgbm.fit(X_tr, y_tr)"
   ]
  },
  {
   "cell_type": "code",
   "execution_count": 52,
   "metadata": {},
   "outputs": [
    {
     "name": "stderr",
     "output_type": "stream",
     "text": [
      "/home/emr-notebook/.local/lib/python3.7/site-packages/sklearn/utils/deprecation.py:87: FutureWarning:\n",
      "\n",
      "Function get_feature_names is deprecated; get_feature_names is deprecated in 1.0 and will be removed in 1.2. Please use get_feature_names_out instead.\n",
      "\n",
      "/home/emr-notebook/.local/lib/python3.7/site-packages/sklearn/utils/deprecation.py:87: FutureWarning:\n",
      "\n",
      "Function get_feature_names is deprecated; get_feature_names is deprecated in 1.0 and will be removed in 1.2. Please use get_feature_names_out instead.\n",
      "\n",
      "/home/emr-notebook/.local/lib/python3.7/site-packages/sklearn/utils/deprecation.py:87: FutureWarning:\n",
      "\n",
      "Function get_feature_names is deprecated; get_feature_names is deprecated in 1.0 and will be removed in 1.2. Please use get_feature_names_out instead.\n",
      "\n"
     ]
    },
    {
     "data": {
      "text/plain": [
       "array([[0.36359, 0.63641],\n",
       "       [0.35108, 0.64892],\n",
       "       [0.51249, 0.48751],\n",
       "       ...,\n",
       "       [0.75015, 0.24985],\n",
       "       [0.75757, 0.24243],\n",
       "       [0.29287, 0.70713]])"
      ]
     },
     "execution_count": 52,
     "metadata": {},
     "output_type": "execute_result"
    },
    {
     "data": {
      "text/plain": [
       "array([1, 1, 0, ..., 0, 0, 1], dtype=int32)"
      ]
     },
     "execution_count": 52,
     "metadata": {},
     "output_type": "execute_result"
    }
   ],
   "source": [
    "y_tr_pred_lgbm=pipeline_ev_lgbm.predict_proba(X_tr)\n",
    "y_tr_pred_class_lgbm=pipeline_ev_lgbm.predict(X_tr)\n",
    "y_ts_pred_lgbm=pipeline_ev_lgbm.predict_proba(X_ts)\n",
    "y_tr_pred_lgbm\n",
    "y_tr_pred_class_lgbm"
   ]
  },
  {
   "cell_type": "code",
   "execution_count": 53,
   "metadata": {},
   "outputs": [],
   "source": [
    "# y_oot_pred_lgbm = pipeline_ev_lgbm.predict_proba(X_oot)"
   ]
  },
  {
   "cell_type": "code",
   "execution_count": 54,
   "metadata": {},
   "outputs": [
    {
     "data": {
      "image/png": "[encoded data removed]",
      "text/plain": [
       "<Figure size 1800x720 with 6 Axes>"
      ]
     },
     "metadata": {
      "needs_background": "light"
     },
     "output_type": "display_data"
    }
   ],
   "source": [
    "fig, axes = plt.subplots(nrows=2, ncols=3, figsize=(25,10))\n",
    "ax_f=axes.flatten()\n",
    "\n",
    "_=skplt.metrics.plot_cumulative_gain(y_tr, y_tr_pred_lgbm, ax=ax_f[0], title='Cumulative Gains Curves: training')\n",
    "_=skplt.metrics.plot_cumulative_gain(y_ts, y_ts_pred_lgbm, ax=ax_f[1], title='Cumulative Gains Curves: in-time testing')\n",
    "# _=skplt.metrics.plot_cumulative_gain(y_oot, y_oot_pred_lgbm, ax=ax_f[2], title='Cumulative Gains Curves: oot testing')\n",
    "_=skplt.metrics.plot_roc(y_tr, y_tr_pred_lgbm, ax=ax_f[3], title='ROC Curves: training')\n",
    "_=skplt.metrics.plot_roc(y_ts, y_ts_pred_lgbm, ax=ax_f[4], title='ROC Curves: in-time testing')\n",
    "# _=skplt.metrics.plot_roc(y_oot, y_oot_pred_lgbm, ax=ax_f[5], title='ROC Curves: oot testing')"
   ]
  },
  {
   "cell_type": "code",
   "execution_count": 55,
   "metadata": {},
   "outputs": [],
   "source": [
    "df_model_pred = df_model.filter(F.col('member_no')!='None')\n",
    "df_col_pred = df_model_pred.select(col_pred).toPandas()\n",
    "df_member_no = df_model_pred.select('member_no').toPandas()\n",
    "df_col_pred = df_col_pred.fillna(0)"
   ]
  },
  {
   "cell_type": "code",
   "execution_count": 56,
   "metadata": {},
   "outputs": [
    {
     "name": "stderr",
     "output_type": "stream",
     "text": [
      "/home/emr-notebook/.local/lib/python3.7/site-packages/sklearn/utils/deprecation.py:87: FutureWarning:\n",
      "\n",
      "Function get_feature_names is deprecated; get_feature_names is deprecated in 1.0 and will be removed in 1.2. Please use get_feature_names_out instead.\n",
      "\n"
     ]
    }
   ],
   "source": [
    "pred = pd.concat([df_member_no,pd.DataFrame(pipeline_ev_lgbm.predict_proba(df_col_pred)[:, 1])],axis=1)"
   ]
  },
  {
   "cell_type": "code",
   "execution_count": 57,
   "metadata": {},
   "outputs": [],
   "source": [
    "X_oot_2, y_oot_2=pd_oot[col_pred], pd_oot['ltv']"
   ]
  },
  {
   "cell_type": "code",
   "execution_count": 58,
   "metadata": {},
   "outputs": [],
   "source": [
    "pred_1 = spark.createDataFrame(pred).withColumnRenamed('0','score')\n",
    "pred_2 = pred_1.select('member_no','score', F.ntile(100).over(Window.partitionBy().orderBy(F.asc('score'))).alias('percentile'))\n",
    "df_model_2 = df_model_pred.join(pred_2, on='member_no',how='left')\n",
    "pd_model_2 = df_model_2.filter(F.col('percentile')<=20).fillna(0).toPandas()"
   ]
  },
  {
   "cell_type": "code",
   "execution_count": 59,
   "metadata": {},
   "outputs": [],
   "source": [
    "class onehot_df(TransformerMixin, BaseEstimator):\n",
    "    def __init__(self, col_to_code, handle_unknown='ignore'):\n",
    "        self.col_to_code = col_to_code\n",
    "        self.handle_unknown=handle_unknown\n",
    "        \n",
    "    def fit(self, X, y= None):\n",
    "        # None in object columns may cause trouble\n",
    "        self.enc = sk_OneHotEncoder(sparse=False, drop=None, handle_unknown=self.handle_unknown)\n",
    "        self.enc.fit(X[self.col_to_code].fillna('missing').astype('category'))\n",
    "        return self\n",
    "    \n",
    "    def transform(self, X, y= None):\n",
    "        X_sparse=self.enc.transform(X[self.col_to_code].fillna('missing').astype('category'))\n",
    "        X_oh=pd.DataFrame(X_sparse, columns=self.enc.get_feature_names(self.col_to_code)).reset_index(drop=True)\n",
    "        # print(X_oh)\n",
    "        X_dropped=X.drop(columns=self.col_to_code).reset_index(drop=True)\n",
    "        X_res=pd.concat([X_dropped, X_oh], axis=1,  ignore_index=True)\n",
    "        return X_res"
   ]
  },
  {
   "cell_type": "code",
   "execution_count": 60,
   "metadata": {},
   "outputs": [],
   "source": [
    "pd_model_2= pd_model_2.fillna(0)\n",
    "X_2, y_2=pd_model_2[col_pred], pd_model_2['ltv']\n",
    "X_tr_2, X_ts_2, y_tr_2, y_ts_2 = train_test_split(X_2, y_2, test_size=0.25, random_state=42)"
   ]
  },
  {
   "cell_type": "code",
   "execution_count": 61,
   "metadata": {},
   "outputs": [],
   "source": [
    "# param_test_2 ={'lgbm__num_leaves': [64, 68, 74, 80, 86, 92],\n",
    "#              'lgbm__max_depth': [5, 6, 7, 8],\n",
    "#              'lgbm__learning_rate': [0.001, 0.005, 0.01, 0.02, 0.05],\n",
    "#              'lgbm__min_child_samples': [18, 19, 20, 21, 22],\n",
    "#              'lgbm__min_child_weight': [1e-5, 1e-3, 1e-2, 1e-1, 1, 1e1, 1e2, 1e3, 1e4],\n",
    "#              'lgbm__n_estimators': [100,300,500,1000],\n",
    "#              'lgbm__colsample_bytree': [0.5, 0.6, 0.7, 0.8, 0.9],\n",
    "#              'lgbm__subsample': [0.5, 0.6, 0.7, 0.8, 0.9],\n",
    "#              'lgbm__subsample_freq': [4, 6, 8, 10, 12, 14],\n",
    "#              'lgbm__reg_alpha': [0, 0.1, 0.5, 0.8, 1, 1.2, 1.5, 1.8],\n",
    "#              'lgbm__reg_lambda': [0, 0.1, 0.5, 0.8, 1, 1.2, 1.5, 1.8]}"
   ]
  },
  {
   "cell_type": "code",
   "execution_count": 62,
   "metadata": {},
   "outputs": [],
   "source": [
    "# import lightgbm as lgb\n",
    "# from sklearn.metrics import mean_squared_log_error\n",
    "# from sklearn.model_selection import RandomizedSearchCV, GridSearchCV\n",
    "# from sklearn.model_selection import cross_val_score\n",
    "# pipeline_ev_lgbm_2 = sk_pipeline([('onehot', onehot_df(col_to_code=col_to_code)),\n",
    "#                               ('scaling', sk_StandardScaler()),\n",
    "#                               ('lgbm', lgb.LGBMRegressor())])\n",
    "\n",
    "# CV_2 = RandomizedSearchCV(pipeline_ev_lgbm_2, param_test_2, scoring = 'r2', n_jobs= 1)\n",
    "# CV_2.fit(X_tr_2, y_tr_2)   \n",
    "\n",
    "# print('Best score and parameter combination = ')\n",
    "\n",
    "# print(CV_2.best_score_)    \n",
    "# print(CV_2.best_params_)"
   ]
  },
  {
   "cell_type": "code",
   "execution_count": 63,
   "metadata": {},
   "outputs": [
    {
     "name": "stderr",
     "output_type": "stream",
     "text": [
      "/home/emr-notebook/.local/lib/python3.7/site-packages/sklearn/utils/deprecation.py:87: FutureWarning:\n",
      "\n",
      "Function get_feature_names is deprecated; get_feature_names is deprecated in 1.0 and will be removed in 1.2. Please use get_feature_names_out instead.\n",
      "\n"
     ]
    },
    {
     "data": {
      "text/plain": [
       "Pipeline(steps=[('onehot',\n",
       "                 onehot_df(col_to_code=['holiday_flag', 'is_member',\n",
       "                                        'is_shopper', 'is_consumer', 'gender',\n",
       "                                        'is_gwp', 'age_cohorts',\n",
       "                                        'marital_status', 'city_grade',\n",
       "                                        'educational_status', 'user_job',\n",
       "                                        'monthly_pay', 'is_inside_staff',\n",
       "                                        'chinese_zodiac', 'constellation',\n",
       "                                        'prom_ind', 'most_freq_holiday'])),\n",
       "                ('scaling', StandardScaler()),\n",
       "                ('lgbm', LGBMRegressor(reg_lambda=125))])"
      ]
     },
     "execution_count": 63,
     "metadata": {},
     "output_type": "execute_result"
    }
   ],
   "source": [
    "from lightgbm import LGBMRegressor\n",
    "pipeline_ev_lgbm_2 = sk_pipeline([('onehot', onehot_df(col_to_code=col_to_code)),\n",
    "                              ('scaling', sk_StandardScaler()),\n",
    "                              ('lgbm', LGBMRegressor(reg_lambda=125))])\n",
    "pipeline_ev_lgbm_2.fit(X_tr_2, y_tr_2)"
   ]
  },
  {
   "cell_type": "code",
   "execution_count": 64,
   "metadata": {},
   "outputs": [
    {
     "name": "stderr",
     "output_type": "stream",
     "text": [
      "/home/emr-notebook/.local/lib/python3.7/site-packages/sklearn/utils/deprecation.py:87: FutureWarning:\n",
      "\n",
      "Function get_feature_names is deprecated; get_feature_names is deprecated in 1.0 and will be removed in 1.2. Please use get_feature_names_out instead.\n",
      "\n",
      "/home/emr-notebook/.local/lib/python3.7/site-packages/sklearn/utils/deprecation.py:87: FutureWarning:\n",
      "\n",
      "Function get_feature_names is deprecated; get_feature_names is deprecated in 1.0 and will be removed in 1.2. Please use get_feature_names_out instead.\n",
      "\n"
     ]
    },
    {
     "data": {
      "text/plain": [
       "array([ 40.50388,  80.68732, 158.00298, ...,  85.54237,  74.64325,\n",
       "       119.8535 ])"
      ]
     },
     "execution_count": 64,
     "metadata": {},
     "output_type": "execute_result"
    },
    {
     "data": {
      "text/plain": [
       "array([104.44616,  76.88583,  63.96087, ...,  39.59591,  80.68732,\n",
       "        98.94916])"
      ]
     },
     "execution_count": 64,
     "metadata": {},
     "output_type": "execute_result"
    }
   ],
   "source": [
    "y_tr_pred_lgbm_2=pipeline_ev_lgbm_2.predict(X_tr_2)\n",
    "y_ts_pred_lgbm_2=pipeline_ev_lgbm_2.predict(X_ts_2)\n",
    "y_tr_pred_lgbm_2\n",
    "y_ts_pred_lgbm_2"
   ]
  },
  {
   "cell_type": "code",
   "execution_count": 65,
   "metadata": {},
   "outputs": [],
   "source": [
    "# y_oot_pred_lgbm_2 = pipeline_ev_lgbm_2.predict(X_oot)"
   ]
  },
  {
   "cell_type": "code",
   "execution_count": 66,
   "metadata": {},
   "outputs": [
    {
     "name": "stdout",
     "output_type": "stream",
     "text": [
      "Training results of sklearn.metrics:\n",
      "R-Squared: 0.08092515036008463\n",
      "Adjusted R-Squared: 0.08090897060426394\n",
      "MAPE: 161.89003548519162\n"
     ]
    }
   ],
   "source": [
    "import sklearn.metrics as metrics\n",
    "mae = metrics.mean_absolute_error(y_tr_2, y_tr_pred_lgbm_2)\n",
    "mse = metrics.mean_squared_error(y_tr_2, y_tr_pred_lgbm_2)\n",
    "rmse = np.sqrt(mse)\n",
    "r2 = metrics.r2_score(y_tr_2,y_tr_pred_lgbm_2)\n",
    "X = X_tr_2.values.reshape(-1, 1)\n",
    "y = y_tr_2.values.reshape(-1, 1)\n",
    "adjusted_r_squared = 1 - (1-r2)*(len(y)-1)/(len(y)-X.shape[1]-1)\n",
    "def mean_absolute_percentage_error(y_tr_2, y_tr_pred_lgbm_2): \n",
    "    y_tr_2, y_tr_pred_lgbm_2 = np.array(y_tr_2), np.array(y_tr_pred_lgbm_2)\n",
    "    return np.mean(sum(np.abs((y_tr_2 - y_tr_pred_lgbm_2))) / sum(y_tr_2)) * 100\n",
    "mape = mean_absolute_percentage_error(y_tr_2, y_tr_pred_lgbm_2)\n",
    "\n",
    "print('Training results of sklearn.metrics:')\n",
    "# print(\"MAE:\",mae)\n",
    "# print(\"MSE:\", mse)\n",
    "# print(\"RMSE:\", rmse)\n",
    "print(\"R-Squared:\", r2)\n",
    "print(\"Adjusted R-Squared:\", adjusted_r_squared)\n",
    "print(\"MAPE:\", mape)"
   ]
  },
  {
   "cell_type": "code",
   "execution_count": 67,
   "metadata": {},
   "outputs": [
    {
     "name": "stdout",
     "output_type": "stream",
     "text": [
      "Out-of-time testing results of sklearn.metrics:\n",
      "R-Squared: 0.02067590953657794\n",
      "Adjusted R-Squared: 0.02062418649387887\n",
      "MAPE: 165.16962275997423\n"
     ]
    }
   ],
   "source": [
    "mae = metrics.mean_absolute_error(y_ts_2, y_ts_pred_lgbm_2)\n",
    "mse = metrics.mean_squared_error(y_ts_2, y_ts_pred_lgbm_2)\n",
    "rmse = np.sqrt(mse)  \n",
    "r2 = metrics.r2_score(y_ts_2,y_ts_pred_lgbm_2)\n",
    "X = X_ts_2.values.reshape(-1, 1)\n",
    "y = y_ts_2.values.reshape(-1, 1)\n",
    "adjusted_r_squared = 1 - (1-r2)*(len(y)-1)/(len(y)-X.shape[1]-1)\n",
    "def mean_absolute_percentage_error(y_ts_2, y_ts_pred_lgbm_2): \n",
    "    y_ts_2, y_ts_pred_lgbm_2 = np.array(y_ts_2), np.array(y_ts_pred_lgbm_2)\n",
    "    return np.mean(sum(np.abs((y_ts_2 - y_ts_pred_lgbm_2))) / sum(y_ts_2)) * 100\n",
    "mape = mean_absolute_percentage_error(y_ts_2, y_ts_pred_lgbm_2)\n",
    "\n",
    "print('Out-of-time testing results of sklearn.metrics:')\n",
    "# print(\"MAE:\",mae)\n",
    "# print(\"MSE:\", mse)\n",
    "# print(\"RMSE:\", rmse)\n",
    "print(\"R-Squared:\", r2)\n",
    "print(\"Adjusted R-Squared:\", adjusted_r_squared)\n",
    "print(\"MAPE:\", mape)"
   ]
  },
  {
   "cell_type": "code",
   "execution_count": 68,
   "metadata": {},
   "outputs": [],
   "source": [
    "# import sklearn.metrics as metrics\n",
    "# mae = metrics.mean_absolute_error(y_oot_2, y_oot_pred_lgbm_2)\n",
    "# mse = metrics.mean_squared_error(y_oot_2, y_oot_pred_lgbm_2)\n",
    "# rmse = np.sqrt(mse)\n",
    "# r2 = metrics.r2_score(y_oot_2,y_oot_pred_lgbm_2)\n",
    "# X = X_tr_2.values.reshape(-1, 1)\n",
    "# y = y_tr_2.values.reshape(-1, 1)\n",
    "# adjusted_r_squared = 1 - (1-r2)*(len(y)-1)/(len(y)-X.shape[1]-1)\n",
    "# def mean_absolute_percentage_error(y_oot_2, y_oot_pred_lgbm_2): \n",
    "#     y_oot_2, y_oot_pred_lgbm_2 = np.array(y_oot_2), np.array(y_oot_pred_lgbm_2)\n",
    "#     return np.mean(sum(np.abs((y_oot_2 - y_oot_pred_lgbm_2))) / sum(y_oot_2)) * 100\n",
    "# mape = mean_absolute_percentage_error(y_oot_2, y_oot_pred_lgbm_2)\n",
    "\n",
    "# print('Results of sklearn.metrics:')\n",
    "# print(\"MAE:\",mae)\n",
    "# print(\"MSE:\", mse)\n",
    "# print(\"RMSE:\", rmse)\n",
    "# print(\"R-Squared:\", r2)\n",
    "# print(\"Adjusted R-Squared:\", adjusted_r_squared)\n",
    "# print(\"MAPE:\", mape)"
   ]
  },
  {
   "cell_type": "code",
   "execution_count": 69,
   "metadata": {},
   "outputs": [],
   "source": [
    "df_oot_pred = df_oot.filter(F.col('member_no')!='None')\n",
    "df_oot_col_pred = df_oot_pred.select(col_pred).toPandas()\n",
    "df_oot_member_no = df_oot_pred.select('member_no').toPandas()\n",
    "df_oot_col_pred = df_oot_col_pred.fillna(0)"
   ]
  },
  {
   "cell_type": "code",
   "execution_count": 70,
   "metadata": {},
   "outputs": [
    {
     "name": "stderr",
     "output_type": "stream",
     "text": [
      "/home/emr-notebook/.local/lib/python3.7/site-packages/sklearn/utils/deprecation.py:87: FutureWarning:\n",
      "\n",
      "Function get_feature_names is deprecated; get_feature_names is deprecated in 1.0 and will be removed in 1.2. Please use get_feature_names_out instead.\n",
      "\n"
     ]
    },
    {
     "ename": "MemoryError",
     "evalue": "Unable to allocate 884. MiB for an array with shape (122, 949986) and data type float64",
     "output_type": "error",
     "traceback": [
      "\u001b[0;31m---------------------------------------------------------------------------\u001b[0m",
      "\u001b[0;31mMemoryError\u001b[0m                               Traceback (most recent call last)",
      "\u001b[0;32m<ipython-input-70-e11f99bad1f9>\u001b[0m in \u001b[0;36m<module>\u001b[0;34m\u001b[0m\n\u001b[0;32m----> 1\u001b[0;31m \u001b[0mpred_oot\u001b[0m \u001b[0;34m=\u001b[0m \u001b[0mpd\u001b[0m\u001b[0;34m.\u001b[0m\u001b[0mconcat\u001b[0m\u001b[0;34m(\u001b[0m\u001b[0;34m[\u001b[0m\u001b[0mdf_oot_member_no\u001b[0m\u001b[0;34m,\u001b[0m\u001b[0mpd\u001b[0m\u001b[0;34m.\u001b[0m\u001b[0mDataFrame\u001b[0m\u001b[0;34m(\u001b[0m\u001b[0mpipeline_ev_lgbm\u001b[0m\u001b[0;34m.\u001b[0m\u001b[0mpredict_proba\u001b[0m\u001b[0;34m(\u001b[0m\u001b[0mdf_oot_col_pred\u001b[0m\u001b[0;34m)\u001b[0m\u001b[0;34m[\u001b[0m\u001b[0;34m:\u001b[0m\u001b[0;34m,\u001b[0m \u001b[0;36m1\u001b[0m\u001b[0;34m]\u001b[0m\u001b[0;34m)\u001b[0m\u001b[0;34m]\u001b[0m\u001b[0;34m,\u001b[0m\u001b[0maxis\u001b[0m\u001b[0;34m=\u001b[0m\u001b[0;36m1\u001b[0m\u001b[0;34m)\u001b[0m\u001b[0;34m\u001b[0m\u001b[0;34m\u001b[0m\u001b[0m\n\u001b[0m\u001b[1;32m      2\u001b[0m \u001b[0mpred_oot_1\u001b[0m \u001b[0;34m=\u001b[0m \u001b[0mspark\u001b[0m\u001b[0;34m.\u001b[0m\u001b[0mcreateDataFrame\u001b[0m\u001b[0;34m(\u001b[0m\u001b[0mpred_oot\u001b[0m\u001b[0;34m)\u001b[0m\u001b[0;34m.\u001b[0m\u001b[0mwithColumnRenamed\u001b[0m\u001b[0;34m(\u001b[0m\u001b[0;34m'0'\u001b[0m\u001b[0;34m,\u001b[0m\u001b[0;34m'score'\u001b[0m\u001b[0;34m)\u001b[0m\u001b[0;34m\u001b[0m\u001b[0;34m\u001b[0m\u001b[0m\n\u001b[1;32m      3\u001b[0m \u001b[0mscore_file\u001b[0m \u001b[0;34m=\u001b[0m \u001b[0mpred_oot_1\u001b[0m\u001b[0;34m.\u001b[0m\u001b[0mselect\u001b[0m\u001b[0;34m(\u001b[0m\u001b[0;34m'member_no'\u001b[0m\u001b[0;34m,\u001b[0m\u001b[0;34m'score'\u001b[0m\u001b[0;34m,\u001b[0m \u001b[0mF\u001b[0m\u001b[0;34m.\u001b[0m\u001b[0mntile\u001b[0m\u001b[0;34m(\u001b[0m\u001b[0;36m100\u001b[0m\u001b[0;34m)\u001b[0m\u001b[0;34m.\u001b[0m\u001b[0mover\u001b[0m\u001b[0;34m(\u001b[0m\u001b[0mWindow\u001b[0m\u001b[0;34m.\u001b[0m\u001b[0mpartitionBy\u001b[0m\u001b[0;34m(\u001b[0m\u001b[0;34m)\u001b[0m\u001b[0;34m.\u001b[0m\u001b[0morderBy\u001b[0m\u001b[0;34m(\u001b[0m\u001b[0mF\u001b[0m\u001b[0;34m.\u001b[0m\u001b[0masc\u001b[0m\u001b[0;34m(\u001b[0m\u001b[0;34m'score'\u001b[0m\u001b[0;34m)\u001b[0m\u001b[0;34m)\u001b[0m\u001b[0;34m)\u001b[0m\u001b[0;34m.\u001b[0m\u001b[0malias\u001b[0m\u001b[0;34m(\u001b[0m\u001b[0;34m'percentile'\u001b[0m\u001b[0;34m)\u001b[0m\u001b[0;34m)\u001b[0m\u001b[0;34m\u001b[0m\u001b[0;34m\u001b[0m\u001b[0m\n\u001b[1;32m      4\u001b[0m \u001b[0;31m# score_file_binary = score_file.join(df_oot_pred, on = 'member_no', how='inner').drop('ltv','purch_ind','outcome_event_ind')\u001b[0m\u001b[0;34m\u001b[0m\u001b[0;34m\u001b[0m\u001b[0;34m\u001b[0m\u001b[0m\n\u001b[1;32m      5\u001b[0m \u001b[0mscore_file_binary\u001b[0m \u001b[0;34m=\u001b[0m \u001b[0mscore_file\u001b[0m\u001b[0;34m.\u001b[0m\u001b[0mjoin\u001b[0m\u001b[0;34m(\u001b[0m\u001b[0mdf_oot_pred\u001b[0m\u001b[0;34m,\u001b[0m \u001b[0mon\u001b[0m \u001b[0;34m=\u001b[0m \u001b[0;34m'member_no'\u001b[0m\u001b[0;34m,\u001b[0m \u001b[0mhow\u001b[0m\u001b[0;34m=\u001b[0m\u001b[0;34m'inner'\u001b[0m\u001b[0;34m)\u001b[0m\u001b[0;34m.\u001b[0m\u001b[0mdrop\u001b[0m\u001b[0;34m(\u001b[0m\u001b[0;34m'purch_ind'\u001b[0m\u001b[0;34m,\u001b[0m\u001b[0;34m'outcome_event_ind'\u001b[0m\u001b[0;34m)\u001b[0m\u001b[0;34m\u001b[0m\u001b[0;34m\u001b[0m\u001b[0m\n",
      "\u001b[0;32m~/.local/lib/python3.7/site-packages/sklearn/utils/metaestimators.py\u001b[0m in \u001b[0;36m<lambda>\u001b[0;34m(*args, **kwargs)\u001b[0m\n\u001b[1;32m    111\u001b[0m \u001b[0;34m\u001b[0m\u001b[0m\n\u001b[1;32m    112\u001b[0m             \u001b[0;31m# lambda, but not partial, allows help() to work with update_wrapper\u001b[0m\u001b[0;34m\u001b[0m\u001b[0;34m\u001b[0m\u001b[0;34m\u001b[0m\u001b[0m\n\u001b[0;32m--> 113\u001b[0;31m             \u001b[0mout\u001b[0m \u001b[0;34m=\u001b[0m \u001b[0;32mlambda\u001b[0m \u001b[0;34m*\u001b[0m\u001b[0margs\u001b[0m\u001b[0;34m,\u001b[0m \u001b[0;34m**\u001b[0m\u001b[0mkwargs\u001b[0m\u001b[0;34m:\u001b[0m \u001b[0mself\u001b[0m\u001b[0;34m.\u001b[0m\u001b[0mfn\u001b[0m\u001b[0;34m(\u001b[0m\u001b[0mobj\u001b[0m\u001b[0;34m,\u001b[0m \u001b[0;34m*\u001b[0m\u001b[0margs\u001b[0m\u001b[0;34m,\u001b[0m \u001b[0;34m**\u001b[0m\u001b[0mkwargs\u001b[0m\u001b[0;34m)\u001b[0m  \u001b[0;31m# noqa\u001b[0m\u001b[0;34m\u001b[0m\u001b[0;34m\u001b[0m\u001b[0m\n\u001b[0m\u001b[1;32m    114\u001b[0m         \u001b[0;32melse\u001b[0m\u001b[0;34m:\u001b[0m\u001b[0;34m\u001b[0m\u001b[0;34m\u001b[0m\u001b[0m\n\u001b[1;32m    115\u001b[0m \u001b[0;34m\u001b[0m\u001b[0m\n",
      "\u001b[0;32m~/.local/lib/python3.7/site-packages/sklearn/pipeline.py\u001b[0m in \u001b[0;36mpredict_proba\u001b[0;34m(self, X, **predict_proba_params)\u001b[0m\n\u001b[1;32m    533\u001b[0m         \u001b[0mXt\u001b[0m \u001b[0;34m=\u001b[0m \u001b[0mX\u001b[0m\u001b[0;34m\u001b[0m\u001b[0;34m\u001b[0m\u001b[0m\n\u001b[1;32m    534\u001b[0m         \u001b[0;32mfor\u001b[0m \u001b[0m_\u001b[0m\u001b[0;34m,\u001b[0m \u001b[0mname\u001b[0m\u001b[0;34m,\u001b[0m \u001b[0mtransform\u001b[0m \u001b[0;32min\u001b[0m \u001b[0mself\u001b[0m\u001b[0;34m.\u001b[0m\u001b[0m_iter\u001b[0m\u001b[0;34m(\u001b[0m\u001b[0mwith_final\u001b[0m\u001b[0;34m=\u001b[0m\u001b[0;32mFalse\u001b[0m\u001b[0;34m)\u001b[0m\u001b[0;34m:\u001b[0m\u001b[0;34m\u001b[0m\u001b[0;34m\u001b[0m\u001b[0m\n\u001b[0;32m--> 535\u001b[0;31m             \u001b[0mXt\u001b[0m \u001b[0;34m=\u001b[0m \u001b[0mtransform\u001b[0m\u001b[0;34m.\u001b[0m\u001b[0mtransform\u001b[0m\u001b[0;34m(\u001b[0m\u001b[0mXt\u001b[0m\u001b[0;34m)\u001b[0m\u001b[0;34m\u001b[0m\u001b[0;34m\u001b[0m\u001b[0m\n\u001b[0m\u001b[1;32m    536\u001b[0m         \u001b[0;32mreturn\u001b[0m \u001b[0mself\u001b[0m\u001b[0;34m.\u001b[0m\u001b[0msteps\u001b[0m\u001b[0;34m[\u001b[0m\u001b[0;34m-\u001b[0m\u001b[0;36m1\u001b[0m\u001b[0;34m]\u001b[0m\u001b[0;34m[\u001b[0m\u001b[0;36m1\u001b[0m\u001b[0;34m]\u001b[0m\u001b[0;34m.\u001b[0m\u001b[0mpredict_proba\u001b[0m\u001b[0;34m(\u001b[0m\u001b[0mXt\u001b[0m\u001b[0;34m,\u001b[0m \u001b[0;34m**\u001b[0m\u001b[0mpredict_proba_params\u001b[0m\u001b[0;34m)\u001b[0m\u001b[0;34m\u001b[0m\u001b[0;34m\u001b[0m\u001b[0m\n\u001b[1;32m    537\u001b[0m \u001b[0;34m\u001b[0m\u001b[0m\n",
      "\u001b[0;32m<ipython-input-40-9c48ee73e4a6>\u001b[0m in \u001b[0;36mtransform\u001b[0;34m(self, X, y)\u001b[0m\n\u001b[1;32m     14\u001b[0m         \u001b[0mX_oh\u001b[0m\u001b[0;34m=\u001b[0m\u001b[0mpd\u001b[0m\u001b[0;34m.\u001b[0m\u001b[0mDataFrame\u001b[0m\u001b[0;34m(\u001b[0m\u001b[0mX_sparse\u001b[0m\u001b[0;34m,\u001b[0m \u001b[0mcolumns\u001b[0m\u001b[0;34m=\u001b[0m\u001b[0mself\u001b[0m\u001b[0;34m.\u001b[0m\u001b[0menc\u001b[0m\u001b[0;34m.\u001b[0m\u001b[0mget_feature_names\u001b[0m\u001b[0;34m(\u001b[0m\u001b[0mself\u001b[0m\u001b[0;34m.\u001b[0m\u001b[0mcol_to_code\u001b[0m\u001b[0;34m)\u001b[0m\u001b[0;34m)\u001b[0m\u001b[0;34m.\u001b[0m\u001b[0mreset_index\u001b[0m\u001b[0;34m(\u001b[0m\u001b[0mdrop\u001b[0m\u001b[0;34m=\u001b[0m\u001b[0;32mTrue\u001b[0m\u001b[0;34m)\u001b[0m\u001b[0;34m\u001b[0m\u001b[0;34m\u001b[0m\u001b[0m\n\u001b[1;32m     15\u001b[0m         \u001b[0;31m# print(X_oh)\u001b[0m\u001b[0;34m\u001b[0m\u001b[0;34m\u001b[0m\u001b[0;34m\u001b[0m\u001b[0m\n\u001b[0;32m---> 16\u001b[0;31m         \u001b[0mX_dropped\u001b[0m\u001b[0;34m=\u001b[0m\u001b[0mX\u001b[0m\u001b[0;34m.\u001b[0m\u001b[0mdrop\u001b[0m\u001b[0;34m(\u001b[0m\u001b[0mcolumns\u001b[0m\u001b[0;34m=\u001b[0m\u001b[0mself\u001b[0m\u001b[0;34m.\u001b[0m\u001b[0mcol_to_code\u001b[0m\u001b[0;34m)\u001b[0m\u001b[0;34m.\u001b[0m\u001b[0mreset_index\u001b[0m\u001b[0;34m(\u001b[0m\u001b[0mdrop\u001b[0m\u001b[0;34m=\u001b[0m\u001b[0;32mTrue\u001b[0m\u001b[0;34m)\u001b[0m\u001b[0;34m\u001b[0m\u001b[0;34m\u001b[0m\u001b[0m\n\u001b[0m\u001b[1;32m     17\u001b[0m         \u001b[0mX_res\u001b[0m\u001b[0;34m=\u001b[0m\u001b[0mpd\u001b[0m\u001b[0;34m.\u001b[0m\u001b[0mconcat\u001b[0m\u001b[0;34m(\u001b[0m\u001b[0;34m[\u001b[0m\u001b[0mX_dropped\u001b[0m\u001b[0;34m,\u001b[0m \u001b[0mX_oh\u001b[0m\u001b[0;34m]\u001b[0m\u001b[0;34m,\u001b[0m \u001b[0maxis\u001b[0m\u001b[0;34m=\u001b[0m\u001b[0;36m1\u001b[0m\u001b[0;34m,\u001b[0m  \u001b[0mignore_index\u001b[0m\u001b[0;34m=\u001b[0m\u001b[0;32mTrue\u001b[0m\u001b[0;34m)\u001b[0m\u001b[0;34m\u001b[0m\u001b[0;34m\u001b[0m\u001b[0m\n\u001b[1;32m     18\u001b[0m         \u001b[0;32mreturn\u001b[0m \u001b[0mX_res\u001b[0m\u001b[0;34m\u001b[0m\u001b[0;34m\u001b[0m\u001b[0m\n",
      "\u001b[0;32m/emr/notebook-env/lib/python3.7/site-packages/pandas/core/frame.py\u001b[0m in \u001b[0;36mreset_index\u001b[0;34m(self, level, drop, inplace, col_level, col_fill)\u001b[0m\n\u001b[1;32m   4969\u001b[0m             \u001b[0mnew_obj\u001b[0m \u001b[0;34m=\u001b[0m \u001b[0mself\u001b[0m\u001b[0;34m\u001b[0m\u001b[0;34m\u001b[0m\u001b[0m\n\u001b[1;32m   4970\u001b[0m         \u001b[0;32melse\u001b[0m\u001b[0;34m:\u001b[0m\u001b[0;34m\u001b[0m\u001b[0;34m\u001b[0m\u001b[0m\n\u001b[0;32m-> 4971\u001b[0;31m             \u001b[0mnew_obj\u001b[0m \u001b[0;34m=\u001b[0m \u001b[0mself\u001b[0m\u001b[0;34m.\u001b[0m\u001b[0mcopy\u001b[0m\u001b[0;34m(\u001b[0m\u001b[0;34m)\u001b[0m\u001b[0;34m\u001b[0m\u001b[0;34m\u001b[0m\u001b[0m\n\u001b[0m\u001b[1;32m   4972\u001b[0m \u001b[0;34m\u001b[0m\u001b[0m\n\u001b[1;32m   4973\u001b[0m         \u001b[0mnew_index\u001b[0m \u001b[0;34m=\u001b[0m \u001b[0mibase\u001b[0m\u001b[0;34m.\u001b[0m\u001b[0mdefault_index\u001b[0m\u001b[0;34m(\u001b[0m\u001b[0mlen\u001b[0m\u001b[0;34m(\u001b[0m\u001b[0mnew_obj\u001b[0m\u001b[0;34m)\u001b[0m\u001b[0;34m)\u001b[0m\u001b[0;34m\u001b[0m\u001b[0;34m\u001b[0m\u001b[0m\n",
      "\u001b[0;32m/emr/notebook-env/lib/python3.7/site-packages/pandas/core/generic.py\u001b[0m in \u001b[0;36mcopy\u001b[0;34m(self, deep)\u001b[0m\n\u001b[1;32m   5993\u001b[0m         \u001b[0mdtype\u001b[0m\u001b[0;34m:\u001b[0m \u001b[0mobject\u001b[0m\u001b[0;34m\u001b[0m\u001b[0;34m\u001b[0m\u001b[0m\n\u001b[1;32m   5994\u001b[0m         \"\"\"\n\u001b[0;32m-> 5995\u001b[0;31m         \u001b[0mdata\u001b[0m \u001b[0;34m=\u001b[0m \u001b[0mself\u001b[0m\u001b[0;34m.\u001b[0m\u001b[0m_mgr\u001b[0m\u001b[0;34m.\u001b[0m\u001b[0mcopy\u001b[0m\u001b[0;34m(\u001b[0m\u001b[0mdeep\u001b[0m\u001b[0;34m=\u001b[0m\u001b[0mdeep\u001b[0m\u001b[0;34m)\u001b[0m\u001b[0;34m\u001b[0m\u001b[0;34m\u001b[0m\u001b[0m\n\u001b[0m\u001b[1;32m   5996\u001b[0m         \u001b[0mself\u001b[0m\u001b[0;34m.\u001b[0m\u001b[0m_clear_item_cache\u001b[0m\u001b[0;34m(\u001b[0m\u001b[0;34m)\u001b[0m\u001b[0;34m\u001b[0m\u001b[0;34m\u001b[0m\u001b[0m\n\u001b[1;32m   5997\u001b[0m         \u001b[0;32mreturn\u001b[0m \u001b[0mself\u001b[0m\u001b[0;34m.\u001b[0m\u001b[0m_constructor\u001b[0m\u001b[0;34m(\u001b[0m\u001b[0mdata\u001b[0m\u001b[0;34m)\u001b[0m\u001b[0;34m.\u001b[0m\u001b[0m__finalize__\u001b[0m\u001b[0;34m(\u001b[0m\u001b[0mself\u001b[0m\u001b[0;34m,\u001b[0m \u001b[0mmethod\u001b[0m\u001b[0;34m=\u001b[0m\u001b[0;34m\"copy\"\u001b[0m\u001b[0;34m)\u001b[0m\u001b[0;34m\u001b[0m\u001b[0;34m\u001b[0m\u001b[0m\n",
      "\u001b[0;32m/emr/notebook-env/lib/python3.7/site-packages/pandas/core/internals/managers.py\u001b[0m in \u001b[0;36mcopy\u001b[0;34m(self, deep)\u001b[0m\n\u001b[1;32m    819\u001b[0m             \u001b[0mnew_axes\u001b[0m \u001b[0;34m=\u001b[0m \u001b[0mlist\u001b[0m\u001b[0;34m(\u001b[0m\u001b[0mself\u001b[0m\u001b[0;34m.\u001b[0m\u001b[0maxes\u001b[0m\u001b[0;34m)\u001b[0m\u001b[0;34m\u001b[0m\u001b[0;34m\u001b[0m\u001b[0m\n\u001b[1;32m    820\u001b[0m \u001b[0;34m\u001b[0m\u001b[0m\n\u001b[0;32m--> 821\u001b[0;31m         \u001b[0mres\u001b[0m \u001b[0;34m=\u001b[0m \u001b[0mself\u001b[0m\u001b[0;34m.\u001b[0m\u001b[0mapply\u001b[0m\u001b[0;34m(\u001b[0m\u001b[0;34m\"copy\"\u001b[0m\u001b[0;34m,\u001b[0m \u001b[0mdeep\u001b[0m\u001b[0;34m=\u001b[0m\u001b[0mdeep\u001b[0m\u001b[0;34m)\u001b[0m\u001b[0;34m\u001b[0m\u001b[0;34m\u001b[0m\u001b[0m\n\u001b[0m\u001b[1;32m    822\u001b[0m         \u001b[0mres\u001b[0m\u001b[0;34m.\u001b[0m\u001b[0maxes\u001b[0m \u001b[0;34m=\u001b[0m \u001b[0mnew_axes\u001b[0m\u001b[0;34m\u001b[0m\u001b[0;34m\u001b[0m\u001b[0m\n\u001b[1;32m    823\u001b[0m         \u001b[0;32mreturn\u001b[0m \u001b[0mres\u001b[0m\u001b[0;34m\u001b[0m\u001b[0;34m\u001b[0m\u001b[0m\n",
      "\u001b[0;32m/emr/notebook-env/lib/python3.7/site-packages/pandas/core/internals/managers.py\u001b[0m in \u001b[0;36mapply\u001b[0;34m(self, f, align_keys, ignore_failures, **kwargs)\u001b[0m\n\u001b[1;32m    425\u001b[0m                     \u001b[0mapplied\u001b[0m \u001b[0;34m=\u001b[0m \u001b[0mb\u001b[0m\u001b[0;34m.\u001b[0m\u001b[0mapply\u001b[0m\u001b[0;34m(\u001b[0m\u001b[0mf\u001b[0m\u001b[0;34m,\u001b[0m \u001b[0;34m**\u001b[0m\u001b[0mkwargs\u001b[0m\u001b[0;34m)\u001b[0m\u001b[0;34m\u001b[0m\u001b[0;34m\u001b[0m\u001b[0m\n\u001b[1;32m    426\u001b[0m                 \u001b[0;32melse\u001b[0m\u001b[0;34m:\u001b[0m\u001b[0;34m\u001b[0m\u001b[0;34m\u001b[0m\u001b[0m\n\u001b[0;32m--> 427\u001b[0;31m                     \u001b[0mapplied\u001b[0m \u001b[0;34m=\u001b[0m \u001b[0mgetattr\u001b[0m\u001b[0;34m(\u001b[0m\u001b[0mb\u001b[0m\u001b[0;34m,\u001b[0m \u001b[0mf\u001b[0m\u001b[0;34m)\u001b[0m\u001b[0;34m(\u001b[0m\u001b[0;34m**\u001b[0m\u001b[0mkwargs\u001b[0m\u001b[0;34m)\u001b[0m\u001b[0;34m\u001b[0m\u001b[0;34m\u001b[0m\u001b[0m\n\u001b[0m\u001b[1;32m    428\u001b[0m             \u001b[0;32mexcept\u001b[0m \u001b[0;34m(\u001b[0m\u001b[0mTypeError\u001b[0m\u001b[0;34m,\u001b[0m \u001b[0mNotImplementedError\u001b[0m\u001b[0;34m)\u001b[0m\u001b[0;34m:\u001b[0m\u001b[0;34m\u001b[0m\u001b[0;34m\u001b[0m\u001b[0m\n\u001b[1;32m    429\u001b[0m                 \u001b[0;32mif\u001b[0m \u001b[0;32mnot\u001b[0m \u001b[0mignore_failures\u001b[0m\u001b[0;34m:\u001b[0m\u001b[0;34m\u001b[0m\u001b[0;34m\u001b[0m\u001b[0m\n",
      "\u001b[0;32m/emr/notebook-env/lib/python3.7/site-packages/pandas/core/internals/blocks.py\u001b[0m in \u001b[0;36mcopy\u001b[0;34m(self, deep)\u001b[0m\n\u001b[1;32m    754\u001b[0m         \u001b[0mvalues\u001b[0m \u001b[0;34m=\u001b[0m \u001b[0mself\u001b[0m\u001b[0;34m.\u001b[0m\u001b[0mvalues\u001b[0m\u001b[0;34m\u001b[0m\u001b[0;34m\u001b[0m\u001b[0m\n\u001b[1;32m    755\u001b[0m         \u001b[0;32mif\u001b[0m \u001b[0mdeep\u001b[0m\u001b[0;34m:\u001b[0m\u001b[0;34m\u001b[0m\u001b[0;34m\u001b[0m\u001b[0m\n\u001b[0;32m--> 756\u001b[0;31m             \u001b[0mvalues\u001b[0m \u001b[0;34m=\u001b[0m \u001b[0mvalues\u001b[0m\u001b[0;34m.\u001b[0m\u001b[0mcopy\u001b[0m\u001b[0;34m(\u001b[0m\u001b[0;34m)\u001b[0m\u001b[0;34m\u001b[0m\u001b[0;34m\u001b[0m\u001b[0m\n\u001b[0m\u001b[1;32m    757\u001b[0m         \u001b[0;32mreturn\u001b[0m \u001b[0mself\u001b[0m\u001b[0;34m.\u001b[0m\u001b[0mmake_block_same_class\u001b[0m\u001b[0;34m(\u001b[0m\u001b[0mvalues\u001b[0m\u001b[0;34m,\u001b[0m \u001b[0mndim\u001b[0m\u001b[0;34m=\u001b[0m\u001b[0mself\u001b[0m\u001b[0;34m.\u001b[0m\u001b[0mndim\u001b[0m\u001b[0;34m)\u001b[0m\u001b[0;34m\u001b[0m\u001b[0;34m\u001b[0m\u001b[0m\n\u001b[1;32m    758\u001b[0m \u001b[0;34m\u001b[0m\u001b[0m\n",
      "\u001b[0;31mMemoryError\u001b[0m: Unable to allocate 884. MiB for an array with shape (122, 949986) and data type float64"
     ]
    }
   ],
   "source": [
    "pred_oot = pd.concat([df_oot_member_no,pd.DataFrame(pipeline_ev_lgbm.predict_proba(df_oot_col_pred)[:, 1])],axis=1)\n",
    "pred_oot_1 = spark.createDataFrame(pred_oot).withColumnRenamed('0','score')\n",
    "score_file = pred_oot_1.select('member_no','score', F.ntile(100).over(Window.partitionBy().orderBy(F.asc('score'))).alias('percentile'))\n",
    "# score_file_binary = score_file.join(df_oot_pred, on = 'member_no', how='inner').drop('ltv','purch_ind','outcome_event_ind')\n",
    "score_file_binary = score_file.join(df_oot_pred, on = 'member_no', how='inner').drop('purch_ind','outcome_event_ind')"
   ]
  },
  {
   "cell_type": "code",
   "execution_count": null,
   "metadata": {},
   "outputs": [],
   "source": [
    "score_file_reg = score_file_binary.filter(F.col('percentile')<=20)\n",
    "score_file_col_pred = score_file_reg.select(col_pred).toPandas()\n",
    "score_file_member_no = score_file_reg.select('member_no').toPandas()\n",
    "score_file_col_pred = score_file_col_pred.fillna(0)\n",
    "df_reg = pd.concat([score_file_member_no,pd.DataFrame(pipeline_ev_lgbm_2.predict(score_file_col_pred))],axis=1).fillna(0)"
   ]
  },
  {
   "cell_type": "code",
   "execution_count": null,
   "metadata": {},
   "outputs": [],
   "source": [
    "df_regression = spark.createDataFrame(df_reg).withColumnRenamed('0','predicted_ltv')\n",
    "score_file_final = score_file_binary.join(df_regression, on='member_no',how='left').fillna(0,subset=['predicted_ltv'])\n",
    "score_file_final.write.mode('overwrite').saveAsTable('default.lego_data_analysis')"
   ]
  },
  {
   "cell_type": "code",
   "execution_count": null,
   "metadata": {},
   "outputs": [],
   "source": []
  },
  {
   "cell_type": "code",
   "execution_count": null,
   "metadata": {},
   "outputs": [],
   "source": [
    "#regression (check spearman correlation)\n",
    "#cumulative gain curve and auc(without pca check model performance)\n",
    "#apply some automl, parameter tuning \n",
    "#check score logic , (probability * ltv )\n",
    "#new features\n",
    "score_file_final = score_file_binary.join(df_regression, on='member_no',how='left').fillna(0,subset=['ltv'])\\\n",
    "                            .withColumnRenamed('score','probability')\\\n",
    "                            .withColumnRenamed('percentile','probability_percentile')\\\n",
    "                            .withColumn('money', when(F.col('probability_percentile')<=10, F.col('ltv')).otherwise(F.lit(0)))\\\n",
    "                            .withColumn('money_percentile', F.ntile(100).over(Window.partitionBy().orderBy(F.asc('money'))))\\\n",
    "                            .withColumn('score', F.col('probability_percentile')*0.8+F.col('money_percentile')*0.2)\\\n",
    "                            .drop('ltv')"
   ]
  },
  {
   "cell_type": "code",
   "execution_count": null,
   "metadata": {},
   "outputs": [],
   "source": [
    "score_file_final.select('member_no','score')\\\n",
    "            .write\\\n",
    "            .mode('overwrite').format('csv').save('hdfs://172.20.37.126:8020/user/hive/warehouse/default.db/lego_customer_score_file_oot')"
   ]
  },
  {
   "cell_type": "code",
   "execution_count": null,
   "metadata": {
    "scrolled": true
   },
   "outputs": [],
   "source": [
    "result_lgbm_tr = permutation_importance(pipeline_ev_lgbm_2, X_tr_2, y_tr_2, n_repeats=var_impr_repeat, random_state=0, n_jobs=-1)\n",
    "sorted_idx_lgbm_tr = result_lgbm_tr.importances_mean.argsort()\n",
    "\n",
    "result_lgbm_ts = permutation_importance(pipeline_ev_lgbm_2, X_ts_2, y_ts_2, n_repeats=var_impr_repeat, random_state=0, n_jobs=-1)\n",
    "sorted_idx_lgbm_ts = result_lgbm_ts.importances_mean.argsort()"
   ]
  },
  {
   "cell_type": "code",
   "execution_count": null,
   "metadata": {},
   "outputs": [],
   "source": [
    "# fig, ax = plt.subplots(figsize=(20,5))\n",
    "fig, ax = plt.subplots(figsize=(15,5))\n",
    "_=ax.boxplot(result_lgbm_tr.importances[sorted_idx_lgbm_tr[(-num_var_to_show):]].T,\n",
    "           vert=False, labels=X_tr_2.columns[sorted_idx_lgbm_tr[(-num_var_to_show):]])\n",
    "_=ax.set_title(\"Permutation Importances (training set)\")\n",
    "fig.tight_layout()\n",
    "# plt.show()\n",
    "\n",
    "fig, ax = plt.subplots(figsize=(15,5))\n",
    "_=ax.boxplot(result_lgbm_ts.importances[sorted_idx_lgbm_ts[(-num_var_to_show):]].T,\n",
    "           vert=False, labels=X_ts_2.columns[sorted_idx_lgbm_ts[(-num_var_to_show):]])\n",
    "fig.tight_layout()\n",
    "# plt.show()"
   ]
  },
  {
   "cell_type": "code",
   "execution_count": null,
   "metadata": {},
   "outputs": [],
   "source": [
    "result_lgbm_tr = permutation_importance(pipeline_ev_lgbm_2, X_tr_2, y_tr_2, n_repeats=2, random_state=0, n_jobs=-1)\n",
    "sorted_idx_lgbm_tr = result_lgbm_tr.importances_mean.argsort()\n",
    "\n",
    "result_lgbm_ts = permutation_importance(pipeline_ev_lgbm_2, X_ts_2, y_ts_2, n_repeats=2, random_state=0, n_jobs=-1)\n",
    "sorted_idx_lgbm_ts = result_lgbm_ts.importances_mean.argsort()"
   ]
  },
  {
   "cell_type": "code",
   "execution_count": null,
   "metadata": {},
   "outputs": [],
   "source": [
    "# fig, ax = plt.subplots(figsize=(20,5))\n",
    "fig, ax = plt.subplots(figsize=(15,5))\n",
    "_=ax.boxplot(result_lgbm_tr.importances[sorted_idx_lgbm_tr[(-num_var_to_show):]].T,\n",
    "           vert=False, labels=X_tr.columns[sorted_idx_lgbm_tr[(-num_var_to_show):]])\n",
    "_=ax.set_title(\"Permutation Importances (training set)\")\n",
    "fig.tight_layout()\n",
    "# plt.show()\n",
    "\n",
    "fig, ax = plt.subplots(figsize=(15,5))\n",
    "_=ax.boxplot(result_lgbm_ts.importances[sorted_idx_lgbm_ts[(-num_var_to_show):]].T,\n",
    "           vert=False, labels=X_ts.columns[sorted_idx_lgbm_ts[(-num_var_to_show):]])\n",
    "fig.tight_layout()\n",
    "# plt.show()"
   ]
  },
  {
   "cell_type": "code",
   "execution_count": null,
   "metadata": {},
   "outputs": [],
   "source": []
  },
  {
   "cell_type": "code",
   "execution_count": null,
   "metadata": {},
   "outputs": [],
   "source": [
    "test2 = test.withColumn('tier',when(F.col('spend_year')>=5000,F.lit('tier3'))\\\n",
    "                                .when((F.col('spend_year')<5000) & (F.col('spend_year')>=1000),F.lit('tier2'))\\\n",
    "                                .when((F.col('spend_year')<1000) & (F.col('spend_year')>=1),F.lit('tier1'))\\\n",
    "                                .otherwise(F.lit('tier0')))\\\n",
    "            .withColumn('tier_after',when(F.col('ltv')>=2500,F.lit('tier3'))\\\n",
    "                                .when((F.col('ltv')<2500) & (F.col('ltv')>=500),F.lit('tier2'))\\\n",
    "                                .when((F.col('ltv')<500) & (F.col('ltv')>=1),F.lit('tier1'))\\\n",
    "                                .otherwise(F.lit('tier0')))"
   ]
  },
  {
   "cell_type": "code",
   "execution_count": null,
   "metadata": {},
   "outputs": [],
   "source": []
  }
 ],
 "metadata": {
  "celltoolbar": "Tags",
  "kernelspec": {
   "display_name": "Python 3",
   "language": "python",
   "name": "python3"
  },
  "language_info": {
   "codemirror_mode": {
    "name": "ipython",
    "version": 3
   },
   "file_extension": ".py",
   "mimetype": "text/x-python",
   "name": "python",
   "nbconvert_exporter": "python",
   "pygments_lexer": "ipython3",
   "version": "3.7.4"
  }
 },
 "nbformat": 4,
 "nbformat_minor": 4
}
